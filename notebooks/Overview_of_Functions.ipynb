{
  "nbformat": 4,
  "nbformat_minor": 0,
  "metadata": {
    "colab": {
      "name": "Overview of Functions.ipynb",
      "provenance": [],
      "collapsed_sections": [],
      "toc_visible": true
    },
    "kernelspec": {
      "name": "python3",
      "display_name": "Python 3"
    },
    "accelerator": "GPU",
    "widgets": {
      "application/vnd.jupyter.widget-state+json": {
        "f9a51edd73064c6c89d2ed80c8263401": {
          "model_module": "@jupyter-widgets/controls",
          "model_name": "HBoxModel",
          "state": {
            "_view_name": "HBoxView",
            "_dom_classes": [],
            "_model_name": "HBoxModel",
            "_view_module": "@jupyter-widgets/controls",
            "_model_module_version": "1.5.0",
            "_view_count": null,
            "_view_module_version": "1.5.0",
            "box_style": "",
            "layout": "IPY_MODEL_0848c1832861446daf9be5b1e4276bd2",
            "_model_module": "@jupyter-widgets/controls",
            "children": [
              "IPY_MODEL_f2d7755fc480432d8aba73aeaf1570e4",
              "IPY_MODEL_0ddab417dea04519ab34ceca516fe6f7"
            ]
          }
        },
        "0848c1832861446daf9be5b1e4276bd2": {
          "model_module": "@jupyter-widgets/base",
          "model_name": "LayoutModel",
          "state": {
            "_view_name": "LayoutView",
            "grid_template_rows": null,
            "right": null,
            "justify_content": null,
            "_view_module": "@jupyter-widgets/base",
            "overflow": null,
            "_model_module_version": "1.2.0",
            "_view_count": null,
            "flex_flow": null,
            "width": null,
            "min_width": null,
            "border": null,
            "align_items": null,
            "bottom": null,
            "_model_module": "@jupyter-widgets/base",
            "top": null,
            "grid_column": null,
            "overflow_y": null,
            "overflow_x": null,
            "grid_auto_flow": null,
            "grid_area": null,
            "grid_template_columns": null,
            "flex": null,
            "_model_name": "LayoutModel",
            "justify_items": null,
            "grid_row": null,
            "max_height": null,
            "align_content": null,
            "visibility": null,
            "align_self": null,
            "height": null,
            "min_height": null,
            "padding": null,
            "grid_auto_rows": null,
            "grid_gap": null,
            "max_width": null,
            "order": null,
            "_view_module_version": "1.2.0",
            "grid_template_areas": null,
            "object_position": null,
            "object_fit": null,
            "grid_auto_columns": null,
            "margin": null,
            "display": null,
            "left": null
          }
        },
        "f2d7755fc480432d8aba73aeaf1570e4": {
          "model_module": "@jupyter-widgets/controls",
          "model_name": "IntProgressModel",
          "state": {
            "_view_name": "ProgressView",
            "style": "IPY_MODEL_1cadae23707f4d128aef04d70e01b68d",
            "_dom_classes": [],
            "description": "Downloading: 100%",
            "_model_name": "IntProgressModel",
            "bar_style": "success",
            "max": 1042301,
            "_view_module": "@jupyter-widgets/controls",
            "_model_module_version": "1.5.0",
            "value": 1042301,
            "_view_count": null,
            "_view_module_version": "1.5.0",
            "orientation": "horizontal",
            "min": 0,
            "description_tooltip": null,
            "_model_module": "@jupyter-widgets/controls",
            "layout": "IPY_MODEL_9f8397d106004e86813bd6d5ad6033fe"
          }
        },
        "0ddab417dea04519ab34ceca516fe6f7": {
          "model_module": "@jupyter-widgets/controls",
          "model_name": "HTMLModel",
          "state": {
            "_view_name": "HTMLView",
            "style": "IPY_MODEL_ce7862a71b3948c1b69d969a5b18e4b2",
            "_dom_classes": [],
            "description": "",
            "_model_name": "HTMLModel",
            "placeholder": "​",
            "_view_module": "@jupyter-widgets/controls",
            "_model_module_version": "1.5.0",
            "value": " 1.04M/1.04M [00:01&lt;00:00, 581kB/s]",
            "_view_count": null,
            "_view_module_version": "1.5.0",
            "description_tooltip": null,
            "_model_module": "@jupyter-widgets/controls",
            "layout": "IPY_MODEL_f8cd60e0c1d1489ab32e1d5109aa2618"
          }
        },
        "1cadae23707f4d128aef04d70e01b68d": {
          "model_module": "@jupyter-widgets/controls",
          "model_name": "ProgressStyleModel",
          "state": {
            "_view_name": "StyleView",
            "_model_name": "ProgressStyleModel",
            "description_width": "initial",
            "_view_module": "@jupyter-widgets/base",
            "_model_module_version": "1.5.0",
            "_view_count": null,
            "_view_module_version": "1.2.0",
            "bar_color": null,
            "_model_module": "@jupyter-widgets/controls"
          }
        },
        "9f8397d106004e86813bd6d5ad6033fe": {
          "model_module": "@jupyter-widgets/base",
          "model_name": "LayoutModel",
          "state": {
            "_view_name": "LayoutView",
            "grid_template_rows": null,
            "right": null,
            "justify_content": null,
            "_view_module": "@jupyter-widgets/base",
            "overflow": null,
            "_model_module_version": "1.2.0",
            "_view_count": null,
            "flex_flow": null,
            "width": null,
            "min_width": null,
            "border": null,
            "align_items": null,
            "bottom": null,
            "_model_module": "@jupyter-widgets/base",
            "top": null,
            "grid_column": null,
            "overflow_y": null,
            "overflow_x": null,
            "grid_auto_flow": null,
            "grid_area": null,
            "grid_template_columns": null,
            "flex": null,
            "_model_name": "LayoutModel",
            "justify_items": null,
            "grid_row": null,
            "max_height": null,
            "align_content": null,
            "visibility": null,
            "align_self": null,
            "height": null,
            "min_height": null,
            "padding": null,
            "grid_auto_rows": null,
            "grid_gap": null,
            "max_width": null,
            "order": null,
            "_view_module_version": "1.2.0",
            "grid_template_areas": null,
            "object_position": null,
            "object_fit": null,
            "grid_auto_columns": null,
            "margin": null,
            "display": null,
            "left": null
          }
        },
        "ce7862a71b3948c1b69d969a5b18e4b2": {
          "model_module": "@jupyter-widgets/controls",
          "model_name": "DescriptionStyleModel",
          "state": {
            "_view_name": "StyleView",
            "_model_name": "DescriptionStyleModel",
            "description_width": "",
            "_view_module": "@jupyter-widgets/base",
            "_model_module_version": "1.5.0",
            "_view_count": null,
            "_view_module_version": "1.2.0",
            "_model_module": "@jupyter-widgets/controls"
          }
        },
        "f8cd60e0c1d1489ab32e1d5109aa2618": {
          "model_module": "@jupyter-widgets/base",
          "model_name": "LayoutModel",
          "state": {
            "_view_name": "LayoutView",
            "grid_template_rows": null,
            "right": null,
            "justify_content": null,
            "_view_module": "@jupyter-widgets/base",
            "overflow": null,
            "_model_module_version": "1.2.0",
            "_view_count": null,
            "flex_flow": null,
            "width": null,
            "min_width": null,
            "border": null,
            "align_items": null,
            "bottom": null,
            "_model_module": "@jupyter-widgets/base",
            "top": null,
            "grid_column": null,
            "overflow_y": null,
            "overflow_x": null,
            "grid_auto_flow": null,
            "grid_area": null,
            "grid_template_columns": null,
            "flex": null,
            "_model_name": "LayoutModel",
            "justify_items": null,
            "grid_row": null,
            "max_height": null,
            "align_content": null,
            "visibility": null,
            "align_self": null,
            "height": null,
            "min_height": null,
            "padding": null,
            "grid_auto_rows": null,
            "grid_gap": null,
            "max_width": null,
            "order": null,
            "_view_module_version": "1.2.0",
            "grid_template_areas": null,
            "object_position": null,
            "object_fit": null,
            "grid_auto_columns": null,
            "margin": null,
            "display": null,
            "left": null
          }
        },
        "ac6e7f63dbf344a68b2aa291fde1858c": {
          "model_module": "@jupyter-widgets/controls",
          "model_name": "HBoxModel",
          "state": {
            "_view_name": "HBoxView",
            "_dom_classes": [],
            "_model_name": "HBoxModel",
            "_view_module": "@jupyter-widgets/controls",
            "_model_module_version": "1.5.0",
            "_view_count": null,
            "_view_module_version": "1.5.0",
            "box_style": "",
            "layout": "IPY_MODEL_4eea1b79a31f4cda9a2539b7ac3c40f8",
            "_model_module": "@jupyter-widgets/controls",
            "children": [
              "IPY_MODEL_8a140c6089d74196aff31a2b676c11da",
              "IPY_MODEL_9520b915fe1f4013b3cda92450b634c1"
            ]
          }
        },
        "4eea1b79a31f4cda9a2539b7ac3c40f8": {
          "model_module": "@jupyter-widgets/base",
          "model_name": "LayoutModel",
          "state": {
            "_view_name": "LayoutView",
            "grid_template_rows": null,
            "right": null,
            "justify_content": null,
            "_view_module": "@jupyter-widgets/base",
            "overflow": null,
            "_model_module_version": "1.2.0",
            "_view_count": null,
            "flex_flow": null,
            "width": null,
            "min_width": null,
            "border": null,
            "align_items": null,
            "bottom": null,
            "_model_module": "@jupyter-widgets/base",
            "top": null,
            "grid_column": null,
            "overflow_y": null,
            "overflow_x": null,
            "grid_auto_flow": null,
            "grid_area": null,
            "grid_template_columns": null,
            "flex": null,
            "_model_name": "LayoutModel",
            "justify_items": null,
            "grid_row": null,
            "max_height": null,
            "align_content": null,
            "visibility": null,
            "align_self": null,
            "height": null,
            "min_height": null,
            "padding": null,
            "grid_auto_rows": null,
            "grid_gap": null,
            "max_width": null,
            "order": null,
            "_view_module_version": "1.2.0",
            "grid_template_areas": null,
            "object_position": null,
            "object_fit": null,
            "grid_auto_columns": null,
            "margin": null,
            "display": null,
            "left": null
          }
        },
        "8a140c6089d74196aff31a2b676c11da": {
          "model_module": "@jupyter-widgets/controls",
          "model_name": "IntProgressModel",
          "state": {
            "_view_name": "ProgressView",
            "style": "IPY_MODEL_8778af3c1c5e4595935e940ce2a3bd3c",
            "_dom_classes": [],
            "description": "Downloading: 100%",
            "_model_name": "IntProgressModel",
            "bar_style": "success",
            "max": 456318,
            "_view_module": "@jupyter-widgets/controls",
            "_model_module_version": "1.5.0",
            "value": 456318,
            "_view_count": null,
            "_view_module_version": "1.5.0",
            "orientation": "horizontal",
            "min": 0,
            "description_tooltip": null,
            "_model_module": "@jupyter-widgets/controls",
            "layout": "IPY_MODEL_b288bc4133cd492f8693572045f40366"
          }
        },
        "9520b915fe1f4013b3cda92450b634c1": {
          "model_module": "@jupyter-widgets/controls",
          "model_name": "HTMLModel",
          "state": {
            "_view_name": "HTMLView",
            "style": "IPY_MODEL_b8cf4c1ff4c14c04b92bc9ee10208a84",
            "_dom_classes": [],
            "description": "",
            "_model_name": "HTMLModel",
            "placeholder": "​",
            "_view_module": "@jupyter-widgets/controls",
            "_model_module_version": "1.5.0",
            "value": " 456k/456k [00:00&lt;00:00, 963kB/s]",
            "_view_count": null,
            "_view_module_version": "1.5.0",
            "description_tooltip": null,
            "_model_module": "@jupyter-widgets/controls",
            "layout": "IPY_MODEL_d398780719864fdb9d60600ecc8dfc6e"
          }
        },
        "8778af3c1c5e4595935e940ce2a3bd3c": {
          "model_module": "@jupyter-widgets/controls",
          "model_name": "ProgressStyleModel",
          "state": {
            "_view_name": "StyleView",
            "_model_name": "ProgressStyleModel",
            "description_width": "initial",
            "_view_module": "@jupyter-widgets/base",
            "_model_module_version": "1.5.0",
            "_view_count": null,
            "_view_module_version": "1.2.0",
            "bar_color": null,
            "_model_module": "@jupyter-widgets/controls"
          }
        },
        "b288bc4133cd492f8693572045f40366": {
          "model_module": "@jupyter-widgets/base",
          "model_name": "LayoutModel",
          "state": {
            "_view_name": "LayoutView",
            "grid_template_rows": null,
            "right": null,
            "justify_content": null,
            "_view_module": "@jupyter-widgets/base",
            "overflow": null,
            "_model_module_version": "1.2.0",
            "_view_count": null,
            "flex_flow": null,
            "width": null,
            "min_width": null,
            "border": null,
            "align_items": null,
            "bottom": null,
            "_model_module": "@jupyter-widgets/base",
            "top": null,
            "grid_column": null,
            "overflow_y": null,
            "overflow_x": null,
            "grid_auto_flow": null,
            "grid_area": null,
            "grid_template_columns": null,
            "flex": null,
            "_model_name": "LayoutModel",
            "justify_items": null,
            "grid_row": null,
            "max_height": null,
            "align_content": null,
            "visibility": null,
            "align_self": null,
            "height": null,
            "min_height": null,
            "padding": null,
            "grid_auto_rows": null,
            "grid_gap": null,
            "max_width": null,
            "order": null,
            "_view_module_version": "1.2.0",
            "grid_template_areas": null,
            "object_position": null,
            "object_fit": null,
            "grid_auto_columns": null,
            "margin": null,
            "display": null,
            "left": null
          }
        },
        "b8cf4c1ff4c14c04b92bc9ee10208a84": {
          "model_module": "@jupyter-widgets/controls",
          "model_name": "DescriptionStyleModel",
          "state": {
            "_view_name": "StyleView",
            "_model_name": "DescriptionStyleModel",
            "description_width": "",
            "_view_module": "@jupyter-widgets/base",
            "_model_module_version": "1.5.0",
            "_view_count": null,
            "_view_module_version": "1.2.0",
            "_model_module": "@jupyter-widgets/controls"
          }
        },
        "d398780719864fdb9d60600ecc8dfc6e": {
          "model_module": "@jupyter-widgets/base",
          "model_name": "LayoutModel",
          "state": {
            "_view_name": "LayoutView",
            "grid_template_rows": null,
            "right": null,
            "justify_content": null,
            "_view_module": "@jupyter-widgets/base",
            "overflow": null,
            "_model_module_version": "1.2.0",
            "_view_count": null,
            "flex_flow": null,
            "width": null,
            "min_width": null,
            "border": null,
            "align_items": null,
            "bottom": null,
            "_model_module": "@jupyter-widgets/base",
            "top": null,
            "grid_column": null,
            "overflow_y": null,
            "overflow_x": null,
            "grid_auto_flow": null,
            "grid_area": null,
            "grid_template_columns": null,
            "flex": null,
            "_model_name": "LayoutModel",
            "justify_items": null,
            "grid_row": null,
            "max_height": null,
            "align_content": null,
            "visibility": null,
            "align_self": null,
            "height": null,
            "min_height": null,
            "padding": null,
            "grid_auto_rows": null,
            "grid_gap": null,
            "max_width": null,
            "order": null,
            "_view_module_version": "1.2.0",
            "grid_template_areas": null,
            "object_position": null,
            "object_fit": null,
            "grid_auto_columns": null,
            "margin": null,
            "display": null,
            "left": null
          }
        },
        "d22688551dbd457da2c356c804297e42": {
          "model_module": "@jupyter-widgets/controls",
          "model_name": "HBoxModel",
          "state": {
            "_view_name": "HBoxView",
            "_dom_classes": [],
            "_model_name": "HBoxModel",
            "_view_module": "@jupyter-widgets/controls",
            "_model_module_version": "1.5.0",
            "_view_count": null,
            "_view_module_version": "1.5.0",
            "box_style": "",
            "layout": "IPY_MODEL_9f8aa87ed3b945e89d42665a2ec10391",
            "_model_module": "@jupyter-widgets/controls",
            "children": [
              "IPY_MODEL_e46d87e117ab4adf8b84238f8e2995e3",
              "IPY_MODEL_d0ba8e4f80be4abdb68cfcce8732c50c"
            ]
          }
        },
        "9f8aa87ed3b945e89d42665a2ec10391": {
          "model_module": "@jupyter-widgets/base",
          "model_name": "LayoutModel",
          "state": {
            "_view_name": "LayoutView",
            "grid_template_rows": null,
            "right": null,
            "justify_content": null,
            "_view_module": "@jupyter-widgets/base",
            "overflow": null,
            "_model_module_version": "1.2.0",
            "_view_count": null,
            "flex_flow": null,
            "width": null,
            "min_width": null,
            "border": null,
            "align_items": null,
            "bottom": null,
            "_model_module": "@jupyter-widgets/base",
            "top": null,
            "grid_column": null,
            "overflow_y": null,
            "overflow_x": null,
            "grid_auto_flow": null,
            "grid_area": null,
            "grid_template_columns": null,
            "flex": null,
            "_model_name": "LayoutModel",
            "justify_items": null,
            "grid_row": null,
            "max_height": null,
            "align_content": null,
            "visibility": null,
            "align_self": null,
            "height": null,
            "min_height": null,
            "padding": null,
            "grid_auto_rows": null,
            "grid_gap": null,
            "max_width": null,
            "order": null,
            "_view_module_version": "1.2.0",
            "grid_template_areas": null,
            "object_position": null,
            "object_fit": null,
            "grid_auto_columns": null,
            "margin": null,
            "display": null,
            "left": null
          }
        },
        "e46d87e117ab4adf8b84238f8e2995e3": {
          "model_module": "@jupyter-widgets/controls",
          "model_name": "IntProgressModel",
          "state": {
            "_view_name": "ProgressView",
            "style": "IPY_MODEL_9943310e59be4b549abf001b86ae1db8",
            "_dom_classes": [],
            "description": "Downloading: 100%",
            "_model_name": "IntProgressModel",
            "bar_style": "success",
            "max": 554,
            "_view_module": "@jupyter-widgets/controls",
            "_model_module_version": "1.5.0",
            "value": 554,
            "_view_count": null,
            "_view_module_version": "1.5.0",
            "orientation": "horizontal",
            "min": 0,
            "description_tooltip": null,
            "_model_module": "@jupyter-widgets/controls",
            "layout": "IPY_MODEL_de2ebe9774324966890ea86b9907d7ab"
          }
        },
        "d0ba8e4f80be4abdb68cfcce8732c50c": {
          "model_module": "@jupyter-widgets/controls",
          "model_name": "HTMLModel",
          "state": {
            "_view_name": "HTMLView",
            "style": "IPY_MODEL_fa953fde78e84288aa34799e4302faa0",
            "_dom_classes": [],
            "description": "",
            "_model_name": "HTMLModel",
            "placeholder": "​",
            "_view_module": "@jupyter-widgets/controls",
            "_model_module_version": "1.5.0",
            "value": " 554/554 [01:54&lt;00:00, 4.84B/s]",
            "_view_count": null,
            "_view_module_version": "1.5.0",
            "description_tooltip": null,
            "_model_module": "@jupyter-widgets/controls",
            "layout": "IPY_MODEL_f2a1b6eb7c1845d1ac4c02227d7b03c4"
          }
        },
        "9943310e59be4b549abf001b86ae1db8": {
          "model_module": "@jupyter-widgets/controls",
          "model_name": "ProgressStyleModel",
          "state": {
            "_view_name": "StyleView",
            "_model_name": "ProgressStyleModel",
            "description_width": "initial",
            "_view_module": "@jupyter-widgets/base",
            "_model_module_version": "1.5.0",
            "_view_count": null,
            "_view_module_version": "1.2.0",
            "bar_color": null,
            "_model_module": "@jupyter-widgets/controls"
          }
        },
        "de2ebe9774324966890ea86b9907d7ab": {
          "model_module": "@jupyter-widgets/base",
          "model_name": "LayoutModel",
          "state": {
            "_view_name": "LayoutView",
            "grid_template_rows": null,
            "right": null,
            "justify_content": null,
            "_view_module": "@jupyter-widgets/base",
            "overflow": null,
            "_model_module_version": "1.2.0",
            "_view_count": null,
            "flex_flow": null,
            "width": null,
            "min_width": null,
            "border": null,
            "align_items": null,
            "bottom": null,
            "_model_module": "@jupyter-widgets/base",
            "top": null,
            "grid_column": null,
            "overflow_y": null,
            "overflow_x": null,
            "grid_auto_flow": null,
            "grid_area": null,
            "grid_template_columns": null,
            "flex": null,
            "_model_name": "LayoutModel",
            "justify_items": null,
            "grid_row": null,
            "max_height": null,
            "align_content": null,
            "visibility": null,
            "align_self": null,
            "height": null,
            "min_height": null,
            "padding": null,
            "grid_auto_rows": null,
            "grid_gap": null,
            "max_width": null,
            "order": null,
            "_view_module_version": "1.2.0",
            "grid_template_areas": null,
            "object_position": null,
            "object_fit": null,
            "grid_auto_columns": null,
            "margin": null,
            "display": null,
            "left": null
          }
        },
        "fa953fde78e84288aa34799e4302faa0": {
          "model_module": "@jupyter-widgets/controls",
          "model_name": "DescriptionStyleModel",
          "state": {
            "_view_name": "StyleView",
            "_model_name": "DescriptionStyleModel",
            "description_width": "",
            "_view_module": "@jupyter-widgets/base",
            "_model_module_version": "1.5.0",
            "_view_count": null,
            "_view_module_version": "1.2.0",
            "_model_module": "@jupyter-widgets/controls"
          }
        },
        "f2a1b6eb7c1845d1ac4c02227d7b03c4": {
          "model_module": "@jupyter-widgets/base",
          "model_name": "LayoutModel",
          "state": {
            "_view_name": "LayoutView",
            "grid_template_rows": null,
            "right": null,
            "justify_content": null,
            "_view_module": "@jupyter-widgets/base",
            "overflow": null,
            "_model_module_version": "1.2.0",
            "_view_count": null,
            "flex_flow": null,
            "width": null,
            "min_width": null,
            "border": null,
            "align_items": null,
            "bottom": null,
            "_model_module": "@jupyter-widgets/base",
            "top": null,
            "grid_column": null,
            "overflow_y": null,
            "overflow_x": null,
            "grid_auto_flow": null,
            "grid_area": null,
            "grid_template_columns": null,
            "flex": null,
            "_model_name": "LayoutModel",
            "justify_items": null,
            "grid_row": null,
            "max_height": null,
            "align_content": null,
            "visibility": null,
            "align_self": null,
            "height": null,
            "min_height": null,
            "padding": null,
            "grid_auto_rows": null,
            "grid_gap": null,
            "max_width": null,
            "order": null,
            "_view_module_version": "1.2.0",
            "grid_template_areas": null,
            "object_position": null,
            "object_fit": null,
            "grid_auto_columns": null,
            "margin": null,
            "display": null,
            "left": null
          }
        },
        "b496884281e0474e9a8f91d5f5ee6f71": {
          "model_module": "@jupyter-widgets/controls",
          "model_name": "HBoxModel",
          "state": {
            "_view_name": "HBoxView",
            "_dom_classes": [],
            "_model_name": "HBoxModel",
            "_view_module": "@jupyter-widgets/controls",
            "_model_module_version": "1.5.0",
            "_view_count": null,
            "_view_module_version": "1.5.0",
            "box_style": "",
            "layout": "IPY_MODEL_0bc87ca075f74dc28077552ac14be1d2",
            "_model_module": "@jupyter-widgets/controls",
            "children": [
              "IPY_MODEL_10e9899d07b149a2b32201cfd370b41c",
              "IPY_MODEL_32fd24b36e464d2ba2b32fd1af84144b"
            ]
          }
        },
        "0bc87ca075f74dc28077552ac14be1d2": {
          "model_module": "@jupyter-widgets/base",
          "model_name": "LayoutModel",
          "state": {
            "_view_name": "LayoutView",
            "grid_template_rows": null,
            "right": null,
            "justify_content": null,
            "_view_module": "@jupyter-widgets/base",
            "overflow": null,
            "_model_module_version": "1.2.0",
            "_view_count": null,
            "flex_flow": null,
            "width": null,
            "min_width": null,
            "border": null,
            "align_items": null,
            "bottom": null,
            "_model_module": "@jupyter-widgets/base",
            "top": null,
            "grid_column": null,
            "overflow_y": null,
            "overflow_x": null,
            "grid_auto_flow": null,
            "grid_area": null,
            "grid_template_columns": null,
            "flex": null,
            "_model_name": "LayoutModel",
            "justify_items": null,
            "grid_row": null,
            "max_height": null,
            "align_content": null,
            "visibility": null,
            "align_self": null,
            "height": null,
            "min_height": null,
            "padding": null,
            "grid_auto_rows": null,
            "grid_gap": null,
            "max_width": null,
            "order": null,
            "_view_module_version": "1.2.0",
            "grid_template_areas": null,
            "object_position": null,
            "object_fit": null,
            "grid_auto_columns": null,
            "margin": null,
            "display": null,
            "left": null
          }
        },
        "10e9899d07b149a2b32201cfd370b41c": {
          "model_module": "@jupyter-widgets/controls",
          "model_name": "IntProgressModel",
          "state": {
            "_view_name": "ProgressView",
            "style": "IPY_MODEL_31df7e8d1f8841edaa5f2aa31acf71e3",
            "_dom_classes": [],
            "description": "Downloading: 100%",
            "_model_name": "IntProgressModel",
            "bar_style": "success",
            "max": 548118077,
            "_view_module": "@jupyter-widgets/controls",
            "_model_module_version": "1.5.0",
            "value": 548118077,
            "_view_count": null,
            "_view_module_version": "1.5.0",
            "orientation": "horizontal",
            "min": 0,
            "description_tooltip": null,
            "_model_module": "@jupyter-widgets/controls",
            "layout": "IPY_MODEL_6e162c63639a4fbf80a4554a46f6ec5b"
          }
        },
        "32fd24b36e464d2ba2b32fd1af84144b": {
          "model_module": "@jupyter-widgets/controls",
          "model_name": "HTMLModel",
          "state": {
            "_view_name": "HTMLView",
            "style": "IPY_MODEL_3cda96b9acb54ca7b91d8b7072e9d7ab",
            "_dom_classes": [],
            "description": "",
            "_model_name": "HTMLModel",
            "placeholder": "​",
            "_view_module": "@jupyter-widgets/controls",
            "_model_module_version": "1.5.0",
            "value": " 548M/548M [00:22&lt;00:00, 24.3MB/s]",
            "_view_count": null,
            "_view_module_version": "1.5.0",
            "description_tooltip": null,
            "_model_module": "@jupyter-widgets/controls",
            "layout": "IPY_MODEL_c0244f0d01a2435bb2548506691fee7f"
          }
        },
        "31df7e8d1f8841edaa5f2aa31acf71e3": {
          "model_module": "@jupyter-widgets/controls",
          "model_name": "ProgressStyleModel",
          "state": {
            "_view_name": "StyleView",
            "_model_name": "ProgressStyleModel",
            "description_width": "initial",
            "_view_module": "@jupyter-widgets/base",
            "_model_module_version": "1.5.0",
            "_view_count": null,
            "_view_module_version": "1.2.0",
            "bar_color": null,
            "_model_module": "@jupyter-widgets/controls"
          }
        },
        "6e162c63639a4fbf80a4554a46f6ec5b": {
          "model_module": "@jupyter-widgets/base",
          "model_name": "LayoutModel",
          "state": {
            "_view_name": "LayoutView",
            "grid_template_rows": null,
            "right": null,
            "justify_content": null,
            "_view_module": "@jupyter-widgets/base",
            "overflow": null,
            "_model_module_version": "1.2.0",
            "_view_count": null,
            "flex_flow": null,
            "width": null,
            "min_width": null,
            "border": null,
            "align_items": null,
            "bottom": null,
            "_model_module": "@jupyter-widgets/base",
            "top": null,
            "grid_column": null,
            "overflow_y": null,
            "overflow_x": null,
            "grid_auto_flow": null,
            "grid_area": null,
            "grid_template_columns": null,
            "flex": null,
            "_model_name": "LayoutModel",
            "justify_items": null,
            "grid_row": null,
            "max_height": null,
            "align_content": null,
            "visibility": null,
            "align_self": null,
            "height": null,
            "min_height": null,
            "padding": null,
            "grid_auto_rows": null,
            "grid_gap": null,
            "max_width": null,
            "order": null,
            "_view_module_version": "1.2.0",
            "grid_template_areas": null,
            "object_position": null,
            "object_fit": null,
            "grid_auto_columns": null,
            "margin": null,
            "display": null,
            "left": null
          }
        },
        "3cda96b9acb54ca7b91d8b7072e9d7ab": {
          "model_module": "@jupyter-widgets/controls",
          "model_name": "DescriptionStyleModel",
          "state": {
            "_view_name": "StyleView",
            "_model_name": "DescriptionStyleModel",
            "description_width": "",
            "_view_module": "@jupyter-widgets/base",
            "_model_module_version": "1.5.0",
            "_view_count": null,
            "_view_module_version": "1.2.0",
            "_model_module": "@jupyter-widgets/controls"
          }
        },
        "c0244f0d01a2435bb2548506691fee7f": {
          "model_module": "@jupyter-widgets/base",
          "model_name": "LayoutModel",
          "state": {
            "_view_name": "LayoutView",
            "grid_template_rows": null,
            "right": null,
            "justify_content": null,
            "_view_module": "@jupyter-widgets/base",
            "overflow": null,
            "_model_module_version": "1.2.0",
            "_view_count": null,
            "flex_flow": null,
            "width": null,
            "min_width": null,
            "border": null,
            "align_items": null,
            "bottom": null,
            "_model_module": "@jupyter-widgets/base",
            "top": null,
            "grid_column": null,
            "overflow_y": null,
            "overflow_x": null,
            "grid_auto_flow": null,
            "grid_area": null,
            "grid_template_columns": null,
            "flex": null,
            "_model_name": "LayoutModel",
            "justify_items": null,
            "grid_row": null,
            "max_height": null,
            "align_content": null,
            "visibility": null,
            "align_self": null,
            "height": null,
            "min_height": null,
            "padding": null,
            "grid_auto_rows": null,
            "grid_gap": null,
            "max_width": null,
            "order": null,
            "_view_module_version": "1.2.0",
            "grid_template_areas": null,
            "object_position": null,
            "object_fit": null,
            "grid_auto_columns": null,
            "margin": null,
            "display": null,
            "left": null
          }
        }
      }
    }
  },
  "cells": [
    {
      "cell_type": "markdown",
      "metadata": {
        "id": "BSn-3lJ20BBI",
        "colab_type": "text"
      },
      "source": [
        "#GPT2 Poet Basic Functionality\n",
        "\n",
        "By [Kian Salamzadeh](https://github.com/kianfucius)\n",
        "\n",
        "Retrain a generative text neural network using `gpt2-poet`, located in this [Git Repository](https://github.com/kianfucius/gpt2_poet)\n",
        "\n",
        "It is highly recommended that you run this in a Google Colaboratory environment, which provides free access to their GPU's. This will be essential in finetuning and generating outputs. Unfortunately, pretrained models could not be provided with the github repository, because each model is roughly 500MB in size, which exceeds their [tolerated file size](https://help.github.com/en/github/managing-large-files/what-is-my-disk-quota). Therefore, attempting to reproduce experiments in the report will not provide exactly the same results, but similar outputs are expected. If you require the same finetuned models used in the report, you can contact ksalamza@uoguelph.ca for the files, which total about 5GB in size.\n",
        "\n",
        "You can copy this file into your Google Drive and run it in your own Google Colab. Make sure the runtime type is set to GPU, by going to [Runtime] -> [Change runtime type]\n",
        "\n",
        "Finally, note that the code required to run these experiments is quite lengthy, and putting all the source code into this notebook would not provide a healthy user experience. Therefore, all code has been organized into a git repository which is installed in the first code cell. All functions are documented and commented in the git repository linked above."
      ]
    },
    {
      "cell_type": "markdown",
      "metadata": {
        "id": "0D79JDS4KaOG",
        "colab_type": "text"
      },
      "source": [
        "## Installation and finetuning\n",
        "To get started, let's clear up our workspace, then install the project."
      ]
    },
    {
      "cell_type": "code",
      "metadata": {
        "id": "Wp9oxg3uu8-_",
        "colab_type": "code",
        "outputId": "33a06b48-f11e-4e48-d939-58d8e7580096",
        "colab": {
          "base_uri": "https://localhost:8080/",
          "height": 884
        }
      },
      "source": [
        "!rm -r sample_data >/dev/null 2>&1 # delete sample data provided by Google Colab and silence output\n",
        "!git clone https://github.com/kianfucius/gpt2_poet # clone gpt2 poet\n",
        "!pip install ./gpt2_poet # install gpt2 poet\n",
        "import gpt2_poet as gpt2"
      ],
      "execution_count": 1,
      "outputs": [
        {
          "output_type": "stream",
          "text": [
            "Cloning into 'gpt2_poet'...\n",
            "remote: Enumerating objects: 239, done.\u001b[K\n",
            "remote: Counting objects: 100% (239/239), done.\u001b[K\n",
            "remote: Compressing objects: 100% (162/162), done.\u001b[K\n",
            "remote: Total 239 (delta 131), reused 176 (delta 73), pack-reused 0\u001b[K\n",
            "Receiving objects: 100% (239/239), 206.58 KiB | 1.07 MiB/s, done.\n",
            "Resolving deltas: 100% (131/131), done.\n",
            "Processing ./gpt2_poet\n",
            "Collecting transformers\n",
            "\u001b[?25l  Downloading https://files.pythonhosted.org/packages/a3/78/92cedda05552398352ed9784908b834ee32a0bd071a9b32de287327370b7/transformers-2.8.0-py3-none-any.whl (563kB)\n",
            "\u001b[K     |████████████████████████████████| 573kB 8.7MB/s \n",
            "\u001b[?25hRequirement already satisfied: torch in /usr/local/lib/python3.6/dist-packages (from gpt2-poet==0.0.1) (1.5.0+cu101)\n",
            "Requirement already satisfied: numpy in /usr/local/lib/python3.6/dist-packages (from gpt2-poet==0.0.1) (1.18.3)\n",
            "Collecting sentencepiece\n",
            "\u001b[?25l  Downloading https://files.pythonhosted.org/packages/98/2c/8df20f3ac6c22ac224fff307ebc102818206c53fc454ecd37d8ac2060df5/sentencepiece-0.1.86-cp36-cp36m-manylinux1_x86_64.whl (1.0MB)\n",
            "\u001b[K     |████████████████████████████████| 1.0MB 22.3MB/s \n",
            "\u001b[?25hCollecting sacremoses\n",
            "\u001b[?25l  Downloading https://files.pythonhosted.org/packages/99/50/93509f906a40bffd7d175f97fd75ea328ad9bd91f48f59c4bd084c94a25e/sacremoses-0.0.41.tar.gz (883kB)\n",
            "\u001b[K     |████████████████████████████████| 890kB 17.4MB/s \n",
            "\u001b[?25hRequirement already satisfied: tqdm>=4.27 in /usr/local/lib/python3.6/dist-packages (from transformers->gpt2-poet==0.0.1) (4.38.0)\n",
            "Collecting tokenizers==0.5.2\n",
            "\u001b[?25l  Downloading https://files.pythonhosted.org/packages/d1/3f/73c881ea4723e43c1e9acf317cf407fab3a278daab3a69c98dcac511c04f/tokenizers-0.5.2-cp36-cp36m-manylinux1_x86_64.whl (3.7MB)\n",
            "\u001b[K     |████████████████████████████████| 3.7MB 56.0MB/s \n",
            "\u001b[?25hRequirement already satisfied: filelock in /usr/local/lib/python3.6/dist-packages (from transformers->gpt2-poet==0.0.1) (3.0.12)\n",
            "Requirement already satisfied: regex!=2019.12.17 in /usr/local/lib/python3.6/dist-packages (from transformers->gpt2-poet==0.0.1) (2019.12.20)\n",
            "Requirement already satisfied: dataclasses; python_version < \"3.7\" in /usr/local/lib/python3.6/dist-packages (from transformers->gpt2-poet==0.0.1) (0.7)\n",
            "Requirement already satisfied: requests in /usr/local/lib/python3.6/dist-packages (from transformers->gpt2-poet==0.0.1) (2.21.0)\n",
            "Requirement already satisfied: boto3 in /usr/local/lib/python3.6/dist-packages (from transformers->gpt2-poet==0.0.1) (1.12.46)\n",
            "Requirement already satisfied: future in /usr/local/lib/python3.6/dist-packages (from torch->gpt2-poet==0.0.1) (0.16.0)\n",
            "Requirement already satisfied: six in /usr/local/lib/python3.6/dist-packages (from sacremoses->transformers->gpt2-poet==0.0.1) (1.12.0)\n",
            "Requirement already satisfied: click in /usr/local/lib/python3.6/dist-packages (from sacremoses->transformers->gpt2-poet==0.0.1) (7.1.1)\n",
            "Requirement already satisfied: joblib in /usr/local/lib/python3.6/dist-packages (from sacremoses->transformers->gpt2-poet==0.0.1) (0.14.1)\n",
            "Requirement already satisfied: urllib3<1.25,>=1.21.1 in /usr/local/lib/python3.6/dist-packages (from requests->transformers->gpt2-poet==0.0.1) (1.24.3)\n",
            "Requirement already satisfied: certifi>=2017.4.17 in /usr/local/lib/python3.6/dist-packages (from requests->transformers->gpt2-poet==0.0.1) (2020.4.5.1)\n",
            "Requirement already satisfied: idna<2.9,>=2.5 in /usr/local/lib/python3.6/dist-packages (from requests->transformers->gpt2-poet==0.0.1) (2.8)\n",
            "Requirement already satisfied: chardet<3.1.0,>=3.0.2 in /usr/local/lib/python3.6/dist-packages (from requests->transformers->gpt2-poet==0.0.1) (3.0.4)\n",
            "Requirement already satisfied: botocore<1.16.0,>=1.15.46 in /usr/local/lib/python3.6/dist-packages (from boto3->transformers->gpt2-poet==0.0.1) (1.15.46)\n",
            "Requirement already satisfied: jmespath<1.0.0,>=0.7.1 in /usr/local/lib/python3.6/dist-packages (from boto3->transformers->gpt2-poet==0.0.1) (0.9.5)\n",
            "Requirement already satisfied: s3transfer<0.4.0,>=0.3.0 in /usr/local/lib/python3.6/dist-packages (from boto3->transformers->gpt2-poet==0.0.1) (0.3.3)\n",
            "Requirement already satisfied: python-dateutil<3.0.0,>=2.1 in /usr/local/lib/python3.6/dist-packages (from botocore<1.16.0,>=1.15.46->boto3->transformers->gpt2-poet==0.0.1) (2.8.1)\n",
            "Requirement already satisfied: docutils<0.16,>=0.10 in /usr/local/lib/python3.6/dist-packages (from botocore<1.16.0,>=1.15.46->boto3->transformers->gpt2-poet==0.0.1) (0.15.2)\n",
            "Building wheels for collected packages: gpt2-poet, sacremoses\n",
            "  Building wheel for gpt2-poet (setup.py) ... \u001b[?25l\u001b[?25hdone\n",
            "  Created wheel for gpt2-poet: filename=gpt2_poet-0.0.1-cp36-none-any.whl size=6516 sha256=d7078b15d74e8c676f6e7034d810081d18a7e2cae4bed283b4b6a116b88ad822\n",
            "  Stored in directory: /tmp/pip-ephem-wheel-cache-smtrbfyt/wheels/a6/58/9b/7df6ac2e034594e554d21bafcad48cff298c3dc0cb0a0ff960\n",
            "  Building wheel for sacremoses (setup.py) ... \u001b[?25l\u001b[?25hdone\n",
            "  Created wheel for sacremoses: filename=sacremoses-0.0.41-cp36-none-any.whl size=893334 sha256=5fab3ee1a6b167ccf93b6d5a1d17e973b62d7781c9bb3b72cb225ee2aee27a4c\n",
            "  Stored in directory: /root/.cache/pip/wheels/22/5a/d4/b020a81249de7dc63758a34222feaa668dbe8ebfe9170cc9b1\n",
            "Successfully built gpt2-poet sacremoses\n",
            "Installing collected packages: sentencepiece, sacremoses, tokenizers, transformers, gpt2-poet\n",
            "Successfully installed gpt2-poet-0.0.1 sacremoses-0.0.41 sentencepiece-0.1.86 tokenizers-0.5.2 transformers-2.8.0\n"
          ],
          "name": "stdout"
        }
      ]
    },
    {
      "cell_type": "markdown",
      "metadata": {
        "id": "_Zoi7te20fwn",
        "colab_type": "text"
      },
      "source": [
        "The package comes with a sample input csv file, which is formatted appropriately for the inbuilt functions. This data is used for all experiments, and is the same corpus used in the submitted report."
      ]
    },
    {
      "cell_type": "code",
      "metadata": {
        "id": "YZIGyTXFxOH3",
        "colab_type": "code",
        "colab": {}
      },
      "source": [
        "corpus_path = 'gpt2_poet/sample_data/haikus.csv'"
      ],
      "execution_count": 0,
      "outputs": []
    },
    {
      "cell_type": "markdown",
      "metadata": {
        "id": "tA9RmeRN0qs-",
        "colab_type": "text"
      },
      "source": [
        "This function downloads and stores the model and tokenizer for OpenAI's GPT-2, courtesy of HuggingFace's Transformers. By default, it will download the smallest version of GPT-2, but you can download the medium sized model by passing the argument \"gpt2-medium\".\n",
        "\n",
        "Please note that this takes some time to run, depending on your download speed. gpt2-medium will take longer to download because it is larger, and cannot be run from a Google Colaboratory environment due to memory constraints of the system."
      ]
    },
    {
      "cell_type": "code",
      "metadata": {
        "id": "chuyo5ymv5vX",
        "colab_type": "code",
        "colab": {
          "base_uri": "https://localhost:8080/",
          "height": 213,
          "referenced_widgets": [
            "f9a51edd73064c6c89d2ed80c8263401",
            "0848c1832861446daf9be5b1e4276bd2",
            "f2d7755fc480432d8aba73aeaf1570e4",
            "0ddab417dea04519ab34ceca516fe6f7",
            "1cadae23707f4d128aef04d70e01b68d",
            "9f8397d106004e86813bd6d5ad6033fe",
            "ce7862a71b3948c1b69d969a5b18e4b2",
            "f8cd60e0c1d1489ab32e1d5109aa2618",
            "ac6e7f63dbf344a68b2aa291fde1858c",
            "4eea1b79a31f4cda9a2539b7ac3c40f8",
            "8a140c6089d74196aff31a2b676c11da",
            "9520b915fe1f4013b3cda92450b634c1",
            "8778af3c1c5e4595935e940ce2a3bd3c",
            "b288bc4133cd492f8693572045f40366",
            "b8cf4c1ff4c14c04b92bc9ee10208a84",
            "d398780719864fdb9d60600ecc8dfc6e",
            "d22688551dbd457da2c356c804297e42",
            "9f8aa87ed3b945e89d42665a2ec10391",
            "e46d87e117ab4adf8b84238f8e2995e3",
            "d0ba8e4f80be4abdb68cfcce8732c50c",
            "9943310e59be4b549abf001b86ae1db8",
            "de2ebe9774324966890ea86b9907d7ab",
            "fa953fde78e84288aa34799e4302faa0",
            "f2a1b6eb7c1845d1ac4c02227d7b03c4",
            "b496884281e0474e9a8f91d5f5ee6f71",
            "0bc87ca075f74dc28077552ac14be1d2",
            "10e9899d07b149a2b32201cfd370b41c",
            "32fd24b36e464d2ba2b32fd1af84144b",
            "31df7e8d1f8841edaa5f2aa31acf71e3",
            "6e162c63639a4fbf80a4554a46f6ec5b",
            "3cda96b9acb54ca7b91d8b7072e9d7ab",
            "c0244f0d01a2435bb2548506691fee7f"
          ]
        },
        "outputId": "13313977-eeb4-4554-aedb-196e17c46352"
      },
      "source": [
        "model, tokenizer = gpt2.download_model()\n",
        "#model, tokenizer = gpt2.download_model(\"gpt2-medium\")"
      ],
      "execution_count": 3,
      "outputs": [
        {
          "output_type": "display_data",
          "data": {
            "application/vnd.jupyter.widget-view+json": {
              "model_id": "f9a51edd73064c6c89d2ed80c8263401",
              "version_minor": 0,
              "version_major": 2
            },
            "text/plain": [
              "HBox(children=(IntProgress(value=0, description='Downloading', max=1042301, style=ProgressStyle(description_wi…"
            ]
          },
          "metadata": {
            "tags": []
          }
        },
        {
          "output_type": "stream",
          "text": [
            "\n"
          ],
          "name": "stdout"
        },
        {
          "output_type": "display_data",
          "data": {
            "application/vnd.jupyter.widget-view+json": {
              "model_id": "ac6e7f63dbf344a68b2aa291fde1858c",
              "version_minor": 0,
              "version_major": 2
            },
            "text/plain": [
              "HBox(children=(IntProgress(value=0, description='Downloading', max=456318, style=ProgressStyle(description_wid…"
            ]
          },
          "metadata": {
            "tags": []
          }
        },
        {
          "output_type": "stream",
          "text": [
            "\n"
          ],
          "name": "stdout"
        },
        {
          "output_type": "display_data",
          "data": {
            "application/vnd.jupyter.widget-view+json": {
              "model_id": "d22688551dbd457da2c356c804297e42",
              "version_minor": 0,
              "version_major": 2
            },
            "text/plain": [
              "HBox(children=(IntProgress(value=0, description='Downloading', max=554, style=ProgressStyle(description_width=…"
            ]
          },
          "metadata": {
            "tags": []
          }
        },
        {
          "output_type": "stream",
          "text": [
            "\n"
          ],
          "name": "stdout"
        },
        {
          "output_type": "display_data",
          "data": {
            "application/vnd.jupyter.widget-view+json": {
              "model_id": "b496884281e0474e9a8f91d5f5ee6f71",
              "version_minor": 0,
              "version_major": 2
            },
            "text/plain": [
              "HBox(children=(IntProgress(value=0, description='Downloading', max=548118077, style=ProgressStyle(description_…"
            ]
          },
          "metadata": {
            "tags": []
          }
        },
        {
          "output_type": "stream",
          "text": [
            "\n"
          ],
          "name": "stdout"
        }
      ]
    },
    {
      "cell_type": "markdown",
      "metadata": {
        "id": "Xivm6BoB13Zb",
        "colab_type": "text"
      },
      "source": [
        "You can finetune GPT-2 using this helper function. Make sure to pass it the model and tokenizer we downloaded earlier. \n",
        "You can customize the corpus and model output folder, although there is no need if you are following this notebook.\n",
        "\n",
        "You can also set various hyperparameters, including:\n",
        "`batch_size`, `epochs`, `learning_rate`, `warmup_steps`, and `max_seq_len`.\n",
        "\n",
        "Running this for the default amount of epochs (5) takes about 10 minutes. In the mean-time, feel free to write some original haikus!"
      ]
    },
    {
      "cell_type": "code",
      "metadata": {
        "id": "RkXF_dTGxHxa",
        "colab_type": "code",
        "colab": {
          "base_uri": "https://localhost:8080/",
          "height": 425
        },
        "outputId": "65c52923-b04d-408c-c010-23843432a59b"
      },
      "source": [
        "gpt2.finetune(model, tokenizer, dataset=corpus_path)"
      ],
      "execution_count": 4,
      "outputs": [
        {
          "output_type": "stream",
          "text": [
            "EPOCH 0 started==============================\n",
            "sum loss 519.1138916015625\n",
            "sum loss 420.30072021484375\n",
            "sum loss 377.50616455078125\n",
            "EPOCH 1 started==============================\n",
            "sum loss 358.488037109375\n",
            "sum loss 346.16033935546875\n",
            "sum loss 335.9029846191406\n",
            "sum loss 332.09136962890625\n",
            "EPOCH 2 started==============================\n",
            "sum loss 321.9007568359375\n",
            "sum loss 316.3227844238281\n",
            "sum loss 317.9334716796875\n",
            "sum loss 312.87603759765625\n",
            "EPOCH 3 started==============================\n",
            "sum loss 308.6634216308594\n",
            "sum loss 303.82403564453125\n",
            "sum loss 303.6766662597656\n",
            "sum loss 302.281005859375\n",
            "EPOCH 4 started==============================\n",
            "sum loss 294.1451721191406\n",
            "sum loss 292.8934326171875\n",
            "sum loss 293.07830810546875\n",
            "sum loss 293.7854919433594\n"
          ],
          "name": "stdout"
        }
      ]
    },
    {
      "cell_type": "markdown",
      "metadata": {
        "id": "AUPBhgnh2NyJ",
        "colab_type": "text"
      },
      "source": [
        "Finally, let's use our trained models to generate some output. Once again, we have to pass it our downloaded model and tokenizer. If you changed your model output folder or want a custom output folder, you can set that too.\n",
        "\n",
        "We can tell the function which model to generate from, the amount of poems to generate, and the output file type (txt or csv). By default, this function expects the models to be stored in the `trained_models` folder, and will write outputs to the `outputs` folder.\n",
        "\n",
        "By setting `greedy=True`, we can see the model generating output based on a Greedy Best-First Search algorithm. This algorithm always chooses the highest probability token in the sequence, so the output will always be the same for any unique model epoch."
      ]
    },
    {
      "cell_type": "markdown",
      "metadata": {
        "id": "IpaRBtX-KW-x",
        "colab_type": "text"
      },
      "source": [
        "## Introduction to Generation Methods"
      ]
    },
    {
      "cell_type": "code",
      "metadata": {
        "id": "QZSnaxs0I3l6",
        "colab_type": "code",
        "colab": {
          "base_uri": "https://localhost:8080/",
          "height": 221
        },
        "outputId": "97666632-4c05-4211-863a-50381d4948a4"
      },
      "source": [
        "gpt2.generate(model, tokenizer, model_epoch=4, num_poems=3, file_type='csv', print_output=True, greedy=True)"
      ],
      "execution_count": 5,
      "outputs": [
        {
          "output_type": "stream",
          "text": [
            "the first snow\n",
            "the first light\n",
            "of a new moon\n",
            "\n",
            "the first snow\n",
            "the first light\n",
            "of a new moon\n",
            "\n",
            "the first snow\n",
            "the first light\n",
            "of a new moon\n",
            "\n"
          ],
          "name": "stdout"
        }
      ]
    },
    {
      "cell_type": "markdown",
      "metadata": {
        "id": "Unb073fsJYUo",
        "colab_type": "text"
      },
      "source": [
        "If we don't set `greedy`, then the value defaults to `False`, in which case a top-p probability search will be used instead for the decoder. This will introduce some randomness and result in more creative outputs:"
      ]
    },
    {
      "cell_type": "code",
      "metadata": {
        "id": "p0N-WCCOzTbh",
        "colab_type": "code",
        "colab": {
          "base_uri": "https://localhost:8080/",
          "height": 697
        },
        "outputId": "9b9450da-5e05-491f-ccfc-c7142dac5c95"
      },
      "source": [
        "gpt2.generate(model, tokenizer, model_epoch=4, num_poems=10, file_type='csv', print_output=True)"
      ],
      "execution_count": 6,
      "outputs": [
        {
          "output_type": "stream",
          "text": [
            "cabin\n",
            "a child's shadow casts a shadow\n",
            "on the fence\n",
            "\n",
            "winter dusk\n",
            "the sound of a dog barking\n",
            "through my hair\n",
            "\n",
            "crescent moon...\n",
            "the old dog\n",
            "grows a bit\n",
            "\n",
            "first frost\n",
            "the old man's\n",
            "piano\n",
            "\n",
            "summer rain\n",
            "the old dog's shadow\n",
            "on the kitchen counter\n",
            "\n",
            "spring dusk\n",
            "the old man's dog\n",
            "gives a whistle\n",
            "\n",
            "morning\n",
            "a small child's smile\n",
            "on her mother's face\n",
            "\n",
            "winding down the sidewalk??\n",
            "the smell of hay\n",
            "in the kitchen window\n",
            "\n",
            "winter stars\n",
            "the sound of the boat\n",
            "from the dock's window\n",
            "\n",
            "winter sun??\n",
            "the old dog's shadow\n",
            "on the porch railing\n",
            "\n"
          ],
          "name": "stdout"
        }
      ]
    },
    {
      "cell_type": "markdown",
      "metadata": {
        "id": "gMqj9Yk3bVyY",
        "colab_type": "text"
      },
      "source": [
        "Transformers also has a really helpful generate function, so I've included a wrapper to use our model and output the files to a specified folder. This function takes many arguments. Here's an example to do a beam search. Notice that the output will be the same no matter how many times you run it."
      ]
    },
    {
      "cell_type": "code",
      "metadata": {
        "id": "PF_rq-82bqWL",
        "colab_type": "code",
        "colab": {
          "base_uri": "https://localhost:8080/",
          "height": 697
        },
        "outputId": "eaff87c1-e733-4039-b2a1-0942310b19dc"
      },
      "source": [
        "gpt2.generate_wrapper(model, tokenizer, model_epoch=4, num_poems=10, file_type='txt', print_output=True,\n",
        "                      num_beams=10, \n",
        "                      no_repeat_ngram_size=2, \n",
        "                      max_length=50)"
      ],
      "execution_count": 7,
      "outputs": [
        {
          "output_type": "stream",
          "text": [
            "summer's end??\n",
            "the sound of raindrops\n",
            "on the sidewalk\n",
            "\n",
            "summer's end??\n",
            "the sound of raindrops\n",
            "on the kitchen table\n",
            "\n",
            "summer's end??\n",
            "the sound of a dog barking\n",
            "in the rain\n",
            "\n",
            "summer's end??\n",
            "the sound of raindrops\n",
            "on the beach\n",
            "\n",
            "summer's end??\n",
            "the sound of raindrops\n",
            "on the kitchen floor\n",
            "\n",
            "summer's end??\n",
            "the sound of a dog barking\n",
            "in the streetlight\n",
            "\n",
            "summer's end??\n",
            "the sound of raindrops\n",
            "on the window sill\n",
            "\n",
            "summer's end??\n",
            "the sound of raindrops\n",
            "on the roof\n",
            "\n",
            "summer's end??\n",
            "the sound of a dog barking\n",
            "in the dark\n",
            "\n",
            "summer's end??\n",
            "the sound of a dog barking\n",
            "on the sidewalk\n",
            "\n"
          ],
          "name": "stdout"
        }
      ]
    },
    {
      "cell_type": "markdown",
      "metadata": {
        "id": "4CyLX9LjkX1p",
        "colab_type": "text"
      },
      "source": [
        "The output is very repetitious. Let's try sampling. You should notice that the output feels much more human. Feel free to mess around with more of these arguments, which you can read about [here.](https://github.com/huggingface/transformers/blob/master/src/transformers/modeling_utils.py)"
      ]
    },
    {
      "cell_type": "code",
      "metadata": {
        "id": "4bLwQDqWcilG",
        "colab_type": "code",
        "colab": {
          "base_uri": "https://localhost:8080/",
          "height": 357
        },
        "outputId": "88a0da85-bfa7-47b1-e0b1-e4e4071fca0a"
      },
      "source": [
        "gpt2.generate_wrapper(model, tokenizer, model_epoch=4, num_poems=5, file_type='txt', print_output=True,\n",
        "                      do_sample=True, \n",
        "                      max_length=50, \n",
        "                      top_k=10)"
      ],
      "execution_count": 8,
      "outputs": [
        {
          "output_type": "stream",
          "text": [
            "sunlight on the roof...\n",
            "a butterfly\n",
            "sends her wings\n",
            "\n",
            "a few days??\n",
            "my daughter finds\n",
            "the last penny\n",
            "\n",
            "sunrise\n",
            "the scent of leaves\n",
            "from the garden gate\n",
            "\n",
            "autumn wind??\n",
            "one bird\n",
            "in a flock of pigeons\n",
            "\n",
            "a new day\n",
            "the moon's shadow\n",
            "caught up\n",
            "\n"
          ],
          "name": "stdout"
        }
      ]
    },
    {
      "cell_type": "markdown",
      "metadata": {
        "id": "fpsQWzAfKRmZ",
        "colab_type": "text"
      },
      "source": [
        "# Analysis\n",
        "Now that we've seen how GPT2 Poet works, we can analyze the inputs and outputs. "
      ]
    },
    {
      "cell_type": "markdown",
      "metadata": {
        "id": "nIc6mO0KXEgh",
        "colab_type": "text"
      },
      "source": [
        "## Inputs\n",
        "Let's sidebar for a second - this project includes a function that allows us to count the number of syllables in a string. Let's take a look:"
      ]
    },
    {
      "cell_type": "code",
      "metadata": {
        "id": "vV5RGNFqXjuF",
        "colab_type": "code",
        "colab": {
          "base_uri": "https://localhost:8080/",
          "height": 34
        },
        "outputId": "53b22ce3-cded-4654-803a-492fdb189a20"
      },
      "source": [
        "gpt2.syllables(\"This is a sentence\")"
      ],
      "execution_count": 9,
      "outputs": [
        {
          "output_type": "execute_result",
          "data": {
            "text/plain": [
              "5"
            ]
          },
          "metadata": {
            "tags": []
          },
          "execution_count": 9
        }
      ]
    },
    {
      "cell_type": "markdown",
      "metadata": {
        "id": "PNi2bbbymZvK",
        "colab_type": "text"
      },
      "source": [
        "GPT2-Poet also provides a function to automatically run this on a csv corpus of haikus, to get a 2-D list of the syllables per line, in each haiku."
      ]
    },
    {
      "cell_type": "code",
      "metadata": {
        "id": "VkAlXnLYfd_v",
        "colab_type": "code",
        "colab": {
          "base_uri": "https://localhost:8080/",
          "height": 54
        },
        "outputId": "abe8a346-da6d-42d3-f677-01de76b33581"
      },
      "source": [
        "print(gpt2.get_syllables_list_csv(corpus_path))"
      ],
      "execution_count": 10,
      "outputs": [
        {
          "output_type": "stream",
          "text": [
            "[[5, 3, 5], [4, 2, 4], [6, 3, 6], [3, 6, 6], [4, 3, 3], [4, 5, 4], [2, 4, 2], [2, 6, 6], [3, 2, 3], [4, 5, 5], [5, 7, 5], [2, 3, 7], [7, 5, 4], [5, 5, 3], [3, 7, 4], [2, 5, 2], [5, 6, 4], [3, 3, 4], [4, 5, 4], [5, 5, 7], [2, 8, 5], [2, 6, 6], [3, 4, 2], [2, 4, 5], [4, 4, 5], [4, 7, 3], [5, 4, 3], [3, 4, 2], [4, 7, 3], [5, 6, 4], [3, 9, 4], [5, 6, 3], [5, 4, 4], [4, 5, 3], [4, 4, 4], [3, 4, 2], [4, 5, 6], [2, 3, 3], [3, 5, 3], [4, 7, 1], [3, 6, 5], [5, 4, 3], [1, 3, 3], [2, 7, 3], [3, 5, 4], [2, 8, 4], [4, 5, 3], [2, 6, 2], [3, 3, 4], [3, 6, 3], [3, 6, 4], [3, 8, 4], [3, 6, 5], [2, 4, 5], [3, 6, 3], [2, 5, 2], [3, 4, 2], [5, 4, 5], [3, 5, 2], [5, 6, 3], [2, 6, 3], [3, 5, 6], [4, 4, 2], [2, 5, 3], [2, 4, 5], [6, 5, 3], [3, 5, 5], [4, 5, 3], [3, 6, 6], [4, 4, 3], [2, 4, 5], [3, 5, 3], [5, 3, 2], [3, 5, 4], [2, 4, 5], [2, 7, 2], [5, 6, 3], [5, 5, 4], [2, 5, 4], [4, 3, 4], [4, 5, 5], [2, 4, 6], [3, 4, 3], [4, 2, 7], [3, 6, 4], [4, 6, 5], [5, 4, 6], [3, 4, 2], [5, 7, 5], [4, 6, 3], [3, 3, 4], [3, 7, 4], [3, 4, 3], [3, 3, 6], [3, 5, 3], [4, 4, 2], [3, 4, 3], [4, 4, 4], [4, 5, 2], [4, 6, 5], [4, 4, 3], [4, 4, 3], [5, 7, 8], [3, 4, 3], [5, 5, 8], [4, 5, 3], [6, 3, 3], [4, 5, 4], [5, 6, 5], [4, 4, 3], [2, 3, 6], [6, 4, 4], [3, 5, 3], [3, 5, 3], [5, 6, 2], [2, 4, 2], [2, 7, 2], [1, 2, 4], [2, 4, 7], [2, 5, 6], [5, 6, 3], [2, 4, 3], [3, 3, 3], [1, 7, 5], [3, 6, 2], [3, 6, 4], [4, 6, 2], [2, 5, 4], [5, 4, 4], [4, 5, 2], [3, 5, 4], [3, 5, 3], [5, 5, 3], [4, 5, 2], [4, 5, 5], [4, 6, 4], [5, 6, 5], [6, 8, 3], [4, 4, 1], [4, 5, 4], [2, 3, 4], [3, 6, 4], [4, 3, 3], [4, 5, 5], [3, 3, 3], [5, 4, 5], [5, 4, 3], [3, 4, 4], [4, 6, 6], [4, 3, 5], [4, 5, 2], [8, 2, 2], [5, 3, 2], [3, 6, 3], [5, 3, 4], [3, 2, 3], [3, 3, 6], [2, 5, 4], [3, 6, 3], [2, 7, 3], [3, 9, 5], [5, 5, 5], [3, 4, 2], [6, 3, 3], [2, 4, 6], [4, 6, 5], [3, 5, 4], [3, 5, 5], [3, 6, 3], [4, 5, 5], [1, 1, 1], [3, 6, 5], [4, 4, 4], [3, 6, 4], [3, 3, 4], [2, 3, 1], [4, 5, 2], [3, 5, 4], [4, 3, 4], [4, 5, 3], [5, 5, 3], [3, 3, 5], [3, 7, 5], [2, 5, 2], [4, 3, 2], [3, 4, 3], [3, 7, 4], [2, 5, 3], [2, 3, 4], [2, 4, 4], [3, 4, 3], [2, 4, 5], [5, 7, 4], [2, 4, 4], [3, 5, 4], [3, 4, 3], [3, 6, 3], [7, 4, 1], [5, 5, 5], [2, 4, 4], [4, 2, 5], [2, 4, 4], [4, 3, 3], [4, 6, 2], [4, 3, 6], [4, 7, 4], [3, 5, 5], [3, 5, 3], [2, 3, 5], [3, 4, 7], [3, 5, 5], [4, 3, 4], [4, 7, 3], [2, 4, 3], [4, 4, 4], [3, 3, 5], [3, 4, 8], [2, 3, 4], [4, 4, 5], [3, 3, 5], [4, 6, 3], [3, 5, 3], [1, 4, 5], [4, 3, 3], [5, 5, 4], [2, 6, 5], [3, 4, 4], [4, 6, 4], [3, 7, 4], [3, 5, 4], [4, 6, 6], [2, 8, 3], [8, 4, 3], [3, 8, 4], [3, 7, 2], [4, 7, 5], [3, 3, 5], [3, 2, 4], [2, 5, 3], [5, 2, 3], [2, 4, 4], [3, 6, 4], [6, 6, 2], [7, 6, 5], [2, 5, 3], [5, 4, 2], [4, 6, 3], [2, 6, 4], [4, 6, 5], [2, 5, 3], [6, 2, 3], [3, 3, 4], [3, 7, 4], [3, 5, 3], [3, 4, 5], [6, 5, 3], [3, 6, 5], [2, 6, 4], [4, 7, 3], [4, 5, 3], [5, 5, 7], [5, 5, 4], [2, 2, 5], [3, 3, 3], [4, 4, 5], [3, 5, 3], [2, 7, 4], [4, 5, 3], [2, 5, 2], [3, 3, 6], [4, 4, 3], [5, 6, 4], [3, 6, 2], [3, 3, 6], [4, 7, 4], [2, 5, 6], [5, 2, 5], [5, 4, 3], [3, 5, 5], [3, 6, 4], [4, 8, 5], [5, 6, 4], [3, 5, 4], [3, 7, 2], [4, 4, 3], [4, 6, 5], [2, 6, 4], [3, 6, 4], [2, 3, 4], [3, 3, 5], [2, 5, 4], [3, 3, 3], [3, 4, 4], [4, 6, 2], [2, 5, 4], [6, 6, 5], [3, 6, 4], [3, 5, 2], [3, 4, 3], [5, 5, 3], [4, 8, 4], [3, 6, 3], [2, 8, 3], [3, 5, 4], [6, 7, 4], [3, 4, 2], [2, 5, 4], [3, 8, 4], [2, 7, 1], [4, 5, 4], [2, 6, 4], [3, 5, 4], [4, 8, 3], [4, 7, 3], [3, 2, 3], [3, 4, 4], [4, 7, 6], [2, 4, 2], [3, 4, 3], [6, 6, 6], [6, 1, 6], [7, 4, 5], [3, 3, 5], [4, 5, 2], [3, 5, 5], [3, 4, 2], [1, 1, 2], [4, 4, 4], [6, 7, 7], [1, 4, 2], [4, 6, 8], [5, 3, 2], [3, 3, 3], [5, 2, 2], [3, 6, 5], [2, 2, 5], [4, 3, 1], [5, 6, 6], [4, 3, 3], [4, 3, 4], [5, 4, 6], [5, 7, 6], [3, 5, 2], [6, 5, 4], [5, 4, 4], [5, 5, 4], [5, 5, 5], [3, 5, 6], [5, 8, 6], [2, 4, 6], [3, 3, 4], [4, 5, 2], [5, 5, 9], [5, 5, 4], [5, 9, 5], [3, 5, 3], [3, 6, 3], [4, 6, 3], [5, 4, 5], [3, 7, 3], [5, 8, 5], [2, 5, 1], [4, 7, 3], [5, 2, 4], [2, 4, 5], [5, 7, 5], [5, 5, 4], [7, 4, 5], [4, 6, 4], [5, 4, 7], [4, 6, 6], [4, 6, 5], [7, 6, 6], [4, 7, 6], [2, 3, 4], [6, 4, 3], [5, 9, 5], [6, 5, 2], [5, 8, 5], [4, 7, 3], [7, 4, 4], [5, 4, 6], [6, 8, 5], [3, 6, 5], [5, 7, 5], [7, 6, 3], [2, 4, 3], [4, 3, 5], [5, 6, 5], [4, 9, 7], [2, 4, 2], [5, 8, 4], [4, 7, 5], [3, 3, 4], [4, 2, 5], [5, 7, 6], [3, 6, 3], [5, 8, 5], [5, 6, 6], [6, 4, 5], [2, 3, 4], [3, 5, 4], [4, 7, 7], [5, 7, 4], [5, 8, 5], [3, 6, 2], [5, 6, 7], [2, 6, 6], [4, 6, 1], [5, 9, 6], [2, 4, 5], [5, 7, 6], [4, 6, 4], [5, 6, 4], [5, 7, 6], [5, 8, 6], [6, 9, 5], [7, 8, 5], [5, 8, 4], [5, 8, 6], [6, 10, 7], [5, 8, 7], [4, 5, 4], [6, 7, 5], [6, 8, 5], [5, 8, 6], [5, 7, 5], [5, 7, 5], [4, 7, 3], [6, 7, 5], [5, 6, 5], [4, 8, 7], [6, 7, 6], [5, 8, 7], [8, 7, 7], [4, 8, 4], [6, 7, 7], [5, 7, 4], [5, 7, 5], [7, 5, 8], [5, 4, 4], [5, 5, 3], [5, 7, 5], [5, 7, 5], [4, 5, 7], [3, 7, 5], [5, 7, 6], [5, 7, 5], [5, 7, 5], [5, 8, 5], [4, 9, 5], [3, 7, 5], [2, 5, 4], [5, 7, 5], [4, 6, 4], [5, 1, 5], [5, 7, 5], [7, 9, 5], [5, 9, 4], [5, 8, 5], [5, 8, 5], [3, 7, 5], [5, 8, 5], [5, 7, 6], [4, 2, 5], [4, 3, 8], [4, 4, 4], [3, 2, 7], [5, 4, 5], [4, 4, 4], [2, 3, 2], [2, 4, 3], [4, 6, 5], [2, 5, 3], [4, 5, 4], [6, 4, 4], [5, 4, 3], [3, 4, 2], [6, 3, 3], [4, 5, 4], [3, 3, 4], [2, 5, 5], [3, 3, 3], [4, 2, 3], [5, 3, 2], [3, 4, 6], [6, 4, 4], [2, 6, 3], [4, 7, 3], [3, 5, 5], [4, 4, 4], [4, 6, 4], [3, 5, 2], [2, 8, 5], [4, 4, 3], [3, 4, 4], [3, 4, 6], [4, 5, 4], [5, 4, 5], [4, 7, 4], [4, 7, 7], [4, 6, 4], [4, 2, 2], [6, 4, 2], [3, 5, 5], [4, 5, 3], [3, 7, 6], [3, 4, 7], [3, 4, 6], [4, 2, 4], [3, 2, 3], [3, 4, 6], [6, 6, 4], [2, 3, 7], [5, 6, 8], [6, 3, 7], [4, 6, 7], [2, 6, 3], [5, 6, 7], [3, 4, 6], [4, 2, 6], [5, 4, 5], [3, 3, 4], [3, 6, 5], [4, 6, 2], [3, 3, 3], [3, 6, 4], [4, 6, 5], [3, 5, 5], [5, 4, 5], [3, 5, 5], [2, 7, 6], [3, 4, 4], [2, 4, 1], [4, 5, 5], [3, 7, 4], [5, 6, 3], [4, 5, 4], [2, 5, 3], [3, 7, 4], [5, 7, 5], [5, 6, 4], [4, 6, 4], [5, 8, 5], [2, 5, 4], [4, 2, 5], [2, 4, 2], [3, 8, 5], [3, 5, 4], [5, 5, 6], [3, 5, 2], [5, 7, 5], [3, 7, 3], [3, 6, 5], [4, 4, 5], [4, 6, 3], [5, 4, 5], [4, 4, 5], [5, 3, 3], [4, 9, 5], [6, 5, 4], [4, 5, 5], [6, 4, 5], [4, 7, 4], [2, 5, 7], [4, 5, 5], [1, 1, 1], [3, 6, 4], [6, 4, 4], [2, 4, 4], [5, 5, 4], [4, 5, 2], [5, 3, 4], [5, 3, 8], [6, 5, 7], [3, 4, 5], [4, 5, 4], [5, 5, 8], [4, 5, 1], [3, 7, 4], [5, 3, 5], [3, 5, 2], [1, 6, 5], [5, 5, 1], [1, 4, 3], [5, 5, 2], [3, 4, 5], [7, 3, 2], [3, 7, 7], [7, 3, 5], [7, 5, 7], [2, 8, 5], [7, 4, 4], [5, 7, 6], [4, 6, 4], [3, 3, 6], [2, 7, 5], [4, 5, 5], [4, 8, 4], [4, 4, 3], [3, 2, 4], [3, 7, 4], [3, 4, 5], [5, 8, 6], [5, 6, 4], [4, 5, 5], [4, 6, 4], [2, 7, 5], [3, 6, 4], [4, 10, 5], [5, 2, 3], [5, 5, 5], [3, 5, 4], [4, 2, 4], [3, 3, 6], [6, 2, 3], [7, 4, 8], [6, 9, 4], [5, 8, 5], [5, 1, 5], [4, 6, 5], [3, 5, 5], [5, 7, 3], [2, 8, 3], [4, 4, 3], [3, 5, 4], [5, 5, 7], [4, 5, 5], [2, 4, 3], [3, 4, 5], [4, 6, 3], [3, 6, 4], [2, 5, 2], [5, 3, 4], [5, 5, 4], [5, 3, 4], [3, 5, 4], [4, 3, 5], [5, 6, 4], [3, 6, 5], [4, 1, 3], [5, 5, 8], [2, 6, 3], [4, 5, 5], [7, 4, 4], [3, 3, 5], [5, 2, 4], [4, 3, 5], [6, 4, 4], [4, 2, 6], [5, 3, 7], [4, 7, 6], [3, 7, 4], [6, 4, 2], [4, 1, 4], [3, 3, 2], [6, 5, 4], [3, 3, 4], [4, 5, 7], [2, 4, 2], [5, 4, 1], [3, 3, 7], [3, 2, 4], [5, 5, 2], [2, 4, 5], [2, 4, 5], [3, 5, 5], [4, 7, 4], [3, 3, 2], [2, 3, 5], [3, 3, 3], [3, 3, 2], [5, 7, 6], [7, 4, 6], [4, 6, 4], [5, 2, 5], [3, 4, 5], [2, 5, 8], [4, 5, 4], [2, 5, 4], [3, 3, 4], [4, 5, 1], [2, 3, 3], [3, 4, 3], [4, 3, 3], [5, 4, 4], [5, 7, 8], [6, 5, 9], [1, 3, 5], [4, 4, 4], [3, 2, 4], [4, 3, 5], [2, 3, 1], [2, 4, 2], [3, 6, 3], [2, 7, 2], [4, 3, 2], [2, 5, 5], [4, 6, 2], [3, 5, 4], [4, 7, 3], [3, 5, 4], [3, 7, 5], [3, 4, 3], [3, 2, 2], [3, 7, 3], [4, 3, 3], [3, 7, 3], [2, 2, 4], [5, 9, 3], [4, 2, 5], [3, 3, 3], [3, 6, 5], [5, 4, 3], [4, 6, 4], [5, 6, 8], [4, 6, 3], [6, 4, 4], [4, 5, 2], [4, 4, 4], [2, 5, 5], [5, 5, 2], [3, 5, 4], [7, 4, 2], [4, 5, 4], [2, 3, 1], [3, 5, 5], [2, 5, 4], [3, 4, 3], [3, 6, 4], [4, 6, 3], [3, 4, 5], [3, 5, 5], [5, 4, 6], [3, 3, 7], [3, 6, 4], [3, 3, 5], [3, 4, 4], [4, 4, 3], [2, 5, 3], [3, 4, 4], [2, 8, 5], [3, 5, 4], [4, 8, 4], [3, 3, 3], [3, 6, 6], [5, 7, 4], [2, 6, 5], [4, 6, 4], [3, 5, 5], [6, 8, 3], [4, 8, 5], [3, 7, 2], [3, 6, 4], [5, 6, 6], [4, 5, 3], [7, 7, 4], [3, 5, 2], [3, 4, 4], [4, 7, 6], [3, 3, 4], [6, 5, 4], [5, 5, 6], [4, 5, 3], [6, 4, 4], [5, 5, 5], [3, 4, 5], [5, 4, 5], [5, 7, 3], [4, 5, 5], [7, 5, 1], [3, 5, 5], [5, 5, 4], [4, 4, 3], [5, 5, 6], [5, 6, 5], [3, 6, 4], [5, 4, 5], [4, 4, 7], [3, 4, 2], [4, 7, 5], [3, 4, 2], [3, 4, 6], [4, 6, 4], [2, 6, 4], [4, 6, 3], [4, 5, 6], [4, 7, 4], [3, 5, 6], [4, 5, 5], [6, 7, 5], [3, 6, 5], [5, 6, 3], [5, 4, 3], [2, 5, 6], [4, 5, 4], [4, 6, 3], [4, 6, 5], [4, 4, 7], [2, 4, 5], [2, 4, 3], [4, 3, 4], [3, 7, 3], [3, 4, 2], [3, 6, 4], [3, 4, 4], [5, 7, 6], [3, 7, 5], [3, 9, 2], [4, 4, 5], [3, 10, 3], [4, 3, 5], [5, 6, 5], [3, 5, 6], [4, 5, 3], [5, 6, 5], [3, 3, 4], [6, 6, 6], [4, 4, 5], [5, 8, 3], [3, 2, 3], [2, 6, 6], [5, 5, 3], [4, 6, 6], [4, 4, 5], [3, 6, 3], [2, 5, 2], [3, 3, 5], [5, 6, 4], [5, 4, 4], [4, 8, 4], [3, 6, 4], [4, 6, 4], [2, 3, 3], [4, 6, 2], [3, 5, 3], [3, 6, 3], [4, 6, 5], [2, 2, 4], [4, 2, 5], [5, 5, 4], [3, 2, 3], [5, 3, 3], [5, 9, 3], [3, 5, 4], [3, 7, 6], [3, 5, 4], [3, 7, 4], [3, 4, 4], [4, 6, 2], [5, 7, 3], [3, 4, 2], [3, 4, 4], [4, 4, 3], [4, 7, 4], [3, 7, 4], [5, 6, 3], [3, 4, 4], [4, 4, 3], [2, 4, 5], [3, 4, 4], [4, 5, 3], [3, 7, 5], [2, 5, 4], [4, 2, 6], [4, 8, 4], [3, 4, 5], [5, 5, 4], [3, 6, 5], [3, 7, 3], [4, 5, 3], [6, 6, 4], [4, 5, 6], [6, 5, 5], [1, 5, 4], [4, 6, 6], [4, 7, 3], [3, 3, 5], [3, 7, 3], [3, 6, 7], [6, 3, 4], [6, 5, 4], [4, 5, 3], [5, 3, 6], [2, 4, 8], [4, 4, 5], [5, 7, 4], [4, 5, 3], [4, 4, 6], [4, 7, 5], [3, 4, 4], [3, 6, 2], [2, 3, 3], [1, 5, 6], [3, 4, 4], [5, 5, 3], [4, 6, 5], [4, 6, 4], [3, 7, 2], [3, 6, 5], [3, 7, 3], [3, 3, 4], [4, 7, 5], [5, 6, 3], [4, 4, 3], [3, 6, 5], [3, 4, 3], [3, 4, 6], [5, 3, 3], [5, 6, 3], [2, 3, 2], [3, 4, 6], [4, 3, 3], [4, 6, 4], [3, 5, 5], [5, 4, 5], [5, 4, 3], [2, 7, 6], [4, 8, 5], [3, 4, 4], [3, 6, 4], [5, 8, 3], [3, 6, 4], [5, 6, 5], [2, 6, 2], [2, 6, 7], [3, 5, 3], [3, 6, 4], [3, 5, 4], [6, 2, 4], [1, 7, 6], [4, 3, 5], [3, 5, 3], [1, 1, 1], [3, 6, 6], [6, 3, 4], [3, 6, 4], [4, 5, 4], [5, 2, 4], [3, 5, 4], [2, 6, 5], [4, 9, 2], [2, 4, 4], [4, 6, 5], [3, 4, 4], [4, 5, 7], [5, 4, 3], [4, 7, 5], [4, 4, 5], [4, 6, 4], [3, 4, 3], [1, 6, 4], [4, 5, 3], [4, 3, 3], [4, 5, 5], [3, 6, 3], [5, 4, 6], [3, 5, 4], [4, 6, 3], [5, 6, 3], [3, 4, 3], [1, 4, 2], [2, 3, 3], [3, 3, 2], [3, 5, 4], [3, 2, 3], [3, 5, 5], [6, 3, 6], [3, 5, 4], [3, 4, 3], [3, 4, 5], [3, 5, 4], [5, 6, 6], [4, 3, 4], [5, 5, 5], [4, 4, 6], [2, 5, 5], [5, 6, 5], [3, 5, 4], [4, 6, 6], [4, 6, 5], [3, 3, 5], [4, 6, 6], [5, 8, 5], [3, 4, 5], [4, 3, 5], [3, 4, 5], [5, 7, 5], [3, 5, 2], [5, 5, 5], [3, 5, 5], [4, 4, 5], [1, 5, 3], [3, 7, 4], [4, 5, 5], [3, 3, 5], [6, 6, 5], [3, 4, 3], [3, 4, 3], [2, 4, 3], [3, 6, 6], [4, 6, 4], [5, 5, 5], [4, 5, 4], [2, 6, 5], [5, 7, 2], [4, 4, 4], [5, 6, 5], [4, 5, 3], [4, 5, 4], [4, 7, 4], [4, 5, 3], [3, 7, 3], [5, 6, 5], [4, 6, 5], [3, 5, 5], [4, 5, 4], [3, 4, 6], [3, 6, 3], [5, 5, 3], [6, 4, 4], [3, 5, 3], [5, 6, 1], [3, 5, 3], [3, 7, 5], [4, 8, 3], [2, 6, 4], [3, 5, 3], [5, 7, 3], [3, 4, 4], [3, 6, 3], [5, 6, 5], [5, 5, 5], [3, 6, 5], [4, 7, 6], [3, 8, 3], [5, 3, 4], [3, 4, 2], [4, 5, 4], [3, 4, 4], [6, 4, 6], [6, 7, 4], [1, 4, 3], [4, 5, 4], [3, 5, 3], [2, 6, 3], [3, 6, 4], [5, 5, 3], [3, 2, 2], [3, 4, 3], [2, 5, 4], [3, 5, 4], [4, 5, 3], [4, 5, 2], [4, 2, 3], [4, 7, 4], [3, 8, 5], [3, 5, 5], [4, 7, 6], [5, 5, 5], [4, 6, 4], [5, 6, 5], [4, 4, 6], [4, 6, 4], [2, 3, 3], [3, 4, 5], [3, 4, 3], [4, 7, 5], [3, 4, 6], [3, 4, 4], [3, 3, 5], [4, 2, 5], [5, 5, 4], [4, 6, 4], [4, 5, 4], [3, 5, 2], [6, 1, 4], [4, 2, 3], [5, 5, 2], [4, 5, 5], [4, 5, 6], [3, 5, 3], [3, 6, 6], [5, 6, 3], [3, 4, 4], [3, 5, 4], [5, 5, 3], [3, 5, 4], [4, 7, 3], [1, 5, 5], [4, 6, 2], [4, 3, 4], [2, 6, 4], [3, 3, 2], [5, 5, 4], [4, 5, 4], [8, 3, 6], [3, 6, 4], [3, 4, 5], [4, 5, 2], [4, 5, 4], [2, 6, 2], [5, 3, 3], [3, 4, 8], [5, 5, 3], [5, 5, 3], [4, 5, 2], [1, 5, 5], [4, 7, 4], [2, 6, 3], [6, 3, 4], [4, 4, 3], [4, 6, 3], [2, 5, 4], [4, 5, 6], [3, 4, 3], [2, 5, 3], [3, 8, 4], [3, 8, 4], [4, 7, 4], [4, 9, 5], [3, 8, 3], [3, 6, 5], [5, 5, 4], [4, 6, 3], [5, 6, 4], [5, 7, 5], [3, 4, 3], [3, 2, 4], [5, 7, 7], [2, 5, 3], [3, 3, 5], [4, 4, 4], [2, 6, 2], [3, 6, 3], [3, 4, 3], [2, 5, 3], [7, 6, 3], [3, 4, 5], [3, 6, 4], [2, 3, 3], [2, 3, 4], [2, 3, 3], [3, 5, 6], [3, 4, 4], [5, 7, 5], [2, 6, 6], [5, 7, 5], [5, 4, 5], [5, 5, 4], [4, 6, 3], [7, 2, 5], [5, 6, 3], [3, 5, 4], [3, 4, 4], [3, 5, 5], [3, 3, 5], [2, 5, 3], [4, 4, 3], [4, 7, 5], [2, 2, 5], [4, 5, 4], [4, 4, 3], [3, 4, 7], [4, 5, 2], [4, 8, 5], [3, 2, 4], [6, 2, 5], [3, 5, 5], [2, 4, 2], [2, 3, 3], [2, 6, 2], [3, 3, 2], [4, 5, 7], [4, 4, 3], [6, 2, 5], [4, 3, 5], [5, 5, 4], [2, 5, 4], [5, 3, 6], [4, 5, 4], [2, 2, 4], [2, 2, 3], [4, 5, 4], [4, 2, 4], [1, 3, 5], [3, 7, 2], [4, 3, 3], [2, 4, 4], [2, 2, 3], [3, 6, 5], [5, 4, 4], [5, 5, 4], [3, 6, 6], [4, 4, 3], [3, 5, 3], [5, 6, 4], [7, 5, 4], [5, 5, 6], [2, 5, 4], [4, 4, 6], [2, 5, 3], [2, 5, 6], [5, 5, 3], [5, 5, 5], [4, 3, 4], [5, 2, 5], [6, 5, 4], [3, 3, 4], [6, 4, 3], [3, 4, 4], [1, 2, 3], [3, 4, 2], [3, 3, 5], [4, 5, 5], [3, 6, 5], [3, 6, 3], [2, 4, 3], [2, 6, 4], [2, 4, 4], [4, 4, 3], [3, 4, 3], [3, 6, 2], [4, 5, 6], [3, 7, 2], [3, 2, 4], [5, 5, 3], [4, 7, 5], [4, 4, 4], [5, 5, 3], [4, 4, 4], [4, 5, 3], [3, 5, 4], [4, 5, 6], [4, 7, 3], [2, 3, 4], [3, 5, 3], [7, 3, 2], [2, 6, 3], [3, 4, 2], [4, 4, 4], [3, 4, 3], [4, 5, 5], [2, 3, 4], [3, 7, 3], [4, 4, 5], [6, 1, 6], [4, 6, 5], [3, 3, 5], [3, 5, 3], [3, 7, 3], [5, 3, 6], [4, 4, 3], [4, 6, 4], [4, 5, 4], [2, 5, 4], [3, 5, 6], [6, 5, 4], [6, 4, 5], [4, 6, 4], [4, 7, 6], [3, 6, 3], [3, 2, 3], [6, 7, 3], [6, 3, 3], [4, 5, 5], [7, 5, 4], [3, 5, 7], [2, 5, 6], [3, 3, 5], [3, 6, 4], [3, 4, 3], [1, 5, 4], [5, 7, 4], [2, 3, 3], [5, 3, 4], [2, 7, 3], [5, 6, 6], [4, 5, 5], [3, 4, 5], [3, 6, 3], [3, 3, 4], [2, 3, 2], [4, 8, 4], [2, 5, 4], [4, 5, 4], [3, 3, 3], [2, 9, 5], [3, 5, 3], [3, 7, 5], [4, 5, 5], [5, 7, 5], [2, 6, 5], [2, 3, 1], [3, 5, 4], [4, 5, 4], [5, 3, 1], [3, 7, 4], [5, 4, 4], [8, 5, 4], [2, 5, 2], [3, 3, 3], [4, 2, 6], [3, 5, 3], [3, 8, 6], [5, 4, 4], [5, 8, 5], [3, 3, 3], [2, 4, 5], [3, 3, 3], [4, 6, 4], [7, 7, 3], [4, 5, 4], [3, 5, 5], [2, 5, 4], [3, 2, 3], [3, 7, 4], [4, 6, 3], [5, 6, 4], [4, 5, 5], [3, 5, 5], [6, 5, 4], [3, 6, 4], [2, 5, 6], [2, 3, 2], [3, 6, 3], [3, 6, 5], [3, 3, 4], [6, 6, 4], [3, 4, 2], [4, 4, 3], [4, 6, 4], [4, 6, 3], [4, 4, 4], [3, 5, 5], [5, 5, 4], [3, 5, 3], [2, 5, 5], [5, 4, 6], [4, 5, 5], [5, 5, 4], [2, 4, 5], [2, 2, 5], [3, 6, 3], [4, 7, 3], [2, 5, 3], [2, 7, 7], [2, 3, 4], [2, 7, 3], [2, 4, 7], [4, 3, 5], [1, 4, 4], [2, 7, 2], [2, 7, 4], [4, 5, 5], [4, 4, 4], [3, 5, 4], [3, 4, 6], [4, 7, 4], [3, 6, 3], [5, 5, 5], [2, 7, 5], [4, 5, 4], [3, 3, 6], [2, 8, 6], [3, 4, 3], [3, 5, 3], [3, 5, 5], [4, 4, 5], [2, 4, 4], [5, 4, 5], [4, 4, 4], [3, 5, 3], [3, 5, 4], [3, 4, 4], [4, 6, 4], [5, 4, 1], [3, 5, 5], [4, 5, 4], [2, 7, 5], [5, 4, 4], [2, 2, 2], [6, 5, 4], [3, 6, 4], [2, 4, 2], [3, 8, 6], [4, 6, 4], [3, 7, 5], [4, 4, 3], [3, 4, 7], [5, 4, 2], [3, 6, 3], [4, 4, 2], [6, 4, 4], [3, 4, 5], [6, 6, 5], [3, 4, 4], [2, 4, 5], [3, 7, 5], [5, 6, 3], [3, 6, 5], [2, 5, 5], [4, 4, 5], [2, 4, 3], [4, 4, 4], [2, 5, 5], [3, 5, 4], [4, 8, 5], [3, 5, 2], [2, 2, 2], [3, 3, 6], [7, 6, 4], [5, 8, 4], [4, 5, 5], [4, 7, 3], [6, 8, 4], [4, 4, 3], [3, 6, 4], [3, 7, 2], [4, 7, 5], [3, 7, 6], [4, 6, 3], [4, 5, 3], [4, 4, 3], [3, 3, 5], [5, 4, 4], [3, 5, 3], [3, 4, 4], [4, 2, 4], [3, 4, 3], [4, 6, 5], [4, 2, 5], [2, 4, 5], [4, 5, 6], [4, 6, 3], [4, 4, 4], [2, 6, 4], [5, 7, 4], [3, 6, 4], [4, 6, 4], [3, 4, 2], [3, 4, 5], [2, 5, 3], [4, 3, 4], [2, 2, 5], [5, 7, 3], [2, 7, 5], [4, 2, 6], [3, 4, 6], [3, 5, 3], [4, 3, 4], [2, 6, 3], [5, 5, 3], [3, 5, 4], [7, 3, 4], [4, 4, 4], [10, 1, 7], [2, 5, 3], [4, 3, 4], [2, 7, 4], [5, 7, 6], [4, 5, 2], [3, 3, 5], [3, 5, 3], [4, 6, 6], [5, 3, 4], [5, 5, 4], [2, 5, 3], [5, 5, 2], [3, 6, 4], [2, 4, 5], [3, 4, 3], [2, 2, 2], [3, 4, 5], [5, 6, 5], [4, 6, 3], [2, 7, 6], [3, 5, 5], [2, 7, 3], [4, 5, 2], [4, 5, 4], [4, 5, 5], [3, 5, 3], [3, 5, 5], [3, 3, 5], [4, 6, 5], [5, 4, 4], [3, 4, 4], [4, 3, 5], [4, 4, 4], [4, 3, 4], [3, 7, 5], [5, 6, 6], [4, 5, 4], [4, 4, 4], [4, 6, 5], [3, 6, 2], [3, 5, 6], [3, 6, 2], [2, 5, 6], [4, 4, 5], [3, 4, 2], [3, 2, 5], [6, 5, 6], [3, 7, 4], [2, 7, 3], [3, 3, 4], [2, 5, 5], [4, 3, 7], [4, 7, 5], [2, 4, 3], [5, 4, 2], [5, 3, 5], [3, 5, 5], [6, 4, 4], [5, 5, 3], [3, 5, 4], [5, 6, 3], [3, 4, 4], [4, 5, 1], [3, 3, 1], [2, 5, 3], [1, 6, 1], [3, 4, 4], [4, 5, 4], [4, 3, 5], [4, 7, 5], [3, 5, 3], [2, 7, 5], [5, 3, 4], [3, 5, 4], [5, 5, 7], [4, 4, 7], [2, 5, 2], [3, 5, 4], [4, 4, 6], [4, 6, 3], [4, 4, 4], [3, 6, 4], [2, 2, 4], [4, 0, 4], [4, 3, 4], [4, 3, 5], [2, 7, 4], [4, 5, 3], [2, 4, 2], [2, 5, 3], [4, 10, 5], [4, 6, 3], [4, 4, 2], [3, 4, 4], [4, 7, 6], [3, 4, 6], [4, 5, 5], [2, 3, 5], [1, 4, 2], [5, 4, 3], [3, 4, 2], [3, 4, 4], [4, 5, 4], [4, 4, 3], [4, 3, 4], [3, 4, 3], [5, 6, 2], [3, 4, 5], [3, 4, 5], [2, 5, 4], [4, 3, 6], [4, 6, 3], [6, 5, 3], [3, 5, 3], [5, 3, 4], [3, 5, 7], [4, 4, 3], [5, 9, 5], [3, 7, 5], [5, 6, 5], [3, 5, 4], [3, 7, 6], [6, 4, 6], [3, 6, 5], [6, 8, 4], [3, 3, 5], [4, 5, 6], [2, 3, 5], [3, 4, 6], [4, 4, 3], [2, 2, 3], [4, 4, 4], [8, 3, 5], [3, 4, 2], [4, 6, 4], [3, 4, 5], [3, 4, 2], [2, 7, 3], [3, 6, 3], [3, 6, 6], [4, 4, 2], [4, 5, 4], [4, 3, 6], [3, 5, 6], [2, 4, 3], [4, 4, 3], [3, 7, 3], [3, 4, 7], [2, 6, 3], [5, 5, 5], [5, 4, 4], [4, 5, 3], [4, 5, 3], [2, 2, 4], [3, 6, 5], [5, 7, 3], [5, 7, 5], [2, 3, 2], [3, 4, 6], [3, 3, 6], [4, 5, 5], [4, 6, 6], [2, 2, 4], [4, 4, 4], [4, 5, 5], [3, 4, 6], [4, 7, 3], [3, 6, 5], [4, 5, 4], [5, 6, 5], [2, 6, 3], [5, 5, 2], [4, 4, 5], [4, 5, 3], [2, 5, 3], [4, 5, 4], [3, 5, 5], [4, 5, 3], [4, 3, 7], [3, 7, 5], [4, 7, 2], [4, 2, 2], [3, 5, 4], [7, 6, 4], [5, 1, 6], [2, 4, 3], [2, 4, 3], [5, 6, 6], [5, 7, 6], [2, 2, 5], [4, 3, 3], [3, 3, 3], [4, 2, 3], [3, 6, 4], [4, 4, 3], [4, 3, 4], [3, 4, 4], [2, 5, 3], [5, 6, 5], [4, 4, 4], [3, 7, 3], [3, 5, 5], [3, 8, 2], [3, 4, 4], [4, 5, 5], [3, 8, 2], [3, 4, 4], [2, 6, 5], [3, 4, 3], [4, 5, 4], [4, 6, 4], [3, 8, 5], [4, 4, 4], [5, 6, 5], [3, 4, 3], [3, 5, 4], [4, 6, 5], [3, 5, 6], [4, 3, 3], [5, 3, 4], [4, 4, 4], [3, 5, 5], [3, 6, 4], [3, 7, 2], [4, 7, 4], [5, 3, 7], [5, 3, 4], [2, 6, 5], [2, 3, 5], [2, 5, 4], [3, 4, 5], [3, 3, 2], [4, 4, 5], [4, 5, 3], [4, 6, 4], [3, 7, 4], [2, 5, 4], [3, 3, 5], [3, 4, 3], [3, 2, 5], [3, 5, 4], [4, 5, 5], [2, 5, 5], [3, 4, 3], [3, 4, 7], [4, 5, 4], [3, 5, 6], [3, 4, 4], [3, 8, 2], [5, 6, 4], [3, 5, 3], [5, 7, 4], [4, 7, 5], [4, 6, 4], [3, 5, 4], [2, 4, 4], [5, 6, 4], [3, 5, 5], [3, 5, 5], [5, 6, 6], [6, 7, 5], [2, 5, 5], [3, 5, 4], [4, 2, 5], [3, 3, 5], [2, 4, 3], [3, 3, 6], [4, 5, 3], [3, 4, 3], [3, 2, 3], [4, 4, 3], [3, 6, 3], [2, 5, 3], [2, 7, 4], [4, 3, 2], [3, 4, 4], [5, 5, 5], [6, 4, 6], [5, 5, 2], [4, 7, 4], [3, 7, 4], [2, 4, 4], [3, 5, 6], [4, 5, 3], [5, 3, 6], [3, 6, 3], [4, 5, 5], [3, 5, 7], [3, 7, 4], [3, 4, 4], [2, 3, 3], [4, 3, 3], [5, 7, 6], [5, 6, 3], [4, 7, 4], [5, 4, 3], [3, 4, 6], [2, 6, 3], [5, 4, 4], [3, 4, 5], [3, 4, 4], [5, 7, 4], [3, 5, 4], [3, 5, 2], [2, 6, 3], [3, 6, 4], [3, 4, 5], [4, 5, 5], [2, 3, 4], [5, 3, 6], [4, 6, 4], [3, 7, 3], [5, 5, 5], [2, 6, 4], [4, 5, 3], [3, 5, 4], [3, 3, 4], [3, 3, 5], [3, 8, 4], [2, 5, 3], [2, 6, 6], [5, 7, 4], [4, 8, 4], [3, 4, 4], [2, 5, 5], [4, 3, 4], [4, 6, 5], [5, 5, 5], [4, 7, 5], [3, 6, 3], [5, 5, 5], [3, 5, 4], [3, 2, 4], [3, 6, 2], [3, 7, 4], [4, 5, 3], [4, 5, 4], [5, 5, 5], [3, 3, 5], [3, 3, 3], [4, 7, 2], [4, 4, 3], [2, 5, 4], [3, 4, 2], [6, 2, 4], [4, 3, 3], [3, 8, 2], [2, 6, 5], [2, 4, 4], [1, 5, 3], [6, 7, 3], [3, 4, 5], [3, 5, 5], [4, 7, 4], [3, 5, 3], [3, 5, 3], [3, 5, 6], [4, 2, 5], [4, 7, 3], [5, 6, 3], [4, 6, 5], [4, 5, 4], [3, 4, 1], [4, 6, 6], [3, 4, 3], [2, 6, 3], [4, 3, 2], [3, 4, 2], [3, 5, 7], [4, 6, 2], [3, 6, 5], [5, 7, 5], [3, 6, 4], [3, 4, 6], [5, 5, 3], [4, 4, 5], [3, 6, 3], [3, 6, 5], [3, 4, 3], [5, 4, 4], [4, 5, 3], [3, 5, 6], [4, 7, 4], [3, 4, 6], [4, 5, 4], [3, 3, 3], [5, 7, 5], [3, 4, 3], [2, 6, 3], [2, 4, 5], [4, 2, 5], [3, 4, 4], [4, 6, 4], [5, 4, 4], [4, 6, 4], [4, 7, 4], [2, 4, 7], [4, 5, 5], [4, 6, 5], [3, 6, 4], [3, 4, 5], [4, 4, 5], [5, 5, 4], [4, 5, 4], [4, 2, 4], [3, 5, 3], [3, 4, 2], [4, 5, 4], [4, 4, 3], [3, 8, 2], [4, 7, 5], [4, 3, 3], [2, 2, 4], [3, 5, 4], [3, 5, 2], [4, 1, 3], [2, 5, 4], [4, 2, 3], [3, 7, 5], [3, 6, 3], [3, 6, 2], [2, 3, 6], [4, 6, 4], [2, 4, 5], [2, 5, 3], [3, 7, 4], [4, 7, 3], [5, 4, 5], [5, 4, 4], [3, 3, 4], [4, 4, 5], [3, 6, 3], [3, 6, 3], [4, 5, 7], [3, 7, 4], [5, 4, 2], [5, 5, 5], [3, 7, 4], [6, 6, 3], [2, 5, 4], [6, 5, 4], [3, 4, 4], [6, 5, 2], [2, 7, 2], [3, 4, 4], [3, 5, 4], [6, 6, 3], [3, 3, 6], [4, 8, 4], [6, 4, 4], [4, 4, 4], [3, 4, 4], [3, 3, 4], [2, 4, 4], [3, 5, 5], [2, 8, 5], [5, 7, 4], [5, 5, 4], [3, 6, 3], [4, 5, 3], [2, 7, 5], [1, 6, 4], [4, 4, 5], [5, 5, 2], [3, 4, 3], [4, 4, 6], [4, 4, 3], [4, 4, 4], [3, 7, 4], [4, 7, 4], [4, 3, 4], [3, 6, 3], [5, 7, 5], [5, 5, 4], [3, 5, 4], [3, 4, 4], [3, 5, 4], [4, 5, 3], [5, 4, 4], [5, 4, 4], [2, 6, 6], [5, 5, 4], [2, 5, 3], [3, 5, 4], [4, 7, 3], [4, 5, 5], [4, 5, 3], [3, 7, 6], [5, 6, 4], [3, 4, 2], [6, 5, 4], [4, 5, 5], [4, 5, 2], [4, 3, 4], [6, 2, 4], [3, 4, 3], [3, 4, 5], [3, 8, 5], [4, 4, 6], [4, 5, 2], [2, 6, 3], [3, 7, 2], [3, 6, 2], [5, 7, 5], [2, 6, 6], [4, 5, 3], [4, 4, 6], [5, 4, 3], [3, 4, 5], [2, 8, 3], [3, 3, 5], [4, 4, 5], [4, 7, 5], [3, 4, 3], [2, 3, 5], [7, 4, 3], [3, 4, 5], [5, 4, 5], [4, 5, 4], [4, 4, 6], [6, 4, 6], [3, 4, 6], [5, 5, 5], [3, 5, 3], [4, 4, 3], [3, 5, 3], [2, 6, 5], [4, 3, 4], [2, 5, 3], [3, 4, 5], [2, 5, 5], [3, 6, 3], [3, 6, 3], [3, 5, 5], [4, 5, 2], [4, 7, 3], [3, 3, 4], [4, 6, 4], [4, 6, 4], [3, 6, 3], [5, 3, 4], [4, 6, 5], [2, 7, 7], [3, 5, 4], [5, 5, 5], [4, 3, 3], [3, 2, 4], [5, 4, 4], [3, 4, 5], [3, 7, 5], [3, 4, 6], [2, 6, 4], [5, 8, 2], [7, 4, 4], [2, 6, 4], [4, 9, 5], [3, 4, 2], [4, 4, 7], [3, 2, 7], [3, 4, 4], [6, 5, 3], [5, 4, 4], [3, 5, 3], [5, 5, 5], [2, 4, 2], [5, 5, 4], [3, 5, 3], [2, 6, 4], [4, 4, 5], [4, 6, 5], [4, 2, 4], [4, 4, 2], [3, 5, 3], [4, 6, 3], [2, 2, 2], [5, 6, 4], [4, 8, 7], [3, 7, 3], [4, 6, 5], [2, 6, 2], [5, 6, 6], [4, 4, 4], [5, 4, 3], [3, 7, 6], [3, 6, 6], [8, 2, 4], [3, 4, 5], [3, 5, 4], [3, 4, 4], [5, 6, 3], [3, 6, 4], [4, 7, 5], [3, 6, 4], [3, 9, 3], [3, 3, 4], [3, 4, 3], [4, 7, 3], [4, 8, 5], [3, 6, 2], [2, 4, 5], [3, 3, 4], [5, 4, 5], [3, 5, 6], [5, 5, 4], [4, 4, 3], [3, 4, 4], [4, 2, 5], [2, 4, 4], [4, 3, 5], [4, 3, 4], [3, 6, 5], [4, 7, 4], [3, 5, 3], [4, 4, 4], [3, 5, 3], [5, 4, 2], [4, 4, 6], [4, 5, 5], [5, 6, 5], [3, 4, 4], [3, 4, 2], [6, 6, 4], [1, 6, 4], [3, 5, 6], [6, 6, 6], [3, 4, 3], [3, 6, 5], [2, 6, 5], [4, 7, 5], [2, 3, 5], [3, 6, 4], [7, 2, 4], [5, 4, 4], [4, 4, 4], [5, 4, 3], [4, 4, 4], [3, 4, 8], [4, 6, 3], [3, 6, 4], [3, 4, 4], [4, 4, 4], [4, 6, 5], [7, 5, 4], [5, 2, 4], [3, 7, 3], [4, 4, 3], [4, 5, 4], [5, 4, 2], [4, 5, 4], [3, 7, 5], [4, 7, 5], [3, 7, 6], [2, 4, 2], [3, 4, 6], [3, 5, 2], [3, 7, 3], [4, 6, 3], [3, 4, 3], [6, 7, 3], [6, 5, 5], [2, 6, 4], [5, 6, 3], [3, 5, 4], [4, 5, 4], [2, 5, 3], [3, 5, 3], [2, 3, 5], [6, 6, 3], [6, 5, 2], [3, 4, 5], [2, 3, 5], [3, 4, 2], [2, 5, 8], [2, 4, 3], [6, 5, 6], [2, 5, 6], [4, 7, 3], [3, 7, 4], [3, 9, 5], [6, 3, 4], [2, 5, 2], [5, 6, 4], [3, 2, 3], [3, 3, 3], [6, 4, 3], [3, 4, 2], [3, 6, 6], [5, 4, 4], [4, 4, 3], [5, 9, 4], [4, 5, 4], [4, 4, 3], [6, 6, 4], [3, 5, 5], [4, 5, 5], [3, 5, 6], [4, 6, 7], [4, 6, 7], [6, 3, 4], [3, 6, 3], [4, 6, 4], [5, 2, 7], [4, 5, 3], [2, 5, 3], [6, 3, 4], [4, 6, 4], [3, 6, 4], [5, 7, 3], [3, 7, 5], [4, 2, 2], [2, 8, 3], [3, 3, 4], [4, 7, 4], [4, 5, 5], [4, 4, 5], [3, 4, 2], [2, 4, 3], [1, 4, 3], [3, 5, 4], [6, 9, 3], [5, 6, 3], [3, 4, 4], [2, 6, 4], [4, 5, 3], [2, 5, 4], [5, 5, 2], [2, 6, 3], [5, 6, 4], [4, 4, 5], [4, 6, 4], [4, 5, 4], [3, 3, 3], [3, 3, 2], [3, 5, 3], [3, 4, 6], [5, 4, 4], [4, 6, 3], [4, 6, 5], [2, 7, 4], [6, 6, 5], [3, 4, 5], [3, 8, 6], [3, 6, 4], [3, 4, 6], [3, 5, 3], [4, 5, 3], [1, 6, 3], [3, 5, 3], [3, 2, 4], [3, 5, 4], [4, 3, 3], [5, 6, 5], [5, 5, 3], [5, 4, 3], [4, 8, 2], [4, 7, 4], [5, 4, 4], [2, 6, 4], [4, 3, 3], [4, 5, 2], [4, 6, 4], [4, 5, 5], [4, 4, 5], [3, 5, 3], [5, 5, 6], [3, 6, 4], [3, 3, 2], [6, 4, 4], [3, 3, 2], [4, 4, 6], [4, 4, 5], [3, 7, 4], [3, 4, 5], [3, 6, 3], [4, 4, 6], [3, 7, 5], [3, 6, 7], [3, 7, 4], [3, 4, 2], [4, 7, 4], [3, 5, 3], [3, 6, 3], [3, 7, 3], [2, 5, 4], [5, 5, 4], [3, 7, 4], [4, 5, 2], [2, 5, 6], [4, 5, 4], [4, 5, 3], [3, 7, 4], [3, 7, 6], [2, 5, 5], [5, 6, 5], [6, 4, 3], [3, 4, 2], [4, 3, 3], [2, 5, 5], [5, 6, 3], [3, 3, 6], [8, 5, 3], [4, 5, 3], [5, 3, 7], [4, 6, 5], [3, 4, 3], [3, 6, 4], [3, 4, 5], [5, 7, 5], [4, 8, 5], [4, 5, 2], [2, 6, 3], [4, 5, 5], [5, 5, 4], [2, 4, 2], [5, 6, 2], [4, 7, 3], [4, 5, 7], [4, 5, 3], [3, 4, 4], [4, 5, 4], [3, 7, 2], [6, 4, 8], [4, 4, 5], [4, 4, 5], [2, 5, 3], [4, 5, 4], [2, 4, 4], [5, 6, 1], [4, 6, 3], [3, 7, 5], [3, 4, 3], [2, 5, 4], [6, 4, 4], [6, 7, 5], [3, 8, 4], [4, 5, 6], [4, 6, 3], [3, 5, 5], [3, 5, 3], [2, 8, 4], [3, 5, 3], [2, 4, 5], [5, 5, 5], [5, 3, 4], [3, 6, 8], [3, 6, 5], [4, 5, 4], [6, 6, 4], [4, 6, 5], [3, 2, 4], [6, 5, 6], [2, 5, 5], [4, 7, 5], [3, 5, 3], [5, 4, 2], [4, 3, 6], [3, 4, 3], [2, 3, 3], [3, 7, 4], [4, 6, 3], [4, 5, 7], [2, 3, 3], [5, 7, 6], [5, 4, 5], [2, 6, 3], [6, 4, 4], [4, 4, 4], [3, 5, 2], [3, 5, 5], [3, 7, 2], [4, 5, 4], [4, 4, 5], [3, 4, 2], [3, 3, 2], [4, 4, 3], [3, 3, 3], [3, 7, 5], [7, 7, 2], [3, 3, 5], [5, 3, 5], [2, 5, 4], [2, 6, 6], [3, 5, 4], [4, 5, 5], [2, 7, 4], [4, 4, 6], [3, 5, 4], [3, 4, 4], [4, 5, 6], [4, 4, 3], [3, 4, 6], [2, 4, 3], [3, 7, 4], [2, 4, 4], [2, 4, 3], [3, 5, 4], [2, 4, 4], [5, 3, 5], [4, 6, 4], [2, 4, 3], [6, 6, 3], [2, 5, 5], [6, 7, 4], [4, 2, 4], [5, 2, 3], [3, 6, 7], [7, 5, 4], [4, 5, 5], [2, 5, 3], [4, 4, 4], [3, 4, 4], [3, 3, 3], [3, 6, 6], [3, 7, 5], [5, 5, 5], [5, 5, 5], [5, 5, 4], [4, 5, 5], [3, 4, 5], [3, 6, 5], [2, 3, 7], [3, 2, 5], [6, 2, 4], [6, 4, 2], [4, 4, 4], [4, 5, 3], [3, 4, 4], [3, 9, 5], [2, 5, 2], [3, 5, 4], [4, 4, 5], [3, 7, 6], [3, 4, 3], [2, 3, 2], [4, 3, 4], [3, 5, 4], [3, 4, 3], [4, 4, 4], [4, 7, 4], [3, 3, 4], [3, 3, 4], [3, 5, 4], [5, 6, 5], [3, 5, 5], [4, 6, 6], [5, 4, 4], [4, 6, 5], [4, 3, 3], [4, 6, 5], [3, 7, 2], [4, 6, 3], [5, 4, 2], [4, 4, 5], [7, 6, 5], [3, 5, 3], [5, 4, 4], [3, 6, 4], [5, 2, 5], [5, 5, 3], [4, 5, 3], [3, 6, 2], [6, 7, 3], [3, 8, 7], [3, 5, 3], [3, 5, 3], [4, 6, 4], [3, 4, 2], [3, 4, 3], [3, 5, 6], [8, 5, 5], [5, 5, 3], [4, 4, 6], [3, 5, 3], [3, 2, 4], [3, 6, 4], [4, 5, 4], [3, 5, 5], [3, 4, 5], [3, 4, 3], [4, 7, 4], [3, 8, 4], [4, 6, 5], [3, 2, 5], [4, 5, 5], [3, 5, 3], [5, 5, 3], [4, 5, 5], [5, 9, 5], [4, 3, 5], [4, 4, 3], [3, 4, 3], [4, 6, 3], [5, 5, 5], [4, 3, 5], [3, 3, 4], [4, 7, 5], [3, 3, 2], [4, 5, 5], [3, 5, 5], [4, 4, 4], [4, 5, 6], [3, 4, 3], [2, 5, 5], [3, 3, 6], [3, 5, 3], [2, 6, 5], [3, 6, 6], [1, 6, 2], [3, 7, 4], [3, 4, 3], [5, 8, 5], [3, 3, 5], [4, 4, 4], [2, 4, 4], [4, 5, 4], [3, 7, 6], [3, 4, 4], [3, 4, 3], [3, 5, 5], [4, 7, 5], [3, 5, 4], [4, 7, 4], [3, 6, 5], [4, 7, 4], [2, 4, 4], [4, 3, 4], [3, 4, 3], [2, 6, 6], [3, 6, 5], [4, 9, 3], [3, 7, 5], [5, 6, 5], [3, 4, 5], [2, 5, 5], [3, 7, 6], [4, 6, 4], [4, 6, 5], [4, 5, 5], [5, 4, 2], [4, 8, 2], [5, 5, 3], [6, 5, 3], [2, 3, 3], [5, 4, 2], [2, 6, 5], [2, 4, 4], [4, 7, 8], [4, 4, 3], [4, 5, 4], [6, 4, 5], [3, 3, 4], [5, 5, 4], [2, 5, 4], [4, 3, 4], [3, 3, 6], [3, 5, 2], [3, 6, 6], [6, 7, 2], [3, 6, 4], [3, 5, 3], [3, 5, 4], [3, 8, 4], [4, 6, 2], [3, 7, 3], [3, 5, 4], [6, 3, 4], [3, 7, 2], [2, 7, 3], [3, 3, 5], [3, 7, 3], [4, 6, 6], [5, 6, 5], [2, 4, 2], [3, 5, 4], [4, 6, 3], [3, 6, 7], [5, 7, 6], [3, 6, 7], [6, 4, 3], [3, 4, 4], [3, 7, 4], [5, 5, 2], [4, 5, 3], [5, 4, 3], [3, 5, 4], [5, 6, 5], [3, 7, 4], [5, 5, 6], [5, 6, 3], [2, 6, 2], [5, 6, 4], [3, 6, 2], [3, 6, 3], [2, 8, 4], [4, 5, 3], [5, 6, 4], [3, 6, 6], [4, 4, 2], [3, 5, 7], [2, 5, 5], [3, 2, 2], [3, 8, 5], [4, 7, 2], [4, 5, 4], [3, 4, 2], [3, 6, 6], [4, 5, 3], [4, 7, 3], [4, 4, 3], [5, 5, 4], [3, 6, 4], [4, 3, 3], [3, 2, 3], [3, 6, 5], [4, 6, 2], [2, 3, 4], [4, 4, 4], [3, 5, 4], [3, 4, 3], [4, 5, 4], [4, 3, 3], [3, 4, 3], [3, 5, 4], [4, 5, 5], [3, 6, 3], [2, 4, 5], [3, 7, 3], [5, 6, 2], [5, 7, 7], [3, 6, 5], [3, 5, 4], [3, 5, 3], [5, 7, 3], [3, 8, 5], [4, 7, 5], [3, 6, 4], [3, 3, 3], [6, 7, 5], [6, 3, 5], [5, 3, 5], [3, 6, 4], [2, 3, 5], [3, 6, 5], [5, 4, 4], [4, 6, 4], [4, 7, 4], [2, 4, 4], [4, 3, 3], [4, 5, 6], [3, 5, 2], [2, 4, 6], [3, 5, 5], [2, 4, 4], [3, 6, 6], [2, 5, 3], [6, 2, 3], [4, 3, 3], [3, 7, 3], [2, 5, 4], [3, 7, 6], [5, 5, 3], [3, 6, 7], [3, 5, 4], [3, 5, 5], [4, 2, 2], [3, 7, 3], [2, 5, 2], [3, 4, 3], [4, 9, 5], [3, 7, 4], [4, 5, 4], [3, 7, 5], [3, 5, 6], [5, 7, 4], [8, 6, 4], [3, 6, 5], [3, 5, 4], [4, 6, 5], [3, 6, 3], [3, 6, 4], [4, 4, 6], [4, 8, 5], [2, 5, 2], [2, 3, 3], [3, 2, 5], [4, 4, 5], [4, 5, 2], [2, 4, 4], [2, 8, 3], [2, 5, 2], [5, 4, 3], [4, 6, 4], [5, 4, 3], [2, 4, 4], [4, 6, 4], [4, 3, 4], [2, 4, 3], [4, 6, 3], [4, 7, 2], [3, 4, 4], [4, 5, 3], [5, 6, 4], [5, 4, 3], [4, 1, 4], [7, 7, 4], [5, 6, 3], [4, 6, 3], [5, 6, 5], [2, 7, 5], [3, 6, 4], [3, 6, 5], [5, 6, 3], [3, 5, 6], [4, 3, 6], [5, 7, 3], [4, 4, 3], [3, 5, 4], [4, 3, 4], [6, 5, 5], [3, 4, 4], [4, 7, 4], [5, 2, 4], [3, 7, 4], [3, 6, 3], [5, 6, 5], [4, 8, 5], [2, 6, 3], [4, 5, 7], [1, 6, 6], [5, 5, 4], [3, 5, 4], [3, 6, 4], [3, 3, 5], [4, 7, 3], [4, 6, 6], [3, 4, 5], [6, 3, 6], [5, 5, 5], [4, 3, 5], [6, 7, 4], [4, 4, 4], [5, 7, 6], [5, 7, 4], [4, 5, 4], [3, 7, 3], [6, 4, 4], [3, 7, 7], [3, 4, 2], [3, 2, 5], [5, 2, 3], [3, 5, 3], [2, 8, 8], [3, 6, 4], [2, 4, 5], [4, 6, 3], [4, 4, 5], [5, 4, 3], [3, 3, 4], [4, 6, 2], [4, 7, 6], [4, 4, 5], [3, 4, 5], [3, 5, 2], [3, 5, 4], [3, 5, 5], [5, 4, 5], [2, 4, 3], [3, 6, 1], [3, 4, 10], [5, 7, 4], [3, 4, 3], [4, 3, 3], [2, 5, 3], [5, 5, 3], [1, 3, 6], [3, 7, 3], [2, 6, 4], [4, 8, 5], [5, 7, 6], [4, 6, 3], [2, 5, 4], [4, 6, 3], [3, 5, 3], [3, 4, 4], [4, 6, 3], [2, 3, 1], [4, 3, 1], [3, 4, 4], [6, 4, 3], [5, 4, 4], [5, 7, 3], [4, 4, 4], [3, 5, 4], [3, 3, 5], [4, 6, 4], [3, 4, 4], [3, 5, 3], [5, 7, 7], [3, 3, 3], [3, 5, 2], [3, 3, 2], [4, 6, 4], [3, 5, 3], [3, 5, 7], [2, 4, 5], [2, 3, 3], [5, 7, 4], [5, 5, 3], [4, 5, 7], [3, 4, 4], [4, 5, 4], [4, 7, 3], [4, 6, 4], [3, 4, 5], [5, 5, 5], [5, 6, 3], [2, 4, 4], [6, 5, 4], [3, 5, 3], [4, 6, 3], [4, 5, 3], [4, 2, 5], [4, 5, 5], [3, 3, 3], [4, 8, 6], [4, 3, 4], [6, 4, 3], [3, 3, 2], [5, 6, 5], [5, 3, 2], [3, 7, 6], [5, 3, 3], [3, 5, 5], [4, 3, 7], [5, 5, 4], [3, 4, 2], [3, 5, 4], [3, 3, 6], [4, 3, 4], [5, 7, 2], [4, 2, 6], [5, 5, 6], [3, 4, 4], [3, 5, 2], [4, 7, 4], [4, 5, 4], [4, 4, 3], [3, 5, 3], [3, 2, 5], [4, 4, 5], [2, 6, 5], [3, 6, 3], [5, 5, 6], [4, 4, 3], [4, 6, 3], [6, 8, 4], [5, 6, 4], [3, 5, 4], [3, 7, 4], [2, 6, 2], [4, 6, 5], [3, 6, 4], [4, 7, 5], [6, 5, 4], [2, 4, 6], [4, 6, 2], [5, 4, 5], [3, 4, 1], [3, 6, 4], [1, 6, 4], [5, 6, 5], [3, 4, 6], [2, 3, 3], [4, 4, 4], [4, 7, 3], [6, 6, 3], [5, 5, 4], [5, 3, 7], [2, 5, 5], [4, 5, 4], [4, 5, 4], [2, 4, 3], [5, 2, 6], [4, 3, 5], [6, 3, 3], [4, 6, 4], [3, 5, 3], [2, 3, 5], [3, 5, 5], [5, 7, 5], [3, 6, 4], [4, 8, 5], [2, 6, 6], [5, 5, 4], [5, 7, 6], [2, 4, 3], [4, 3, 4], [4, 2, 3], [5, 6, 5], [2, 5, 5], [5, 4, 6], [5, 6, 4], [2, 6, 4], [4, 5, 5], [4, 6, 6], [2, 5, 5], [5, 4, 5], [3, 4, 3], [3, 7, 2], [3, 6, 5], [5, 5, 6], [5, 6, 7], [4, 6, 4], [3, 4, 6], [4, 6, 4], [5, 4, 5], [4, 4, 5], [3, 7, 3], [5, 4, 5], [4, 3, 5], [2, 2, 3], [5, 4, 4], [3, 8, 5], [4, 3, 4], [6, 4, 3], [4, 5, 6], [2, 4, 3], [3, 5, 4], [5, 4, 5], [3, 6, 5], [3, 4, 5], [3, 4, 3], [4, 4, 3], [9, 2, 5], [3, 7, 2], [3, 3, 5], [4, 5, 6], [4, 6, 4], [2, 5, 4], [7, 4, 3], [3, 5, 4], [3, 4, 2], [4, 5, 3], [4, 5, 4], [5, 6, 2], [2, 5, 6], [5, 3, 5], [3, 4, 2], [3, 7, 7], [3, 3, 4], [3, 7, 4], [4, 7, 6], [5, 5, 3], [2, 8, 4], [2, 6, 4], [2, 6, 2], [8, 3, 5], [5, 6, 4], [3, 6, 2], [3, 5, 4], [3, 8, 6], [2, 5, 6], [3, 6, 6], [5, 5, 3], [3, 4, 3], [5, 8, 4], [3, 7, 3], [3, 3, 3], [6, 2, 4], [4, 8, 4], [4, 5, 4], [3, 5, 4], [4, 4, 3], [3, 3, 5], [4, 5, 4], [4, 5, 3], [4, 4, 4], [5, 4, 5], [2, 4, 3], [4, 4, 7], [4, 5, 4], [3, 4, 3], [4, 6, 3], [2, 5, 3], [4, 4, 4], [2, 6, 5], [3, 5, 5], [5, 3, 5], [4, 3, 4], [4, 6, 6], [4, 5, 5], [1, 5, 5], [5, 6, 3], [2, 3, 4], [4, 3, 6], [3, 5, 4], [3, 6, 4], [5, 5, 5], [3, 4, 4], [4, 3, 3], [4, 6, 6], [3, 7, 3], [3, 5, 5], [4, 7, 5], [5, 5, 5], [5, 5, 6], [4, 4, 6], [3, 3, 3], [4, 2, 5], [5, 4, 6], [2, 6, 3], [5, 3, 5], [3, 3, 4], [3, 5, 5], [4, 8, 3], [4, 2, 4], [4, 5, 5], [2, 5, 2], [5, 7, 5], [5, 5, 4], [6, 6, 5], [2, 4, 5], [3, 5, 3], [2, 4, 3], [3, 5, 5], [3, 5, 3], [2, 3, 2], [3, 6, 6], [4, 9, 6], [1, 2, 3], [6, 6, 6], [2, 6, 3], [5, 7, 4], [3, 2, 4], [4, 5, 4], [3, 6, 5], [4, 5, 3], [3, 5, 5], [2, 4, 5], [6, 4, 4], [5, 6, 4], [5, 4, 5], [3, 2, 5], [3, 4, 3], [3, 8, 4], [5, 7, 5], [3, 4, 4], [4, 4, 2], [3, 6, 3], [2, 6, 3], [4, 5, 5], [4, 7, 6], [3, 6, 5], [2, 4, 3], [2, 5, 2], [2, 5, 3], [2, 5, 4], [5, 5, 4], [2, 6, 5], [2, 3, 3], [3, 4, 5], [2, 3, 3], [5, 9, 3], [4, 4, 5], [4, 8, 3], [5, 4, 5], [1, 7, 4], [4, 5, 3], [3, 3, 3], [3, 8, 5], [5, 7, 5], [2, 6, 4], [3, 4, 2], [4, 5, 3], [4, 6, 5], [1, 4, 2], [4, 5, 5], [3, 4, 4], [3, 5, 5], [4, 5, 4], [3, 6, 6], [3, 6, 5], [5, 2, 4], [6, 5, 5], [5, 4, 3], [6, 7, 4], [5, 5, 5], [1, 3, 2], [4, 6, 4], [3, 5, 5], [3, 4, 4], [4, 5, 5], [3, 8, 6], [5, 4, 6], [4, 6, 4], [3, 7, 3], [3, 6, 6], [4, 6, 4], [5, 7, 3], [4, 4, 4], [3, 3, 4], [4, 5, 2], [4, 7, 3], [4, 5, 4], [4, 6, 2], [3, 6, 4], [5, 5, 4], [4, 4, 3], [4, 6, 6], [4, 6, 4], [5, 6, 3], [5, 5, 3], [3, 6, 3], [2, 6, 3], [3, 4, 4], [5, 6, 5], [4, 4, 4], [4, 5, 4], [4, 5, 2], [4, 8, 4], [4, 3, 3], [5, 4, 5], [4, 6, 3], [2, 4, 4], [4, 5, 4], [3, 5, 5], [5, 5, 3], [3, 7, 5], [3, 5, 2], [1, 6, 5], [4, 4, 5], [4, 7, 4], [3, 7, 2], [3, 8, 3], [4, 4, 2], [4, 7, 5], [2, 5, 6], [5, 3, 4], [2, 6, 3], [2, 6, 4], [6, 6, 3], [5, 6, 6], [4, 3, 5], [5, 6, 5], [3, 6, 4], [4, 4, 3], [4, 4, 6], [3, 4, 3], [5, 5, 3], [3, 3, 5], [5, 7, 6], [5, 5, 5], [4, 5, 5], [3, 6, 5], [4, 6, 6], [2, 4, 3], [3, 5, 5], [2, 3, 4], [2, 6, 8], [2, 7, 3], [5, 3, 4], [5, 8, 3], [3, 7, 4], [4, 4, 5], [4, 4, 5], [2, 5, 5], [4, 4, 4], [4, 6, 4], [2, 4, 5], [3, 6, 6], [2, 4, 4], [4, 4, 2], [3, 6, 3], [4, 4, 3], [4, 5, 5], [3, 4, 3], [3, 4, 5], [2, 8, 3], [4, 3, 4], [3, 5, 4], [4, 5, 3], [4, 4, 6], [3, 7, 5], [3, 4, 2], [4, 4, 5], [4, 5, 2], [6, 6, 3], [4, 5, 3], [3, 3, 4], [4, 5, 4], [5, 6, 3], [7, 4, 3], [3, 6, 5], [2, 7, 5], [4, 4, 5], [2, 6, 3], [3, 4, 6], [3, 6, 6], [4, 5, 3], [2, 6, 4], [6, 5, 5], [5, 7, 5], [3, 3, 6], [5, 5, 5], [4, 6, 4], [3, 5, 4], [3, 6, 5], [3, 4, 4], [4, 6, 5], [4, 6, 3], [4, 4, 3], [3, 6, 5], [3, 4, 4], [3, 7, 7], [6, 5, 2], [3, 4, 5], [3, 7, 5], [3, 6, 4], [4, 4, 4], [5, 4, 5], [7, 5, 4], [2, 2, 4], [6, 6, 3], [4, 6, 5], [3, 5, 4], [7, 4, 4], [3, 6, 3], [4, 8, 5], [4, 5, 4], [2, 3, 4], [3, 5, 4], [4, 4, 5], [3, 5, 5], [4, 5, 3], [4, 2, 6], [4, 4, 4], [7, 7, 3], [5, 5, 6], [3, 6, 5], [4, 5, 4], [2, 4, 2], [3, 4, 3], [2, 4, 3], [3, 3, 3], [2, 5, 3], [4, 4, 5], [3, 3, 2], [2, 3, 3], [2, 4, 2], [2, 5, 4], [3, 6, 6], [3, 4, 2], [5, 6, 2], [2, 3, 3], [4, 5, 5], [4, 4, 4], [4, 5, 3], [3, 4, 4], [5, 6, 3], [2, 5, 3], [5, 4, 3], [2, 6, 5], [3, 7, 2], [4, 4, 2], [5, 4, 5], [3, 7, 3], [3, 3, 3], [3, 5, 2], [4, 4, 5], [3, 4, 5], [4, 7, 4], [5, 7, 4], [3, 6, 5], [5, 4, 6], [3, 5, 5], [2, 7, 5], [5, 5, 4], [3, 1, 5], [6, 2, 5], [4, 4, 3], [3, 6, 4], [3, 3, 4], [4, 6, 4], [2, 3, 3], [3, 6, 4], [6, 3, 3], [3, 3, 3], [2, 4, 3], [5, 6, 2], [3, 2, 4], [2, 6, 4], [3, 6, 5], [3, 7, 3], [3, 6, 5], [2, 3, 3], [3, 3, 2], [3, 6, 3], [4, 3, 4], [4, 7, 5], [3, 4, 5], [3, 6, 3], [3, 6, 4], [4, 5, 5], [5, 5, 5], [6, 6, 4], [4, 5, 4], [3, 3, 2], [4, 2, 3], [3, 2, 4], [4, 4, 5], [4, 7, 6], [2, 7, 5], [6, 6, 4], [5, 6, 3], [4, 6, 4], [4, 8, 3], [1, 3, 1], [3, 4, 4], [2, 4, 3], [2, 6, 3], [4, 4, 2], [2, 5, 2], [6, 4, 5], [3, 5, 3], [6, 7, 6], [6, 5, 5], [7, 5, 3], [5, 3, 5], [4, 6, 5], [5, 2, 5], [1, 7, 5], [3, 7, 5], [6, 3, 2], [2, 5, 4], [4, 5, 5], [4, 6, 3], [4, 3, 5], [5, 5, 5], [3, 5, 3], [5, 6, 6], [2, 5, 3], [3, 5, 4], [2, 4, 4], [5, 6, 5], [3, 8, 3], [5, 5, 5], [3, 6, 6], [4, 5, 4], [4, 5, 2], [4, 4, 4], [3, 5, 4], [3, 6, 4], [2, 5, 4], [4, 5, 5], [2, 7, 2], [4, 4, 3], [2, 3, 5], [4, 5, 3], [5, 2, 5], [3, 5, 4], [6, 6, 5], [2, 6, 6], [6, 3, 4], [4, 5, 3], [4, 7, 3], [3, 6, 4], [4, 3, 5], [3, 4, 3], [5, 7, 4], [3, 5, 2], [4, 7, 3], [3, 6, 3], [3, 5, 3], [4, 5, 3], [3, 4, 5], [2, 5, 3], [2, 7, 6], [4, 7, 4], [4, 6, 3], [5, 8, 5], [2, 6, 3], [5, 3, 3], [4, 5, 3], [3, 4, 3], [2, 2, 4], [4, 5, 3], [4, 6, 5], [2, 5, 4], [3, 6, 3], [4, 4, 4], [5, 7, 4], [2, 5, 7], [6, 3, 4], [3, 6, 4], [2, 7, 3], [3, 6, 5], [3, 4, 3], [5, 6, 4], [2, 6, 5], [2, 6, 6], [3, 6, 4], [2, 5, 6], [2, 3, 3], [2, 6, 4], [3, 4, 2], [4, 5, 4], [2, 4, 6], [5, 4, 4], [2, 7, 5], [4, 5, 3], [2, 2, 5], [5, 5, 5], [4, 5, 5], [4, 5, 4], [4, 6, 4], [3, 5, 4], [6, 5, 2], [4, 7, 3], [2, 6, 4], [3, 4, 5], [4, 4, 5], [3, 5, 5], [3, 4, 6], [3, 5, 4], [3, 5, 6], [5, 4, 5], [3, 3, 5], [4, 4, 1], [4, 7, 3], [3, 6, 5], [5, 6, 5], [5, 5, 5], [2, 6, 4], [5, 6, 8], [4, 4, 4], [2, 5, 7], [4, 5, 4], [4, 3, 5], [3, 3, 5], [5, 7, 5], [2, 6, 3], [4, 7, 5], [4, 3, 4], [5, 3, 4], [4, 4, 4], [3, 5, 6], [4, 5, 3], [2, 6, 5], [3, 4, 4], [3, 5, 3], [4, 6, 4], [5, 4, 3], [2, 4, 3], [2, 6, 6], [3, 7, 5], [4, 3, 6], [2, 4, 2], [5, 7, 7], [4, 5, 4], [3, 4, 4], [3, 5, 7], [4, 6, 7], [7, 5, 3], [3, 5, 4], [4, 5, 3], [4, 5, 3], [4, 8, 5], [4, 4, 5], [4, 4, 5], [3, 6, 4], [3, 4, 3], [6, 6, 6], [3, 4, 4], [2, 5, 4], [3, 4, 3], [5, 5, 7], [7, 5, 4], [3, 5, 3], [7, 2, 5], [3, 5, 3], [3, 7, 3], [3, 5, 4], [4, 5, 5], [3, 8, 3], [6, 4, 4], [3, 6, 3], [5, 9, 4], [4, 6, 4], [2, 3, 6], [4, 2, 3], [3, 8, 6], [3, 5, 3], [3, 7, 4], [3, 3, 4], [6, 5, 5], [2, 7, 3], [3, 5, 5], [4, 5, 6], [4, 4, 4], [3, 7, 5], [5, 5, 4], [6, 3, 5], [2, 4, 5], [4, 4, 5], [2, 4, 2], [3, 5, 4], [4, 4, 2], [3, 7, 4], [3, 4, 8], [3, 5, 4], [6, 5, 6], [4, 6, 5], [3, 6, 4], [2, 7, 7], [2, 6, 5], [5, 5, 5], [2, 4, 5], [2, 6, 4], [5, 4, 4], [5, 7, 6], [3, 5, 4], [3, 5, 4], [4, 3, 3], [3, 6, 3], [6, 7, 5], [6, 7, 4], [3, 5, 4], [4, 8, 4], [5, 5, 6], [3, 5, 5], [4, 7, 5], [4, 7, 4], [1, 6, 4], [2, 4, 5], [2, 5, 4], [2, 6, 5], [4, 5, 6], [4, 8, 6], [2, 3, 7], [3, 8, 6], [4, 7, 4], [4, 4, 5], [1, 3, 2], [6, 6, 5], [5, 7, 4], [5, 4, 3], [3, 5, 7], [3, 6, 3], [4, 4, 4], [2, 4, 3], [5, 7, 5], [3, 8, 3], [3, 4, 4], [4, 7, 5], [3, 5, 2], [4, 6, 3], [2, 6, 5], [4, 6, 7], [3, 5, 3], [6, 5, 3], [4, 1, 4], [2, 8, 2], [1, 4, 2], [3, 4, 3], [2, 6, 4], [4, 5, 6], [5, 7, 4], [3, 5, 5], [2, 6, 4], [2, 3, 5], [3, 5, 4], [3, 7, 4], [5, 6, 6], [3, 4, 3], [3, 9, 5], [3, 5, 4], [4, 7, 3], [8, 5, 5], [3, 6, 3], [2, 6, 3], [3, 6, 4], [4, 3, 5], [3, 6, 7], [3, 5, 5], [1, 4, 1], [3, 3, 5], [2, 3, 2], [3, 5, 2], [4, 7, 2], [4, 5, 3], [3, 6, 4], [4, 7, 5], [6, 6, 4], [2, 7, 2], [5, 6, 5], [2, 6, 4], [2, 5, 2], [3, 7, 5], [5, 7, 5], [5, 5, 3], [4, 4, 6], [4, 5, 4], [3, 4, 4], [2, 3, 4], [2, 4, 3], [3, 3, 3], [4, 5, 4], [2, 3, 4], [4, 5, 5], [4, 6, 6], [4, 3, 5], [4, 3, 3], [3, 4, 6], [2, 2, 2], [2, 7, 5], [4, 3, 3], [3, 5, 3], [3, 3, 4], [4, 5, 5], [2, 6, 4], [4, 6, 4], [4, 3, 3], [4, 6, 3], [5, 3, 5], [4, 7, 3], [3, 6, 5], [3, 4, 5], [5, 6, 5], [3, 4, 3], [2, 8, 5], [3, 3, 5], [4, 4, 3], [5, 4, 3], [2, 5, 2], [3, 6, 5], [4, 7, 3], [2, 4, 3], [4, 3, 3], [4, 2, 5], [3, 6, 3], [3, 4, 5], [3, 7, 3], [4, 7, 4], [2, 7, 3], [2, 7, 6], [4, 7, 4], [4, 5, 4], [4, 6, 3], [4, 7, 6], [4, 4, 4], [3, 6, 2], [5, 5, 5], [5, 7, 2], [2, 3, 2], [7, 8, 4], [2, 6, 3], [4, 5, 2], [2, 5, 2], [3, 7, 4], [2, 5, 4], [5, 5, 4], [4, 3, 3], [4, 7, 3], [3, 4, 5], [5, 2, 6], [2, 4, 7], [2, 4, 4], [3, 5, 4], [4, 5, 4], [4, 5, 1], [2, 3, 3], [6, 5, 7], [4, 3, 3], [2, 5, 4], [3, 6, 3], [4, 6, 4], [3, 6, 4], [2, 3, 5], [3, 7, 5], [4, 3, 3], [3, 4, 3], [6, 4, 4], [5, 3, 4], [5, 8, 3], [4, 6, 4], [5, 4, 7], [5, 5, 3], [5, 2, 2], [4, 5, 4], [7, 4, 4], [5, 7, 2], [4, 4, 3], [3, 6, 6], [3, 7, 4], [3, 9, 6], [3, 8, 3], [4, 5, 5], [4, 4, 2], [5, 3, 6], [4, 5, 3], [5, 4, 4], [4, 7, 7], [5, 9, 4], [8, 6, 5], [6, 6, 6], [2, 3, 3], [3, 7, 5], [3, 6, 6], [7, 5, 7], [3, 6, 5], [6, 9, 5], [2, 6, 4], [6, 4, 3], [4, 5, 5], [5, 2, 4], [4, 6, 4], [4, 4, 4], [3, 6, 5], [3, 4, 4], [4, 3, 5], [4, 4, 7], [2, 5, 5], [5, 6, 5], [2, 3, 4], [4, 5, 2], [4, 7, 5], [4, 7, 5], [2, 7, 6], [1, 5, 3], [4, 3, 5], [3, 7, 7], [2, 5, 3], [3, 5, 6], [3, 3, 2], [3, 2, 4], [5, 7, 5], [5, 9, 6], [3, 3, 2], [3, 4, 2], [4, 6, 4], [2, 6, 3], [2, 4, 4], [2, 6, 7], [5, 7, 3], [6, 5, 2], [2, 6, 5], [4, 2, 6], [4, 7, 5], [1, 4, 5], [4, 4, 5], [2, 4, 2], [2, 8, 4], [3, 6, 6], [5, 3, 5], [6, 3, 5], [4, 7, 3], [3, 5, 3], [4, 7, 6], [5, 7, 4], [3, 6, 3], [4, 7, 4], [3, 3, 5], [4, 3, 4], [4, 6, 5], [3, 3, 5], [5, 5, 6], [3, 6, 3], [5, 5, 3], [3, 5, 5], [5, 3, 4], [2, 5, 5], [6, 5, 4], [4, 4, 4], [3, 5, 5], [3, 5, 5], [6, 6, 5], [2, 3, 1], [5, 7, 3], [2, 7, 4], [4, 4, 4], [2, 6, 2], [3, 6, 4], [3, 4, 6], [4, 6, 4], [6, 5, 3], [4, 2, 3], [3, 6, 4], [4, 4, 5], [3, 4, 6], [4, 6, 2], [3, 5, 4], [3, 4, 5], [2, 4, 3], [2, 4, 5], [5, 6, 5], [3, 6, 5], [3, 5, 4], [4, 3, 4], [2, 6, 2], [4, 3, 3], [6, 3, 3], [2, 2, 4], [2, 5, 5], [3, 4, 2], [3, 2, 4], [4, 5, 1], [4, 6, 3], [6, 6, 3], [2, 8, 3], [3, 8, 3], [3, 6, 4], [3, 4, 3], [4, 3, 3], [3, 3, 6], [3, 4, 5], [4, 4, 3], [2, 4, 5], [2, 4, 6], [2, 2, 5], [3, 6, 5], [4, 5, 6], [3, 8, 4], [3, 4, 4], [3, 6, 5], [2, 3, 3], [3, 6, 6], [4, 2, 5], [4, 7, 6], [2, 8, 3], [3, 4, 4], [2, 6, 3], [2, 6, 2], [4, 6, 5], [3, 5, 3], [3, 5, 4], [5, 5, 6], [4, 3, 4], [7, 4, 6], [3, 7, 3], [3, 5, 7], [3, 6, 6], [5, 5, 3], [4, 6, 6], [5, 7, 2], [6, 6, 5], [3, 7, 3], [3, 4, 3], [4, 5, 3], [3, 7, 4], [3, 2, 4], [4, 6, 5], [3, 6, 3], [3, 4, 5], [3, 4, 4], [4, 3, 8], [3, 4, 3], [6, 7, 4], [3, 8, 4], [3, 5, 5], [2, 7, 4], [3, 5, 4], [4, 4, 3], [5, 5, 4], [5, 5, 5], [2, 4, 7], [5, 4, 4], [4, 5, 3], [3, 7, 3], [4, 5, 4], [3, 7, 7], [3, 4, 3], [5, 5, 6], [3, 4, 5], [2, 6, 4], [3, 5, 5], [4, 5, 4], [5, 4, 5], [4, 5, 3], [4, 5, 5], [3, 5, 3], [4, 6, 4], [3, 5, 2], [3, 5, 5], [6, 6, 7], [6, 2, 4], [5, 7, 5], [5, 7, 2], [4, 6, 4], [5, 5, 6], [3, 5, 3], [3, 4, 3], [3, 6, 4], [2, 5, 4], [4, 6, 4], [2, 3, 2], [4, 4, 3], [4, 6, 2], [3, 6, 5], [2, 4, 4], [3, 3, 3], [1, 4, 4], [4, 5, 4], [4, 8, 3], [5, 5, 7], [4, 5, 4], [2, 5, 3], [3, 3, 2], [3, 6, 4], [2, 4, 2], [3, 2, 5], [3, 5, 2], [5, 5, 3], [2, 5, 7], [4, 6, 2], [4, 3, 5], [5, 5, 5], [3, 5, 4], [2, 2, 4], [3, 2, 6], [3, 5, 4], [2, 7, 5], [3, 2, 5], [5, 6, 6], [3, 2, 3], [3, 2, 5], [4, 5, 4], [2, 7, 3], [2, 4, 5], [4, 4, 3], [4, 5, 3], [4, 4, 3], [6, 5, 3], [3, 4, 5], [4, 4, 5], [2, 4, 6], [4, 6, 5], [5, 5, 4], [4, 6, 5], [4, 5, 4], [5, 7, 5], [2, 7, 4], [4, 5, 5], [4, 5, 5], [2, 6, 4], [3, 5, 6], [5, 6, 5], [2, 4, 3], [3, 4, 2], [2, 5, 5], [2, 4, 4], [4, 7, 3], [2, 4, 5], [4, 6, 4], [4, 7, 6], [4, 5, 6], [2, 3, 4], [5, 6, 3], [3, 7, 3], [4, 7, 4], [3, 3, 5], [5, 5, 7], [6, 4, 4], [3, 4, 7], [2, 6, 1], [6, 6, 3], [3, 5, 2], [4, 3, 6], [4, 5, 4], [5, 4, 3], [4, 5, 4], [3, 5, 3], [3, 5, 5], [5, 4, 5], [3, 5, 3], [3, 4, 4], [5, 6, 5], [3, 4, 1], [3, 6, 4], [4, 4, 4], [3, 3, 5], [3, 5, 5], [2, 6, 3], [5, 5, 5], [4, 4, 2], [3, 4, 4], [4, 5, 5], [5, 7, 5], [6, 6, 5], [3, 5, 6], [2, 6, 3], [4, 5, 6], [4, 5, 4], [3, 5, 5], [4, 5, 4], [2, 4, 5], [3, 3, 4], [4, 10, 4], [4, 6, 5], [3, 7, 5], [3, 5, 6], [5, 4, 3], [2, 5, 5], [6, 2, 4], [5, 9, 5], [3, 3, 6], [5, 8, 4], [4, 5, 4], [3, 7, 2], [4, 5, 4], [6, 7, 5], [2, 3, 3], [4, 7, 4], [5, 4, 5], [3, 5, 3], [3, 5, 5], [4, 6, 4], [3, 3, 3], [6, 5, 7], [4, 2, 3], [3, 6, 3], [3, 7, 5], [4, 5, 4], [3, 4, 5], [3, 4, 5], [3, 4, 4], [5, 7, 4], [4, 6, 4], [5, 6, 2], [4, 6, 6], [4, 5, 3], [3, 4, 4], [3, 2, 5], [5, 5, 3], [2, 5, 4], [7, 5, 4], [4, 5, 5], [3, 5, 5], [4, 6, 5], [3, 6, 4], [4, 6, 4], [4, 4, 6], [4, 5, 4], [3, 5, 3], [6, 4, 4], [4, 5, 3], [2, 4, 3], [3, 8, 6], [2, 2, 3], [2, 2, 5], [3, 6, 3], [4, 5, 5], [6, 7, 5], [2, 3, 7], [3, 6, 6], [5, 4, 5], [2, 4, 4], [5, 5, 3], [6, 5, 3], [5, 7, 5], [3, 7, 4], [2, 4, 2], [3, 6, 4], [5, 4, 3], [5, 6, 1], [4, 5, 3], [5, 4, 4], [5, 7, 3], [3, 5, 7], [2, 4, 2], [3, 6, 3], [3, 9, 4], [4, 5, 6], [3, 6, 3], [3, 5, 2], [5, 6, 4], [4, 2, 3], [3, 6, 4], [4, 4, 3], [4, 6, 4], [3, 4, 3], [2, 6, 4], [4, 5, 5], [3, 6, 4], [3, 4, 4], [4, 5, 6], [5, 4, 4], [3, 4, 5], [4, 3, 6], [5, 4, 4], [4, 5, 4], [2, 8, 5], [3, 7, 3], [2, 4, 7], [4, 5, 4], [3, 4, 6], [2, 3, 7], [3, 3, 2], [4, 5, 6], [3, 5, 4], [5, 3, 3], [3, 6, 5], [2, 5, 4], [3, 8, 3], [2, 4, 5], [5, 7, 6], [3, 5, 5], [4, 4, 3], [5, 5, 3], [2, 5, 5], [5, 6, 5], [6, 7, 5], [3, 3, 5], [4, 6, 5], [4, 6, 3], [4, 7, 4], [5, 6, 6], [2, 6, 5], [4, 4, 3], [4, 5, 3], [4, 6, 4], [5, 7, 6], [5, 4, 5], [4, 3, 5], [5, 4, 4], [4, 4, 5], [5, 5, 4], [4, 5, 4], [3, 7, 4], [3, 6, 7], [4, 5, 3], [4, 7, 4], [4, 7, 4], [3, 5, 4], [4, 5, 5], [2, 6, 3], [4, 6, 3], [4, 5, 2], [5, 6, 5], [3, 4, 7], [5, 8, 5], [1, 3, 4], [5, 3, 5], [3, 6, 7], [3, 8, 2], [2, 4, 3], [3, 7, 3], [3, 6, 5], [6, 4, 6], [4, 6, 2], [4, 5, 5], [4, 7, 2], [2, 4, 6], [4, 9, 2], [4, 7, 4], [3, 4, 5], [4, 5, 4], [3, 2, 3], [5, 2, 6], [4, 4, 3], [2, 5, 3], [3, 6, 4], [3, 8, 5], [3, 6, 6], [7, 3, 4], [4, 3, 4], [5, 5, 3], [3, 4, 4], [3, 3, 3], [2, 7, 4], [4, 4, 4], [3, 4, 5], [4, 6, 2], [2, 4, 3], [2, 4, 5], [5, 4, 6], [5, 6, 3], [6, 4, 5], [1, 7, 4], [2, 6, 3], [3, 4, 4], [3, 4, 3], [5, 4, 6], [2, 4, 5], [5, 5, 5], [5, 5, 5], [3, 2, 4], [3, 6, 3], [5, 6, 4], [3, 5, 3], [3, 7, 3], [5, 5, 3], [3, 7, 5], [3, 6, 4], [3, 5, 4], [3, 5, 4], [4, 5, 5], [5, 5, 3], [4, 5, 5], [5, 7, 5], [2, 4, 4], [3, 7, 5], [4, 3, 6], [3, 2, 4], [4, 5, 2], [3, 7, 5], [3, 3, 3], [4, 7, 5], [4, 7, 4], [3, 5, 3], [5, 5, 5], [3, 6, 3], [3, 7, 4], [2, 7, 4], [4, 6, 5], [3, 7, 5], [3, 4, 6], [4, 6, 2], [5, 7, 4], [2, 8, 4], [1, 5, 5], [2, 5, 3], [4, 3, 5], [3, 4, 4], [3, 5, 6], [3, 4, 4], [6, 7, 2], [2, 2, 3], [2, 7, 6], [2, 4, 5], [4, 5, 5], [5, 5, 3], [4, 3, 6], [2, 6, 5], [3, 7, 2], [4, 6, 6], [2, 5, 4], [3, 5, 6], [3, 5, 5], [4, 6, 4], [3, 6, 5], [3, 8, 3], [3, 6, 4], [3, 6, 3], [5, 5, 4], [3, 7, 6], [5, 3, 4], [3, 4, 5], [3, 3, 5], [3, 7, 4], [2, 4, 3], [2, 7, 4], [3, 2, 5], [3, 4, 4], [2, 4, 4], [3, 5, 3], [5, 8, 4], [4, 3, 1], [4, 3, 5], [3, 8, 3], [5, 7, 4], [2, 5, 6], [5, 4, 5], [6, 6, 4], [3, 8, 4], [5, 5, 6], [4, 9, 4], [5, 5, 3], [2, 7, 3], [3, 3, 1], [4, 4, 6], [4, 5, 4], [3, 5, 3], [3, 7, 6], [4, 6, 4], [4, 1, 6], [2, 5, 5], [6, 5, 6], [5, 5, 2], [3, 4, 3], [2, 4, 4], [4, 7, 4], [2, 5, 4], [2, 4, 4], [2, 5, 2], [5, 5, 3], [4, 6, 2], [4, 8, 5], [4, 8, 4], [3, 7, 4], [4, 9, 3], [5, 7, 5], [1, 2, 4], [5, 3, 6], [1, 5, 4], [6, 7, 3], [6, 6, 3], [3, 5, 5], [3, 8, 5], [5, 5, 6], [3, 6, 5], [4, 4, 4], [2, 3, 6], [2, 7, 3], [5, 7, 9], [3, 7, 5], [4, 6, 3], [4, 7, 4], [5, 3, 4], [3, 4, 5], [2, 6, 3], [3, 5, 4], [3, 4, 5], [5, 8, 6], [5, 7, 5], [3, 5, 5], [5, 5, 7], [4, 8, 5], [4, 3, 6], [4, 3, 7], [4, 4, 3], [3, 6, 3], [3, 5, 6], [3, 5, 4], [4, 7, 5], [5, 8, 5], [4, 3, 6], [4, 5, 4], [2, 4, 4], [3, 4, 4], [4, 4, 5], [6, 3, 3], [3, 5, 6], [4, 2, 5], [2, 5, 4], [4, 8, 4], [3, 4, 3], [3, 5, 5], [4, 5, 5], [3, 4, 5], [4, 7, 6], [6, 4, 4], [3, 7, 3], [5, 7, 4], [4, 4, 4], [4, 5, 4], [5, 7, 5], [2, 5, 4], [5, 8, 5], [3, 3, 3], [3, 6, 3], [3, 4, 4], [3, 6, 3], [2, 2, 5], [4, 6, 5], [5, 3, 3], [2, 5, 4], [2, 6, 5], [4, 4, 3], [4, 5, 5], [3, 6, 5], [2, 3, 2], [4, 5, 4], [5, 6, 6], [2, 5, 4], [3, 6, 4], [5, 4, 4], [2, 4, 3], [4, 5, 5], [4, 5, 4], [6, 4, 5], [3, 8, 4], [4, 5, 4], [3, 5, 4], [4, 7, 4], [3, 7, 5], [5, 4, 4], [3, 5, 5], [2, 5, 3], [4, 6, 6], [5, 6, 5], [4, 6, 6], [2, 5, 4], [4, 4, 3], [3, 5, 4], [5, 4, 8], [4, 7, 5], [4, 4, 3], [4, 4, 3], [3, 4, 2], [3, 3, 2], [2, 4, 5], [4, 6, 6], [5, 4, 7], [4, 4, 5], [3, 5, 2], [4, 3, 5], [4, 4, 6], [6, 5, 3], [3, 6, 2], [6, 5, 4], [5, 6, 4], [4, 4, 4], [5, 4, 4], [3, 5, 3], [5, 6, 4], [3, 5, 4], [6, 6, 4], [4, 4, 4], [5, 5, 8], [4, 4, 5], [5, 5, 4], [4, 4, 3], [2, 6, 2], [2, 3, 6], [4, 5, 4], [5, 7, 3], [3, 7, 5], [3, 4, 6], [2, 3, 2], [3, 3, 4], [5, 5, 5], [4, 4, 4], [4, 5, 6], [4, 4, 5], [3, 6, 4], [3, 5, 3], [3, 6, 4], [5, 6, 5], [5, 6, 3], [4, 5, 2], [3, 7, 3], [8, 6, 4], [5, 4, 5], [5, 5, 5], [5, 5, 4], [4, 5, 3], [4, 6, 4], [2, 7, 3], [2, 6, 4], [5, 2, 3], [3, 6, 3], [4, 5, 5], [3, 6, 5], [4, 3, 4], [7, 6, 3], [4, 4, 5], [5, 6, 2], [4, 5, 4], [5, 6, 4], [4, 5, 4], [5, 3, 3], [2, 7, 4], [4, 6, 3], [7, 4, 4], [4, 6, 5], [3, 8, 3], [3, 7, 3], [4, 6, 4], [4, 4, 5], [3, 5, 5], [5, 7, 5], [4, 5, 5], [2, 5, 5], [3, 7, 3], [5, 4, 2], [4, 7, 3], [4, 7, 5], [2, 5, 6], [3, 4, 4], [4, 5, 4], [2, 5, 5], [5, 7, 5], [5, 4, 6], [2, 4, 4], [3, 3, 4], [2, 8, 5], [5, 4, 4], [2, 4, 2], [3, 6, 4], [2, 2, 3], [4, 6, 4], [3, 6, 6], [3, 6, 4], [3, 6, 5], [3, 5, 4], [4, 5, 5], [3, 5, 3], [4, 7, 5], [3, 5, 5], [3, 5, 4], [3, 8, 5], [2, 5, 5], [5, 5, 4], [4, 6, 6], [4, 6, 8], [3, 6, 4], [4, 5, 4], [5, 4, 4], [4, 3, 3], [3, 6, 3], [4, 5, 3], [3, 4, 5], [4, 4, 6], [5, 7, 3], [4, 5, 2], [3, 8, 6], [2, 3, 4], [3, 8, 3], [5, 5, 4], [4, 5, 6], [3, 6, 4], [4, 6, 5], [4, 4, 5], [4, 5, 4], [2, 4, 6], [3, 4, 4], [4, 5, 4], [3, 6, 5], [3, 3, 6], [4, 6, 3], [4, 3, 4], [5, 4, 7], [2, 4, 5], [2, 4, 3], [2, 7, 4], [4, 5, 4], [4, 4, 2], [3, 5, 5], [2, 7, 5], [5, 5, 7], [3, 8, 4], [3, 7, 6], [3, 5, 5], [4, 4, 3], [4, 4, 5], [5, 7, 2], [3, 5, 5], [3, 4, 4], [3, 3, 4], [4, 5, 5], [3, 8, 4], [4, 8, 6], [3, 3, 5], [5, 6, 5], [2, 5, 4], [3, 5, 5], [3, 3, 4], [4, 7, 4], [4, 6, 7], [3, 5, 2], [3, 5, 5], [4, 6, 1], [3, 5, 5], [3, 6, 5], [3, 4, 4], [3, 4, 3], [3, 5, 4], [4, 4, 8], [4, 2, 4], [4, 4, 3], [3, 6, 6], [2, 5, 5], [3, 6, 6], [3, 5, 4], [5, 6, 5], [4, 7, 4], [6, 5, 5], [4, 7, 5], [3, 4, 4], [5, 4, 4], [4, 4, 6], [3, 5, 5], [4, 3, 3], [2, 5, 3], [3, 7, 2], [4, 5, 4], [2, 7, 4], [5, 5, 4], [5, 5, 4], [2, 3, 3], [3, 6, 5], [4, 5, 5], [2, 6, 1], [4, 2, 5], [4, 6, 4], [4, 3, 4], [4, 5, 5], [3, 5, 5], [3, 5, 4], [4, 5, 3], [3, 5, 3], [7, 7, 3], [4, 3, 2], [4, 8, 5], [4, 5, 5], [4, 7, 3], [5, 6, 4], [4, 5, 3], [4, 5, 5], [3, 4, 4], [3, 6, 4], [5, 5, 7], [5, 6, 4], [4, 4, 6], [4, 6, 2], [3, 6, 4], [4, 7, 3], [5, 6, 4], [3, 3, 6], [1, 4, 5], [2, 6, 2], [2, 8, 2], [3, 4, 4], [4, 4, 6], [3, 3, 3], [3, 5, 3], [4, 3, 4], [5, 4, 5], [4, 8, 6], [3, 5, 5], [2, 3, 2], [4, 4, 5], [4, 5, 5], [4, 5, 3], [4, 4, 3], [3, 6, 3], [2, 5, 3], [1, 5, 5], [4, 5, 3], [2, 7, 4], [4, 4, 4], [4, 6, 6], [6, 5, 3], [3, 4, 5], [3, 8, 4], [2, 8, 3], [3, 4, 5], [5, 5, 5], [3, 8, 4], [5, 5, 3], [2, 7, 4], [4, 6, 4], [2, 6, 4], [4, 10, 4], [5, 4, 3], [3, 4, 5], [3, 5, 2], [3, 3, 5], [2, 1, 3], [2, 4, 5], [3, 5, 5], [3, 5, 3], [7, 5, 4], [3, 8, 4], [4, 6, 5], [3, 3, 4], [3, 8, 4], [2, 5, 5], [5, 8, 5], [5, 3, 5], [3, 7, 3], [5, 6, 4], [6, 7, 5], [6, 5, 5], [3, 6, 3], [5, 7, 5], [3, 5, 5], [4, 6, 3], [4, 3, 5], [2, 6, 5], [3, 5, 6], [3, 9, 2], [2, 5, 5], [2, 5, 7], [6, 7, 5], [3, 4, 4], [5, 5, 4], [7, 4, 8], [4, 7, 2], [5, 5, 2], [3, 5, 4], [4, 7, 2], [3, 4, 5], [2, 5, 6], [2, 3, 5], [3, 6, 5], [4, 6, 3], [3, 2, 3], [5, 4, 3], [4, 3, 3], [4, 5, 6], [2, 4, 3], [4, 6, 2], [4, 5, 3], [2, 5, 3], [3, 5, 5], [3, 6, 5], [2, 7, 5], [1, 5, 4], [5, 7, 5], [3, 4, 4], [4, 6, 5], [4, 5, 5], [2, 5, 4], [3, 4, 4], [2, 6, 2], [4, 6, 4], [2, 5, 3], [3, 5, 3], [3, 5, 4], [3, 5, 3], [6, 5, 7], [7, 4, 5], [3, 3, 6], [3, 5, 6], [4, 6, 3], [4, 6, 3], [3, 5, 4], [3, 4, 4], [5, 7, 4], [4, 7, 4], [4, 3, 3], [5, 6, 4], [3, 4, 3], [5, 4, 4], [4, 5, 4], [2, 4, 5], [3, 8, 5], [3, 2, 3], [5, 7, 5], [4, 5, 6], [5, 4, 5], [5, 5, 4], [3, 7, 4], [2, 4, 5], [3, 2, 2], [3, 6, 6], [3, 4, 6], [5, 6, 5], [5, 7, 5], [5, 5, 4], [4, 7, 4], [3, 5, 7], [2, 8, 3], [5, 5, 4], [5, 8, 5], [4, 3, 3], [2, 5, 3], [3, 5, 5], [4, 4, 4], [4, 6, 4], [7, 4, 5], [3, 7, 5], [2, 4, 4], [4, 4, 4], [3, 3, 7], [5, 6, 5], [4, 3, 2], [2, 4, 3], [3, 4, 3], [4, 4, 5], [4, 5, 6], [2, 8, 5], [5, 4, 3], [3, 6, 2], [5, 5, 7], [4, 1, 4], [5, 8, 6], [2, 5, 5], [3, 5, 3], [2, 4, 3], [5, 7, 5], [4, 7, 6], [3, 3, 5], [4, 7, 2], [2, 6, 4], [4, 7, 4], [6, 5, 3], [2, 4, 6], [4, 7, 4], [4, 4, 4], [4, 6, 4], [3, 5, 4], [3, 3, 5], [5, 4, 6], [2, 3, 4], [3, 4, 5], [6, 6, 4], [6, 4, 3], [6, 7, 5], [4, 5, 3], [6, 8, 5], [3, 5, 5], [3, 4, 3], [6, 5, 4], [2, 6, 3], [6, 3, 4], [6, 5, 6], [4, 5, 5], [3, 6, 3], [4, 2, 6], [2, 4, 4], [5, 4, 2], [3, 9, 3], [4, 3, 4], [4, 6, 5], [4, 6, 4], [4, 5, 5], [2, 7, 4], [3, 5, 4], [2, 5, 5], [3, 9, 4], [3, 8, 3], [2, 6, 3], [4, 7, 5], [2, 5, 4], [2, 4, 4], [2, 4, 3], [2, 6, 5], [5, 2, 4], [4, 6, 6], [4, 6, 3], [3, 7, 2], [5, 4, 4], [3, 5, 4], [3, 7, 4], [3, 4, 6], [4, 6, 4], [5, 2, 5], [3, 6, 5], [2, 6, 5], [2, 5, 6], [4, 4, 6], [4, 6, 5], [2, 6, 4], [3, 7, 3], [4, 4, 5], [6, 4, 4], [5, 5, 4], [5, 5, 5], [5, 6, 6], [4, 5, 3], [3, 2, 3], [3, 6, 6], [3, 5, 2], [2, 7, 4], [4, 3, 3], [4, 3, 4], [4, 5, 4], [5, 4, 3], [2, 4, 3], [5, 6, 3], [5, 3, 4], [4, 6, 4], [2, 5, 3], [5, 7, 2], [3, 7, 2], [4, 6, 4], [5, 4, 4], [4, 2, 5], [3, 6, 6], [5, 8, 4], [5, 5, 3], [3, 4, 5], [5, 4, 4], [4, 6, 4], [3, 3, 3], [3, 6, 4], [3, 6, 3], [3, 6, 3], [5, 6, 5], [6, 5, 3], [3, 4, 5], [4, 5, 2], [4, 6, 3], [3, 5, 4], [3, 4, 5], [3, 7, 3], [6, 2, 3], [6, 3, 3], [5, 4, 4], [5, 4, 3], [3, 6, 4], [6, 5, 4], [3, 3, 3], [4, 4, 4], [4, 5, 4], [3, 6, 4], [4, 6, 4], [4, 5, 5], [6, 7, 4], [5, 7, 3], [5, 5, 4], [6, 3, 4], [3, 6, 7], [3, 5, 5], [3, 3, 5], [3, 8, 3], [4, 5, 4], [6, 5, 3], [2, 4, 4], [5, 8, 3], [3, 5, 4], [4, 7, 5], [4, 6, 3], [2, 6, 5], [3, 5, 6], [3, 6, 4], [3, 5, 4], [3, 3, 2], [3, 6, 3], [4, 6, 5], [2, 4, 5], [4, 5, 3], [5, 5, 5], [5, 5, 5], [3, 5, 5], [3, 4, 3], [3, 6, 5], [3, 5, 5], [5, 4, 2], [2, 5, 6], [3, 4, 4], [4, 6, 3], [3, 4, 3], [6, 8, 2], [4, 4, 5], [4, 5, 4], [4, 5, 7], [4, 5, 3], [4, 5, 5], [3, 6, 5], [4, 6, 6], [4, 4, 5], [3, 6, 3], [3, 4, 4], [3, 7, 5], [3, 5, 6], [3, 6, 5], [4, 4, 6], [3, 4, 5], [4, 5, 4], [2, 6, 2], [6, 8, 4], [4, 7, 5], [4, 5, 5], [1, 4, 4], [2, 4, 3], [7, 2, 4], [4, 5, 3], [3, 5, 4], [3, 3, 4], [2, 4, 4], [5, 6, 5], [2, 7, 5], [5, 7, 4], [3, 8, 3], [2, 2, 3], [2, 5, 4], [2, 3, 4], [4, 5, 5], [5, 3, 3], [2, 5, 4], [2, 4, 3], [5, 3, 5], [3, 6, 5], [5, 7, 3], [3, 4, 3], [1, 2, 4], [4, 4, 5], [4, 3, 4], [4, 2, 6], [2, 4, 4], [2, 5, 4], [2, 6, 3], [4, 6, 5], [4, 6, 5], [4, 4, 8], [4, 6, 4], [3, 5, 2], [4, 6, 4], [5, 6, 5], [2, 4, 2], [2, 5, 3], [5, 5, 5], [4, 5, 5], [4, 5, 5], [3, 5, 5], [2, 4, 4], [4, 6, 5], [3, 4, 3], [4, 4, 4], [5, 5, 4], [5, 3, 4], [2, 5, 2], [4, 7, 3], [3, 3, 5], [4, 5, 6], [5, 3, 6], [4, 6, 5], [3, 7, 4], [4, 6, 3], [2, 8, 5], [4, 7, 3], [2, 6, 5], [6, 7, 6], [5, 4, 4], [3, 4, 4], [3, 3, 5], [4, 6, 5], [2, 3, 3], [3, 6, 5], [2, 6, 4], [3, 3, 5], [4, 5, 4], [4, 10, 3], [2, 7, 6], [3, 6, 6], [3, 5, 4], [3, 6, 3], [4, 5, 3], [4, 5, 4], [3, 4, 7], [1, 7, 2], [2, 6, 2], [3, 4, 3], [3, 5, 3], [6, 6, 2], [3, 2, 3], [4, 6, 5], [3, 5, 5], [3, 8, 4], [3, 6, 4], [2, 4, 6], [6, 5, 5], [2, 5, 5], [2, 5, 3], [3, 5, 5], [3, 6, 4], [5, 4, 5], [4, 5, 4], [3, 7, 1], [7, 5, 3], [3, 7, 7], [3, 2, 4], [3, 4, 3], [4, 7, 5], [3, 7, 2], [4, 4, 4], [4, 4, 3], [4, 6, 4], [3, 6, 3], [3, 5, 8], [4, 6, 3], [2, 5, 9], [3, 8, 3], [5, 6, 3], [2, 4, 3], [4, 8, 5], [4, 4, 5], [4, 4, 3], [4, 3, 6], [3, 7, 5], [3, 5, 3], [5, 6, 5], [4, 3, 5], [3, 5, 4], [4, 6, 5], [4, 3, 5], [4, 6, 4], [3, 4, 5], [3, 5, 7], [2, 3, 2], [2, 5, 2], [3, 4, 3], [2, 6, 4], [3, 3, 6], [4, 8, 4], [2, 4, 5], [3, 6, 2], [3, 4, 5], [4, 4, 5], [4, 6, 3], [3, 4, 5], [2, 4, 3], [4, 4, 3], [2, 6, 5], [4, 4, 3], [5, 2, 5], [7, 6, 5], [2, 2, 3], [2, 5, 4], [3, 6, 4], [3, 6, 4], [1, 4, 5], [3, 3, 4], [5, 5, 3], [2, 3, 4], [4, 5, 6], [3, 5, 3], [5, 3, 3], [3, 5, 7], [3, 4, 3], [3, 5, 3], [2, 6, 3], [2, 5, 2], [5, 5, 5], [3, 4, 5], [2, 2, 4], [2, 7, 5], [5, 3, 4], [3, 3, 3], [2, 4, 5], [3, 6, 5], [3, 7, 2], [4, 4, 5], [4, 3, 5], [4, 4, 2], [3, 4, 2], [5, 5, 4], [3, 4, 3], [3, 6, 7], [4, 7, 3], [3, 6, 6], [2, 5, 5], [4, 7, 5], [5, 6, 2], [4, 6, 5], [3, 6, 4], [6, 6, 5], [3, 3, 3], [4, 5, 6], [5, 7, 3], [5, 4, 3], [4, 6, 5], [3, 4, 4], [4, 7, 4], [4, 7, 5], [2, 4, 3], [4, 6, 6], [4, 4, 5], [2, 6, 1], [2, 7, 3], [4, 6, 4], [3, 7, 5], [1, 5, 9], [3, 5, 3], [4, 6, 2], [5, 4, 4], [4, 2, 4], [3, 6, 4], [3, 5, 5], [5, 3, 4], [6, 5, 4], [5, 5, 4], [2, 6, 4], [4, 5, 7], [4, 6, 4], [3, 2, 4], [3, 5, 4], [4, 6, 4], [5, 8, 7], [7, 4, 2], [3, 5, 4], [5, 5, 6], [5, 4, 2], [5, 6, 4], [2, 3, 3], [3, 7, 5], [4, 5, 3], [4, 6, 4], [2, 4, 4], [3, 2, 3], [5, 6, 3], [4, 6, 3], [4, 3, 5], [5, 4, 6], [2, 7, 2], [4, 6, 4], [5, 4, 4], [4, 5, 5], [2, 6, 6], [4, 6, 4], [2, 5, 4], [5, 7, 4], [4, 3, 2], [3, 4, 5], [5, 4, 5], [3, 5, 4], [5, 8, 4], [2, 4, 7], [4, 5, 5], [3, 5, 2], [4, 6, 5], [2, 7, 3], [4, 5, 5], [4, 5, 2], [4, 4, 4], [5, 7, 4], [3, 5, 5], [3, 4, 3], [4, 4, 5], [4, 6, 5], [4, 6, 7], [3, 3, 4], [4, 4, 4], [3, 4, 5], [3, 6, 5], [1, 8, 4], [5, 3, 2], [4, 5, 5], [4, 7, 4], [2, 4, 4], [3, 4, 3], [3, 5, 6], [4, 8, 3], [5, 4, 5], [5, 3, 5], [4, 3, 1], [4, 5, 4], [5, 7, 7], [5, 3, 2], [3, 6, 4], [3, 7, 2], [3, 5, 5], [3, 5, 5], [4, 8, 4], [3, 8, 4], [4, 5, 6], [5, 4, 4], [3, 7, 5], [3, 3, 4], [5, 7, 3], [4, 5, 6], [3, 5, 7], [3, 5, 5], [5, 7, 3], [4, 4, 2], [5, 4, 5], [3, 3, 6], [2, 7, 5], [5, 7, 4], [4, 5, 5], [4, 8, 7], [4, 6, 6], [4, 5, 3], [4, 4, 5], [4, 6, 2], [3, 4, 4], [5, 7, 7], [4, 5, 3], [4, 6, 2], [4, 6, 3], [3, 7, 5], [4, 6, 4], [2, 3, 3], [3, 4, 5], [5, 7, 2], [3, 5, 4], [4, 6, 3], [4, 5, 3], [4, 6, 8], [4, 6, 5], [5, 4, 5], [4, 5, 6], [3, 8, 4], [2, 5, 5], [3, 8, 3], [6, 4, 4], [4, 4, 6], [4, 7, 3], [5, 8, 5], [6, 2, 7], [5, 4, 5], [2, 5, 5], [3, 3, 2], [3, 5, 4], [4, 4, 5], [3, 6, 3], [4, 6, 5], [2, 6, 5], [3, 8, 6], [4, 7, 3], [3, 5, 4], [5, 4, 3], [4, 3, 4], [5, 5, 5], [2, 6, 4], [2, 3, 4], [5, 5, 5], [4, 7, 3], [5, 4, 4], [3, 6, 6], [4, 5, 5], [5, 5, 3], [3, 5, 3], [4, 5, 5], [2, 4, 3], [4, 5, 4], [4, 4, 2], [4, 5, 4], [3, 4, 4], [4, 5, 4], [2, 3, 5], [2, 5, 5], [4, 5, 4], [4, 5, 4], [3, 4, 4], [3, 6, 5], [5, 5, 4], [3, 5, 5], [2, 5, 5], [3, 4, 4], [4, 4, 5], [3, 7, 4], [3, 7, 5], [6, 5, 7], [6, 6, 4], [3, 6, 3], [5, 6, 5], [5, 4, 4], [4, 6, 5], [4, 5, 4], [3, 6, 3], [5, 4, 3], [5, 4, 3], [4, 6, 4], [2, 3, 6], [3, 6, 6], [3, 5, 7], [4, 7, 3], [3, 5, 5], [4, 5, 4], [4, 5, 5], [5, 5, 6], [6, 6, 5], [5, 4, 3], [3, 4, 3], [3, 4, 3], [3, 5, 3], [3, 5, 6], [4, 5, 3], [3, 6, 4], [4, 7, 4], [3, 4, 3], [5, 7, 3], [4, 5, 3], [5, 4, 4], [2, 5, 3], [2, 5, 5], [4, 2, 3], [3, 5, 5], [2, 5, 7], [4, 6, 4], [5, 4, 6], [4, 3, 4], [4, 5, 1], [3, 6, 5], [5, 8, 6], [3, 6, 4], [3, 4, 2], [2, 4, 5], [3, 8, 5], [3, 7, 3], [5, 5, 4], [4, 4, 2], [5, 5, 6], [4, 6, 6], [3, 4, 3], [4, 4, 5], [5, 5, 7], [4, 7, 6], [3, 6, 4], [5, 4, 3], [2, 4, 4], [5, 7, 5], [4, 6, 2], [3, 5, 5], [3, 2, 3], [4, 4, 5], [6, 4, 5], [3, 5, 4], [5, 7, 4], [3, 7, 4], [5, 6, 1], [4, 9, 5], [3, 4, 5], [3, 7, 7], [4, 5, 4], [3, 5, 4], [7, 4, 6], [5, 5, 5], [5, 2, 2], [5, 4, 4], [5, 8, 4], [2, 4, 7], [4, 7, 4], [2, 4, 3], [3, 3, 3], [4, 2, 2], [3, 5, 3], [5, 6, 4], [3, 3, 4], [5, 3, 5], [3, 5, 5], [4, 4, 8], [3, 4, 4], [5, 4, 5], [8, 6, 4], [4, 4, 4], [3, 4, 6], [5, 4, 2], [3, 4, 4], [5, 4, 5], [4, 5, 3], [3, 4, 5], [1, 3, 1], [3, 5, 5], [1, 6, 4], [3, 4, 3], [7, 5, 2], [3, 5, 3], [2, 6, 4], [4, 5, 5], [3, 6, 2], [1, 7, 7], [5, 4, 3], [6, 5, 4], [2, 4, 6], [3, 6, 3], [3, 5, 5], [3, 6, 5], [3, 7, 3], [3, 4, 3], [4, 4, 7], [3, 5, 4], [3, 6, 8], [3, 7, 4], [4, 6, 3], [5, 7, 6], [3, 4, 4], [4, 5, 3], [5, 7, 5], [3, 4, 3], [3, 6, 5], [3, 6, 4], [3, 4, 3], [4, 5, 5], [3, 5, 5], [3, 5, 4], [4, 6, 5], [5, 4, 3], [6, 3, 2], [4, 7, 4], [4, 6, 4], [3, 5, 5], [4, 5, 2], [4, 2, 5], [6, 6, 2], [4, 7, 5], [3, 5, 4], [3, 5, 2], [4, 6, 5], [3, 5, 7], [5, 4, 3], [3, 4, 3], [4, 5, 3], [4, 6, 3], [4, 3, 5], [5, 5, 2], [3, 2, 4], [5, 2, 5], [3, 4, 3], [3, 5, 6], [6, 4, 6], [5, 5, 6], [4, 4, 5], [4, 10, 4], [4, 5, 4], [4, 5, 5], [2, 5, 5], [3, 7, 4], [5, 4, 4], [6, 7, 5], [2, 5, 4], [3, 5, 5], [2, 5, 4], [2, 8, 6], [7, 5, 6], [3, 4, 4], [3, 4, 2], [2, 6, 3], [6, 4, 3], [7, 4, 1], [5, 8, 3], [5, 5, 3], [4, 5, 7], [3, 4, 4], [3, 5, 5], [3, 5, 5], [3, 5, 3], [4, 6, 4], [3, 6, 4], [4, 5, 5], [2, 3, 5], [3, 5, 5], [4, 7, 5], [5, 3, 6], [5, 8, 7], [4, 4, 5], [3, 5, 2], [2, 3, 6], [5, 7, 6], [4, 6, 3], [5, 6, 5], [4, 6, 8], [5, 5, 2], [6, 6, 4], [4, 3, 4], [5, 5, 3], [2, 3, 8], [3, 3, 4], [2, 3, 3], [5, 6, 6], [4, 7, 6], [4, 6, 6], [3, 6, 4], [5, 5, 4], [4, 6, 4], [5, 4, 4], [2, 5, 4], [5, 2, 5], [5, 6, 3], [4, 4, 3], [4, 5, 5], [3, 3, 6], [2, 4, 3], [3, 7, 7], [4, 3, 5], [1, 8, 1], [4, 5, 4], [2, 6, 4], [3, 5, 5], [3, 8, 5], [4, 7, 5], [3, 4, 4], [3, 7, 4], [7, 4, 4], [3, 4, 3], [3, 4, 4], [4, 2, 7], [3, 6, 6], [3, 7, 3], [3, 7, 5], [2, 4, 4], [5, 4, 4], [3, 5, 5], [3, 4, 5], [4, 7, 5], [2, 5, 5], [3, 4, 4], [6, 2, 5], [4, 4, 5], [4, 6, 4], [3, 5, 6], [4, 5, 4], [4, 6, 4], [5, 6, 2], [5, 6, 7], [3, 4, 4], [6, 6, 4], [5, 5, 4], [5, 5, 5], [3, 7, 3], [5, 7, 2], [5, 4, 2], [5, 6, 5], [2, 3, 5], [3, 5, 3], [3, 4, 5], [5, 4, 3], [5, 2, 4], [3, 6, 5], [4, 7, 6], [1, 7, 4], [4, 7, 3], [5, 4, 4], [3, 5, 3], [2, 5, 6], [4, 6, 5], [2, 8, 4], [2, 2, 4], [5, 3, 4], [2, 4, 7], [4, 5, 5], [2, 6, 4], [3, 7, 3], [2, 5, 4], [4, 6, 6], [3, 7, 4], [3, 4, 5], [2, 3, 5], [3, 7, 3], [4, 3, 8], [3, 4, 5], [4, 3, 2], [2, 3, 4], [5, 3, 3], [3, 6, 4], [3, 5, 3], [2, 6, 5], [3, 4, 8], [4, 3, 5], [2, 5, 4], [4, 4, 4], [7, 5, 4], [4, 5, 3], [5, 6, 5], [3, 5, 5], [3, 8, 2], [4, 4, 5], [4, 5, 5], [3, 6, 3], [3, 2, 5], [4, 5, 4], [5, 6, 6], [3, 3, 2], [3, 5, 4], [5, 2, 3], [2, 7, 3], [3, 4, 4], [4, 8, 4], [5, 4, 5], [2, 6, 2], [5, 8, 5], [2, 6, 2], [2, 6, 5], [2, 6, 3], [2, 4, 3], [3, 4, 4], [3, 5, 4], [3, 6, 4], [3, 6, 5], [5, 5, 5], [5, 2, 6], [4, 6, 3], [4, 6, 3], [3, 7, 3], [5, 3, 7], [3, 6, 2], [2, 5, 4], [4, 7, 4], [6, 6, 4], [4, 6, 3], [3, 5, 5], [5, 5, 5], [2, 3, 3], [3, 4, 6], [2, 5, 3], [2, 4, 4], [3, 7, 4], [3, 5, 3], [2, 5, 4], [4, 5, 6], [4, 5, 4], [4, 6, 3], [4, 5, 5], [3, 4, 3], [5, 6, 3], [3, 6, 6], [4, 8, 4], [5, 8, 6], [2, 3, 6], [3, 6, 3], [4, 4, 1], [3, 7, 5], [3, 6, 2], [4, 6, 4], [3, 5, 6], [3, 5, 5], [3, 4, 4], [4, 6, 4], [5, 4, 3], [4, 7, 6], [5, 5, 4], [3, 6, 4], [3, 6, 5], [3, 5, 3], [2, 4, 4], [2, 6, 2], [4, 7, 6], [7, 4, 2], [3, 5, 6], [3, 3, 3], [3, 4, 4], [3, 4, 5], [5, 6, 4], [3, 9, 5], [4, 8, 4], [3, 4, 5], [3, 5, 3], [4, 6, 4], [6, 5, 6], [3, 5, 5], [3, 5, 5], [2, 5, 3], [4, 7, 3], [3, 6, 3], [4, 4, 4], [4, 9, 4], [5, 5, 4], [4, 4, 3], [3, 4, 3], [2, 6, 3], [4, 4, 6], [2, 7, 3], [3, 3, 5], [2, 8, 4], [5, 5, 3], [5, 8, 5], [3, 5, 5], [3, 2, 1], [4, 7, 4], [3, 8, 5], [5, 7, 3], [4, 7, 3], [4, 3, 4], [4, 6, 5], [3, 4, 5], [2, 5, 5], [5, 5, 5], [3, 5, 3], [3, 6, 4], [2, 3, 5], [6, 3, 7], [5, 2, 5], [4, 6, 4], [2, 7, 4], [2, 4, 4], [4, 6, 4], [4, 6, 5], [4, 6, 6], [2, 4, 4], [6, 3, 6], [3, 7, 3], [3, 2, 4], [4, 6, 2], [2, 6, 6], [4, 6, 5], [3, 5, 4], [5, 1, 5], [6, 5, 6], [3, 4, 2], [4, 4, 3], [2, 4, 4], [3, 7, 4], [3, 4, 5], [5, 5, 5], [5, 4, 2], [2, 6, 5], [3, 8, 2], [4, 5, 5], [5, 5, 4], [3, 6, 5], [6, 4, 4], [4, 6, 4], [4, 3, 4], [3, 4, 5], [2, 5, 3], [3, 4, 2], [2, 5, 2], [4, 6, 2], [6, 6, 3], [4, 5, 5], [2, 6, 5], [2, 4, 4], [6, 6, 5], [3, 5, 3], [4, 5, 7], [4, 8, 4], [4, 7, 4], [4, 4, 4], [2, 4, 4], [3, 4, 3], [5, 4, 3], [4, 4, 6], [6, 5, 5], [2, 8, 4], [2, 5, 4], [4, 4, 5], [5, 3, 6], [3, 6, 4], [3, 7, 5], [3, 4, 5], [2, 6, 7], [3, 6, 6], [4, 5, 5], [2, 6, 5], [3, 5, 2], [5, 6, 3], [4, 5, 6], [4, 4, 7], [3, 8, 4], [3, 4, 3], [2, 4, 2], [3, 7, 4], [6, 7, 2], [5, 4, 3], [3, 5, 2], [4, 2, 3], [4, 4, 2], [3, 4, 4], [2, 5, 3], [4, 6, 5], [6, 5, 8], [2, 5, 4], [6, 4, 3], [4, 5, 6], [4, 7, 6], [3, 6, 6], [3, 7, 3], [4, 6, 4], [5, 2, 4], [3, 2, 4], [5, 5, 5], [4, 7, 4], [5, 5, 5], [5, 6, 3], [4, 4, 5], [3, 6, 5], [3, 8, 5], [3, 4, 5], [3, 6, 4], [2, 3, 4], [2, 4, 3], [4, 6, 6], [2, 6, 5], [5, 8, 3], [4, 5, 5], [3, 3, 5], [6, 2, 4], [5, 4, 4], [4, 6, 3], [5, 8, 4], [3, 4, 5], [3, 5, 4], [5, 4, 5], [3, 8, 3], [4, 5, 7], [3, 3, 6], [4, 7, 3], [4, 5, 7], [3, 8, 6], [5, 6, 4], [4, 6, 4], [3, 6, 4], [3, 7, 4], [4, 6, 4], [6, 8, 4], [4, 5, 4], [3, 6, 5], [4, 4, 3], [2, 4, 4], [4, 3, 3], [5, 3, 3], [5, 7, 4], [3, 6, 4], [6, 5, 4], [3, 4, 5], [5, 7, 5], [3, 6, 5], [4, 5, 6], [4, 7, 5], [4, 7, 5], [3, 3, 5], [6, 6, 3], [3, 5, 5], [4, 4, 6], [3, 4, 4], [4, 5, 5], [4, 7, 4], [3, 6, 4], [4, 4, 5], [5, 3, 5], [4, 5, 7], [3, 8, 6], [4, 6, 5], [5, 5, 5], [2, 6, 5], [4, 5, 3], [2, 6, 4], [3, 4, 2], [2, 5, 6], [4, 6, 2], [5, 7, 4], [4, 6, 7], [3, 3, 3], [6, 6, 5], [6, 4, 4], [3, 6, 4], [4, 4, 6], [3, 8, 6], [4, 6, 5], [3, 4, 6], [3, 5, 6], [5, 6, 4], [2, 6, 3], [5, 6, 6], [4, 5, 6], [5, 5, 3], [4, 5, 2], [5, 6, 4], [5, 6, 7], [3, 7, 4], [2, 8, 6], [2, 7, 5], [3, 5, 2], [4, 4, 4], [3, 6, 8], [4, 6, 4], [3, 4, 5], [2, 3, 6], [3, 5, 4], [5, 8, 4], [4, 6, 3], [3, 6, 4], [3, 5, 4], [4, 6, 6], [4, 3, 2], [5, 6, 6], [3, 6, 4], [4, 6, 8], [5, 7, 6], [5, 5, 8], [5, 4, 3], [3, 4, 3], [6, 6, 6], [5, 6, 5], [3, 5, 2], [3, 7, 2], [3, 6, 5], [3, 4, 2], [2, 5, 4], [2, 7, 2], [3, 8, 4], [3, 4, 5], [3, 4, 6], [8, 6, 5], [4, 7, 5], [3, 3, 3], [3, 7, 4], [4, 5, 2], [3, 9, 5], [5, 6, 3], [4, 4, 4], [3, 4, 4], [4, 4, 4], [5, 7, 3], [3, 6, 4], [4, 7, 3], [5, 6, 4], [4, 5, 3], [3, 4, 4], [3, 6, 3], [3, 4, 3], [6, 5, 4], [3, 5, 2], [3, 8, 1], [2, 4, 2], [4, 5, 5], [5, 6, 4], [3, 6, 3], [2, 5, 6], [3, 5, 5], [5, 8, 3], [4, 6, 4], [3, 6, 2], [4, 4, 2], [4, 8, 7], [3, 2, 4], [3, 5, 3], [4, 5, 5], [5, 6, 3], [4, 7, 3], [3, 5, 4], [4, 7, 4], [3, 7, 4], [3, 3, 2], [4, 4, 3], [3, 5, 3], [6, 3, 5], [5, 4, 5], [5, 6, 4], [4, 7, 4], [3, 5, 5], [5, 5, 5], [4, 8, 3], [4, 3, 4], [5, 5, 5], [3, 5, 3], [5, 3, 4], [4, 7, 5], [2, 7, 4], [4, 7, 5], [3, 4, 4], [5, 6, 3], [4, 6, 9], [2, 5, 5], [5, 6, 6], [3, 5, 1], [3, 6, 2], [5, 7, 5], [3, 8, 5], [3, 9, 4], [3, 6, 2], [3, 2, 7], [3, 6, 4], [4, 7, 4], [2, 7, 4], [6, 3, 4], [4, 2, 4], [3, 3, 3], [4, 6, 3], [4, 5, 4], [4, 5, 5], [3, 4, 3], [5, 3, 7], [3, 7, 4], [5, 4, 3], [3, 5, 6], [3, 5, 6], [7, 3, 3], [3, 7, 5], [2, 6, 5], [2, 5, 4], [3, 3, 4], [3, 4, 3], [4, 6, 4], [4, 5, 7], [2, 3, 6], [4, 4, 4], [2, 6, 4], [2, 5, 4], [3, 8, 5], [3, 3, 5], [4, 6, 6], [5, 6, 5], [3, 4, 5], [4, 4, 5], [4, 7, 7], [4, 7, 3], [2, 5, 3], [3, 5, 3], [2, 5, 4], [2, 4, 3], [4, 4, 5], [3, 2, 5], [7, 9, 5], [3, 4, 3], [4, 7, 4], [4, 7, 4], [3, 5, 4], [3, 7, 4], [4, 8, 5], [2, 6, 6], [2, 4, 5], [3, 6, 4], [3, 4, 4], [3, 5, 4], [6, 4, 5], [3, 8, 3], [3, 6, 5], [4, 5, 7], [6, 6, 3], [4, 6, 4], [4, 8, 4], [5, 3, 7], [2, 5, 3], [4, 8, 4], [5, 10, 4], [2, 4, 3], [3, 6, 5], [3, 7, 5], [3, 9, 6], [4, 3, 4], [5, 6, 1], [2, 7, 4], [3, 6, 5], [4, 4, 5], [5, 5, 7], [3, 4, 4], [6, 7, 4], [5, 5, 3], [4, 4, 4], [3, 7, 3], [4, 5, 2], [2, 6, 4], [3, 2, 6], [4, 7, 5], [4, 3, 4], [3, 8, 4], [5, 8, 5], [4, 6, 3], [3, 7, 4], [5, 5, 3], [2, 5, 6], [4, 8, 3], [5, 7, 4], [4, 8, 5], [3, 2, 5], [3, 7, 3], [4, 7, 5], [5, 4, 4], [5, 7, 6], [2, 7, 5], [3, 8, 6], [3, 9, 4], [4, 5, 4], [3, 6, 3], [4, 4, 6], [5, 5, 4], [5, 3, 3], [3, 7, 3], [3, 6, 4], [2, 6, 5], [3, 8, 2], [1, 6, 5], [2, 5, 5], [3, 5, 6], [5, 4, 2], [5, 7, 5], [4, 2, 4], [5, 7, 4], [3, 5, 4], [3, 5, 3], [4, 5, 4], [2, 6, 3], [4, 7, 4], [2, 3, 4], [3, 5, 4], [3, 3, 4], [3, 6, 4], [6, 8, 5], [3, 5, 5], [6, 5, 5], [1, 6, 5], [5, 7, 4], [6, 3, 6], [3, 7, 6], [5, 5, 7], [3, 5, 4], [4, 3, 4], [4, 4, 3], [6, 5, 3], [2, 6, 3], [2, 6, 3], [2, 6, 6], [3, 7, 3], [2, 8, 4], [3, 3, 2], [3, 9, 5], [3, 4, 4], [2, 6, 4], [5, 9, 4], [2, 3, 2], [3, 6, 5], [3, 3, 5], [4, 6, 3], [3, 5, 4], [5, 2, 5], [5, 6, 5], [4, 3, 3], [2, 4, 3], [2, 7, 6], [2, 6, 5], [3, 8, 5], [3, 7, 4], [4, 4, 4], [4, 5, 3], [4, 5, 2], [3, 5, 4], [5, 5, 4], [2, 4, 4], [3, 6, 4], [2, 5, 2], [3, 6, 6], [3, 5, 3], [2, 2, 4], [2, 5, 3], [4, 6, 5], [1, 7, 7], [3, 5, 3], [5, 5, 6], [4, 7, 5], [1, 6, 4], [4, 5, 5], [3, 2, 2], [2, 5, 6], [4, 6, 2], [4, 7, 4], [2, 5, 3], [2, 5, 3], [4, 6, 5], [5, 5, 3], [4, 2, 3], [3, 6, 5], [5, 7, 5], [6, 6, 6], [5, 4, 4], [2, 6, 4], [7, 5, 5], [3, 5, 3], [4, 6, 2], [2, 5, 3], [8, 4, 6], [5, 5, 5], [4, 5, 4], [4, 8, 5], [5, 8, 4], [6, 4, 3], [3, 3, 3], [5, 6, 4], [4, 3, 3], [3, 5, 2], [7, 7, 2], [4, 4, 2], [4, 6, 3], [4, 8, 4], [4, 5, 3], [4, 6, 4], [5, 7, 3], [7, 5, 2], [4, 5, 4], [5, 8, 5], [2, 7, 3], [3, 4, 2], [4, 6, 3], [5, 7, 5], [3, 7, 4], [5, 7, 6], [4, 5, 2], [3, 9, 4], [3, 7, 3], [2, 4, 4], [3, 4, 5], [6, 5, 4], [5, 6, 3], [3, 5, 5], [5, 6, 3], [4, 4, 4], [3, 5, 4], [3, 4, 4], [5, 6, 7], [3, 5, 5], [4, 6, 4], [4, 3, 6], [2, 3, 3], [3, 5, 4], [3, 9, 3], [5, 3, 5], [4, 4, 3], [3, 3, 5], [2, 8, 7], [4, 6, 2], [4, 4, 5], [2, 5, 5], [5, 4, 6], [4, 6, 3], [2, 6, 4], [4, 4, 3], [4, 5, 4], [3, 4, 3], [3, 6, 3], [4, 6, 4], [6, 3, 3], [4, 3, 4], [3, 4, 4], [2, 4, 4], [4, 5, 2], [3, 4, 2], [5, 5, 5], [2, 8, 3], [2, 5, 5], [4, 5, 1], [2, 3, 4], [4, 4, 5], [3, 6, 4], [4, 3, 6], [3, 3, 4], [4, 7, 3], [2, 7, 5], [5, 3, 4], [3, 5, 5], [5, 4, 8], [4, 6, 4], [1, 6, 7], [3, 2, 3], [4, 4, 6], [3, 4, 5], [2, 4, 3], [3, 6, 5], [5, 3, 4], [4, 7, 4], [4, 9, 6], [2, 3, 4], [3, 2, 6], [2, 5, 4], [5, 6, 3], [5, 8, 3], [3, 7, 3], [6, 4, 4], [2, 7, 6], [5, 5, 2], [4, 7, 4], [7, 4, 3], [5, 4, 5], [3, 5, 5], [6, 7, 5], [3, 8, 4], [3, 6, 6], [3, 5, 5], [3, 4, 3], [3, 4, 5], [6, 7, 4], [6, 6, 5], [4, 5, 4], [3, 6, 4], [5, 8, 5], [4, 5, 4], [4, 4, 2], [5, 4, 3], [3, 6, 6], [3, 5, 8], [3, 5, 4], [3, 3, 2], [3, 6, 2], [2, 4, 5], [3, 6, 4], [5, 5, 5], [2, 6, 6], [4, 5, 6], [4, 5, 3], [4, 7, 3], [3, 5, 5], [5, 5, 3], [3, 6, 5], [2, 6, 6], [6, 4, 6], [3, 6, 3], [2, 4, 2], [4, 4, 3], [7, 6, 4], [3, 3, 7], [5, 6, 4], [2, 5, 4], [3, 6, 5], [4, 7, 4], [4, 7, 5], [3, 6, 5], [2, 6, 5], [3, 5, 4], [4, 5, 3], [5, 8, 3], [3, 4, 4], [3, 5, 6], [7, 4, 4], [4, 7, 3], [4, 5, 4], [5, 7, 7], [2, 6, 6], [4, 5, 6], [2, 5, 5], [3, 5, 5], [2, 6, 5], [2, 5, 4], [3, 8, 5], [3, 4, 4], [1, 5, 6], [2, 5, 6], [4, 7, 4], [3, 5, 9], [5, 7, 5], [3, 4, 4], [3, 6, 3], [1, 7, 4], [3, 5, 6], [5, 6, 3], [2, 4, 6], [3, 5, 2], [4, 7, 4], [4, 5, 5], [4, 5, 4], [3, 5, 4], [4, 6, 5], [4, 4, 4], [5, 10, 5], [4, 6, 7], [4, 3, 5], [4, 8, 5], [2, 4, 7], [5, 3, 5], [2, 5, 4], [3, 7, 5], [2, 6, 4], [5, 2, 2], [3, 5, 3], [5, 4, 3], [2, 6, 7], [3, 6, 3], [3, 6, 6], [4, 4, 7], [4, 7, 4], [4, 3, 4], [3, 4, 4], [3, 6, 3], [6, 5, 5], [3, 4, 4], [4, 5, 3], [2, 4, 3], [5, 4, 4], [5, 7, 4], [5, 8, 3], [4, 7, 4], [3, 8, 5], [4, 6, 4], [3, 7, 5], [7, 4, 4], [5, 6, 4], [7, 4, 6], [6, 5, 5], [4, 4, 4], [6, 6, 5], [4, 5, 4], [4, 4, 4], [3, 4, 4], [5, 3, 6], [3, 3, 4], [6, 4, 3], [3, 6, 6], [5, 5, 4], [2, 5, 3], [5, 6, 5], [4, 4, 4], [2, 5, 4], [3, 6, 5], [4, 6, 4], [6, 6, 5], [4, 5, 5], [5, 4, 6], [3, 3, 5], [4, 6, 3], [2, 6, 5], [3, 4, 2], [3, 5, 5], [5, 7, 6], [4, 4, 5], [4, 6, 5], [4, 3, 3], [4, 5, 4], [5, 6, 5], [2, 3, 4], [4, 7, 3], [3, 7, 3], [3, 3, 5], [3, 6, 4], [6, 7, 3], [4, 4, 4], [4, 5, 2], [4, 3, 4], [3, 5, 4], [3, 3, 3], [4, 8, 4], [7, 4, 3], [2, 6, 3], [3, 2, 4], [3, 5, 4], [4, 7, 4], [5, 6, 4], [6, 7, 4], [5, 6, 6], [4, 5, 5], [3, 3, 3], [2, 5, 4], [6, 8, 4], [3, 7, 6], [3, 5, 3], [3, 4, 5], [4, 8, 4], [4, 5, 4], [6, 4, 3], [3, 3, 3], [4, 3, 4], [3, 4, 5], [7, 6, 3], [4, 6, 5], [5, 5, 5], [4, 6, 3], [3, 5, 3], [2, 5, 5], [5, 5, 5], [3, 4, 3], [4, 5, 3], [4, 6, 3], [1, 4, 5], [2, 5, 6], [4, 6, 6], [3, 6, 5], [3, 4, 4], [5, 8, 3], [3, 4, 5], [3, 5, 2], [4, 6, 5], [3, 6, 3], [7, 3, 3], [2, 6, 5], [2, 5, 4], [4, 5, 6], [4, 5, 3], [3, 5, 6], [3, 5, 4], [3, 7, 4], [2, 5, 6], [3, 4, 4], [4, 7, 5], [5, 8, 4], [4, 5, 4], [4, 4, 4], [5, 8, 5], [3, 5, 7], [5, 6, 6], [3, 3, 4], [3, 7, 5], [3, 4, 3], [3, 6, 6], [4, 4, 5], [3, 4, 5], [4, 6, 2], [4, 3, 2], [6, 3, 2], [4, 6, 4], [2, 4, 7], [2, 5, 1], [4, 3, 5], [4, 5, 4], [3, 5, 3], [7, 6, 5], [3, 7, 2], [4, 7, 5], [5, 4, 2], [2, 8, 4], [6, 5, 3], [4, 6, 5], [4, 6, 4], [3, 4, 5], [2, 5, 4], [3, 6, 7], [4, 7, 4], [3, 6, 5], [5, 5, 4], [3, 4, 4], [5, 6, 6], [2, 6, 4], [2, 5, 5], [4, 7, 7], [3, 5, 4], [3, 7, 5], [4, 5, 4], [2, 5, 4], [6, 3, 1], [5, 5, 3], [4, 5, 3], [4, 4, 3], [5, 6, 6], [2, 6, 7], [2, 5, 4], [4, 7, 4], [3, 4, 3], [3, 7, 4], [2, 7, 6], [5, 3, 4], [3, 6, 4], [3, 4, 4], [4, 6, 3], [3, 5, 4], [4, 6, 4], [6, 3, 4], [3, 7, 5], [3, 5, 4], [6, 7, 4], [3, 7, 4], [5, 5, 4], [4, 4, 2], [4, 9, 5], [2, 5, 4], [4, 3, 4], [3, 7, 3], [3, 7, 4], [4, 7, 4], [5, 5, 4], [3, 5, 3], [3, 4, 5], [2, 5, 5], [3, 6, 6], [4, 5, 4], [2, 5, 3], [3, 5, 5], [2, 6, 4], [2, 7, 3], [3, 6, 3], [3, 6, 6], [3, 3, 3], [2, 4, 4], [4, 5, 3], [4, 2, 4], [3, 6, 4], [3, 4, 4], [3, 5, 4], [5, 7, 5], [2, 4, 2], [3, 4, 5], [4, 7, 3], [3, 4, 5], [3, 3, 6], [3, 4, 3], [3, 5, 4], [3, 7, 2], [5, 3, 2], [5, 6, 4], [3, 7, 4], [5, 8, 4], [2, 5, 2], [5, 6, 4], [3, 3, 3], [4, 8, 5], [4, 4, 4], [3, 5, 6], [2, 5, 5], [4, 4, 5], [2, 5, 5], [2, 3, 5], [2, 5, 6], [5, 7, 4], [3, 5, 4], [2, 5, 6], [3, 5, 4], [3, 8, 4], [4, 5, 7], [3, 5, 5], [4, 2, 5], [2, 8, 3], [4, 4, 4], [3, 6, 4], [5, 4, 5], [5, 8, 5], [3, 6, 3], [5, 4, 8], [3, 7, 4], [3, 5, 4], [4, 7, 4], [3, 4, 5], [3, 5, 4], [7, 3, 7], [5, 4, 3], [4, 4, 5], [1, 5, 5], [3, 4, 6], [3, 4, 2], [4, 2, 7], [3, 5, 5], [4, 5, 5], [4, 5, 5], [3, 6, 2], [3, 5, 3], [3, 6, 3], [3, 5, 5], [4, 6, 4], [3, 6, 6], [3, 5, 3], [2, 5, 4], [4, 6, 4], [3, 5, 4], [4, 8, 4], [7, 5, 7], [3, 7, 4], [4, 4, 3], [3, 5, 4], [2, 5, 5], [4, 8, 4], [3, 5, 4], [2, 6, 6], [3, 7, 6], [3, 4, 2], [2, 7, 4], [4, 5, 4], [3, 3, 5], [3, 5, 4], [4, 6, 3], [3, 4, 5], [4, 4, 5], [5, 7, 6], [3, 5, 4], [5, 4, 5], [3, 7, 5], [6, 4, 4], [4, 6, 5], [4, 5, 4], [6, 5, 4], [4, 5, 4], [4, 3, 6], [4, 5, 4], [6, 5, 5], [2, 6, 4], [2, 5, 4], [4, 6, 6], [3, 4, 6], [6, 5, 6], [3, 7, 4], [2, 3, 5], [2, 5, 5], [3, 7, 6], [5, 6, 5], [3, 4, 4], [3, 7, 3], [4, 5, 3], [4, 2, 5], [3, 4, 3], [4, 5, 6], [2, 4, 2], [2, 6, 4], [4, 8, 5], [4, 5, 5], [3, 6, 4], [3, 6, 3], [4, 4, 7], [4, 4, 4], [5, 8, 3], [5, 7, 4], [3, 5, 6], [3, 2, 4], [5, 6, 5], [4, 6, 5], [3, 5, 4], [4, 6, 3], [4, 6, 4], [3, 5, 4], [2, 6, 4], [4, 5, 5], [2, 8, 5], [3, 5, 4], [4, 4, 4], [3, 5, 3], [4, 5, 4], [3, 4, 5], [3, 3, 6], [4, 7, 4], [6, 4, 5], [4, 6, 6], [8, 4, 4], [3, 5, 3], [4, 3, 5], [2, 3, 3], [4, 4, 4], [3, 5, 5], [2, 4, 2], [6, 6, 4], [7, 8, 3], [5, 7, 4], [4, 3, 4], [2, 6, 4], [3, 5, 7], [5, 6, 6], [3, 2, 3], [4, 6, 3], [3, 6, 4], [4, 6, 4], [5, 6, 3], [2, 4, 4], [2, 4, 2], [5, 4, 5], [4, 7, 4], [5, 6, 4], [4, 4, 5], [3, 4, 4], [4, 6, 3], [3, 4, 4], [2, 5, 3], [3, 6, 6], [4, 5, 5], [5, 6, 5], [5, 4, 4], [6, 2, 6], [4, 6, 4], [4, 5, 5], [3, 7, 2], [5, 3, 6], [3, 4, 2], [4, 7, 3], [2, 6, 3], [3, 5, 5], [5, 4, 3], [3, 7, 5], [4, 7, 5], [2, 4, 7], [4, 6, 5], [3, 3, 5], [4, 7, 3], [2, 6, 2], [4, 5, 3], [4, 5, 3], [6, 5, 4], [4, 5, 4], [3, 4, 5], [4, 5, 4], [5, 8, 4], [3, 4, 3], [5, 7, 5], [5, 7, 3], [3, 7, 5], [3, 4, 4], [2, 6, 5], [2, 5, 4], [2, 6, 7], [2, 7, 3], [6, 5, 4], [6, 7, 3], [3, 5, 3], [4, 6, 4], [3, 5, 2], [3, 5, 1], [4, 7, 3], [3, 6, 7], [3, 7, 3], [3, 3, 5], [3, 6, 4], [5, 7, 6], [6, 5, 5], [4, 5, 2], [3, 4, 7], [4, 6, 4], [5, 7, 3], [3, 5, 4], [4, 6, 3], [3, 5, 4], [2, 4, 2], [3, 6, 4], [3, 5, 3], [4, 6, 2], [5, 4, 5], [6, 8, 3], [4, 3, 5], [4, 5, 4], [5, 5, 2], [4, 6, 4], [6, 5, 3], [7, 7, 5], [3, 7, 4], [4, 7, 5], [4, 6, 5], [4, 5, 3], [5, 9, 4], [3, 6, 2], [4, 4, 5], [4, 4, 5], [3, 5, 5], [3, 3, 6], [2, 8, 4], [2, 5, 4], [3, 3, 7], [3, 4, 3], [5, 5, 6], [4, 6, 4], [5, 4, 4], [3, 5, 4], [6, 6, 6], [4, 6, 4], [2, 8, 5], [3, 6, 2], [3, 7, 8], [2, 8, 5], [3, 5, 5], [3, 4, 3], [5, 5, 6], [3, 3, 3], [3, 7, 5], [3, 4, 6], [4, 6, 5], [3, 6, 4], [4, 8, 2], [3, 4, 4], [4, 7, 6], [4, 3, 4], [2, 5, 3], [2, 5, 6], [2, 4, 3], [5, 5, 5], [4, 6, 2], [3, 6, 4], [3, 7, 5], [4, 6, 3], [3, 5, 7], [4, 7, 5], [3, 7, 4], [4, 7, 4], [4, 4, 4], [4, 4, 3], [4, 6, 4], [5, 5, 7], [3, 6, 5], [6, 8, 8], [3, 8, 6], [6, 5, 3], [4, 7, 2], [4, 6, 3], [3, 4, 3], [3, 5, 3], [3, 6, 4], [4, 8, 2], [4, 6, 3], [4, 4, 5], [4, 7, 3], [4, 5, 4], [2, 5, 4], [4, 7, 4], [2, 5, 5], [5, 6, 4], [4, 6, 5], [3, 6, 7], [7, 7, 3], [2, 6, 3], [5, 6, 3], [4, 5, 2], [4, 6, 4], [2, 3, 3], [5, 7, 2], [4, 7, 4], [3, 6, 3], [2, 5, 4], [2, 7, 4], [3, 4, 5], [4, 7, 3], [3, 2, 1], [5, 7, 5], [3, 6, 4], [3, 1, 5], [4, 5, 5], [4, 7, 3], [3, 6, 6], [6, 3, 7], [4, 6, 4], [4, 5, 2], [3, 8, 2], [3, 7, 2], [4, 5, 4], [4, 5, 4], [3, 5, 4], [3, 7, 2], [3, 7, 5], [3, 7, 4], [3, 10, 5], [5, 7, 5], [4, 6, 2], [4, 6, 4], [4, 5, 3], [3, 6, 4], [7, 7, 5], [3, 7, 3], [3, 7, 5], [3, 7, 3], [3, 4, 3], [3, 7, 7], [3, 7, 5], [5, 5, 3], [6, 5, 5], [4, 8, 6], [3, 7, 3], [2, 7, 5], [3, 6, 2], [4, 6, 4], [2, 6, 3], [3, 4, 3], [4, 8, 3], [4, 6, 5], [4, 5, 7], [3, 5, 3], [3, 9, 4], [3, 5, 6], [4, 6, 5], [3, 7, 6], [2, 5, 3], [3, 7, 4], [3, 7, 3], [5, 6, 4], [3, 5, 6], [4, 4, 3], [3, 6, 3], [3, 6, 5], [6, 5, 6], [4, 5, 4], [2, 4, 5], [4, 5, 4], [5, 5, 6], [4, 7, 7], [4, 6, 4], [3, 6, 3], [6, 5, 4], [2, 4, 3], [4, 5, 7], [3, 4, 5], [3, 6, 4], [4, 6, 4], [3, 6, 5], [2, 4, 4], [3, 7, 5], [3, 6, 3], [4, 6, 4], [4, 5, 4], [4, 6, 5], [3, 5, 4], [5, 5, 6], [3, 6, 5], [2, 8, 4], [4, 5, 3], [3, 8, 3], [4, 5, 6], [4, 5, 4], [2, 6, 5], [4, 8, 4], [6, 8, 4], [3, 8, 3], [4, 4, 4], [3, 5, 6], [4, 5, 5], [4, 5, 4], [2, 6, 3], [8, 6, 4], [3, 6, 6], [3, 6, 6], [5, 8, 4], [5, 9, 5], [3, 8, 3], [5, 7, 3], [3, 3, 3], [2, 5, 6], [4, 6, 4], [4, 5, 5], [4, 6, 4], [2, 6, 5], [2, 6, 4], [2, 6, 4], [4, 7, 5], [4, 4, 5], [3, 6, 4], [4, 6, 3], [5, 4, 6], [3, 5, 4], [3, 7, 2], [4, 7, 5], [3, 7, 4], [4, 5, 3], [4, 4, 4], [4, 5, 3], [2, 5, 6], [2, 4, 4], [2, 6, 5], [7, 4, 6], [4, 5, 5], [4, 6, 5], [3, 8, 4], [4, 7, 6], [3, 4, 3], [5, 3, 3], [3, 5, 6], [2, 9, 6], [2, 4, 4], [3, 4, 3], [4, 4, 4], [5, 4, 4], [4, 5, 8], [4, 6, 3], [3, 5, 3], [4, 5, 4], [3, 6, 5], [4, 6, 4], [6, 6, 4], [3, 5, 5], [5, 7, 5], [4, 6, 5], [4, 5, 4], [4, 6, 7], [4, 8, 4], [4, 5, 4], [6, 8, 4], [3, 4, 4], [4, 5, 4], [5, 7, 4], [3, 4, 5], [4, 8, 6], [4, 7, 4], [2, 5, 5], [5, 7, 5], [5, 7, 5], [5, 7, 4], [3, 8, 4], [3, 8, 2], [3, 8, 5], [3, 5, 5], [4, 6, 5], [2, 8, 4], [4, 6, 7], [7, 6, 5], [6, 3, 3], [6, 4, 5], [6, 4, 2], [2, 8, 3], [3, 6, 3], [6, 5, 4], [5, 8, 5], [4, 2, 4], [3, 5, 6], [3, 10, 7], [5, 5, 5], [4, 7, 4], [4, 5, 3], [4, 4, 5], [2, 5, 4], [5, 5, 3], [3, 5, 5], [3, 7, 4], [3, 5, 4], [2, 6, 4], [4, 5, 5], [3, 7, 3], [3, 8, 4], [3, 5, 5], [4, 5, 2], [4, 4, 6], [5, 5, 4], [4, 4, 4], [5, 5, 5], [2, 3, 4], [3, 6, 4], [2, 6, 5], [5, 3, 2], [4, 6, 5], [3, 6, 3], [3, 8, 6], [3, 7, 5], [4, 0, 3], [4, 7, 3], [6, 6, 4], [3, 6, 4], [3, 4, 6], [4, 5, 3], [3, 4, 3], [4, 5, 6], [3, 9, 5], [2, 5, 4], [4, 8, 3], [3, 5, 7], [4, 6, 5], [5, 6, 3], [3, 5, 4], [3, 7, 4], [3, 8, 2], [3, 4, 4], [5, 8, 4], [4, 8, 4], [3, 7, 3], [2, 8, 2], [2, 5, 5], [2, 3, 2], [4, 2, 1], [5, 8, 4], [2, 6, 4], [2, 4, 2], [3, 7, 3], [6, 4, 5], [3, 6, 3], [4, 5, 6], [5, 6, 5], [5, 8, 4], [3, 5, 3], [2, 3, 4], [2, 5, 5], [5, 5, 3], [4, 4, 4], [4, 2, 5], [6, 7, 7], [7, 4, 3], [4, 4, 7], [5, 6, 5], [3, 7, 5], [3, 5, 3], [5, 7, 5], [5, 5, 6], [3, 3, 5], [2, 3, 2], [5, 5, 3], [4, 6, 5], [3, 5, 4], [4, 5, 3], [3, 7, 5], [2, 5, 3], [4, 6, 6], [5, 7, 3], [2, 7, 6], [3, 7, 4], [5, 5, 5], [6, 6, 5], [3, 5, 5], [4, 7, 3], [4, 4, 4], [4, 5, 3], [5, 7, 4], [3, 8, 3], [4, 2, 5], [6, 6, 5], [3, 5, 3], [2, 2, 6], [3, 4, 2], [2, 6, 3], [2, 5, 2], [3, 5, 6], [3, 5, 3], [3, 5, 3], [5, 5, 2], [3, 6, 5], [2, 7, 2], [3, 7, 4], [3, 7, 3], [5, 6, 5], [6, 6, 5], [3, 4, 5], [5, 6, 5], [5, 5, 4], [3, 5, 4], [6, 4, 3], [5, 4, 4], [2, 7, 2], [2, 6, 2], [3, 6, 6], [4, 4, 4], [5, 5, 4], [5, 7, 5], [3, 8, 2], [3, 7, 6], [3, 6, 4], [2, 4, 4], [3, 7, 6], [6, 5, 4], [5, 7, 5], [4, 4, 5], [7, 3, 4], [4, 4, 4], [7, 7, 6], [4, 4, 5], [5, 4, 5], [6, 5, 5], [3, 5, 5], [6, 7, 3], [2, 4, 5], [5, 4, 5], [4, 5, 5], [4, 5, 3], [2, 4, 2], [2, 6, 3], [3, 5, 4], [3, 6, 3], [3, 6, 3], [4, 6, 4], [5, 6, 5], [6, 7, 4], [4, 2, 3], [5, 7, 6], [4, 5, 5], [7, 4, 3], [5, 6, 4], [5, 6, 3], [4, 6, 6], [3, 4, 5], [4, 7, 5], [3, 4, 6], [5, 8, 2], [5, 4, 4], [5, 3, 5], [3, 8, 5], [4, 8, 6], [3, 4, 2], [5, 6, 4], [5, 6, 3], [2, 5, 4], [3, 6, 4], [2, 5, 4], [3, 6, 3], [3, 5, 4], [3, 5, 5], [4, 2, 3], [3, 5, 3], [4, 6, 5], [3, 6, 1], [3, 8, 4], [3, 8, 5], [5, 5, 5], [4, 6, 5], [3, 6, 3], [3, 7, 6], [3, 6, 5], [2, 5, 3], [3, 7, 7], [4, 6, 3], [3, 3, 5], [5, 5, 8], [5, 4, 5], [4, 7, 4], [2, 4, 3], [6, 4, 3], [2, 5, 1], [4, 8, 6], [3, 5, 3], [3, 8, 3], [3, 4, 5], [4, 5, 2], [2, 4, 3], [4, 9, 1], [2, 6, 6], [3, 4, 4], [4, 5, 3], [2, 7, 4], [5, 6, 4], [3, 7, 5], [5, 5, 3], [2, 8, 5], [4, 6, 4], [4, 7, 4], [4, 6, 5], [5, 7, 6], [4, 5, 6], [3, 6, 7], [3, 6, 3], [3, 5, 4], [3, 5, 3], [4, 6, 6], [2, 4, 3], [5, 6, 3], [4, 6, 4], [6, 4, 2], [5, 6, 2], [3, 6, 5], [5, 6, 3], [2, 6, 4], [3, 5, 5], [3, 4, 4], [3, 4, 7], [4, 6, 4], [4, 7, 5], [4, 7, 4], [5, 3, 4], [3, 7, 4], [4, 6, 5], [2, 4, 2], [4, 6, 3], [4, 3, 7], [3, 2, 1], [4, 5, 4], [5, 3, 3], [5, 7, 7], [2, 5, 4], [5, 5, 4], [3, 7, 3], [3, 7, 6], [3, 4, 4], [2, 10, 6], [7, 5, 5], [4, 5, 5], [3, 8, 1], [5, 5, 3], [2, 10, 4], [3, 5, 4], [2, 6, 4], [3, 5, 2], [3, 8, 5], [4, 5, 5], [3, 6, 5], [5, 6, 4], [2, 5, 6], [5, 7, 4], [3, 5, 7], [5, 5, 5], [5, 6, 4], [5, 3, 4], [3, 5, 3], [4, 7, 5], [4, 6, 6], [5, 6, 4], [5, 4, 4], [3, 2, 5], [5, 7, 5], [4, 5, 3], [2, 5, 3], [3, 4, 5], [3, 7, 5], [4, 5, 5], [2, 6, 4], [5, 5, 4], [4, 6, 3], [4, 7, 3], [4, 5, 5], [4, 3, 4], [4, 6, 4], [3, 8, 6], [4, 4, 5], [5, 5, 5], [3, 6, 5], [2, 7, 4], [2, 5, 5], [3, 6, 5], [3, 5, 4], [3, 6, 4], [6, 8, 6], [3, 4, 6], [3, 7, 4], [3, 5, 3], [5, 6, 1], [1, 5, 4], [4, 6, 3], [5, 4, 4], [4, 7, 6], [4, 7, 3], [5, 6, 4], [3, 5, 5], [4, 2, 4], [2, 4, 6], [3, 6, 3], [3, 5, 4], [3, 6, 4], [4, 4, 3], [3, 8, 5], [3, 5, 4], [3, 5, 5], [5, 8, 3], [3, 6, 4], [3, 4, 4], [3, 5, 7], [3, 4, 5], [4, 6, 2], [5, 3, 6], [4, 5, 6], [5, 8, 5], [3, 4, 3], [1, 4, 4], [2, 6, 4], [5, 7, 6], [5, 6, 5], [5, 7, 6], [2, 8, 6], [4, 6, 4], [4, 3, 4], [5, 9, 6], [3, 7, 4], [3, 6, 4], [3, 6, 2], [3, 4, 4], [8, 4, 5], [4, 4, 5], [4, 6, 6], [4, 4, 3], [3, 7, 4], [4, 5, 5], [7, 6, 3], [7, 7, 4], [5, 6, 4], [3, 6, 3], [3, 6, 3], [2, 7, 5], [3, 5, 4], [4, 8, 5], [5, 6, 5], [5, 6, 5], [6, 4, 1], [3, 5, 4], [3, 5, 3], [5, 7, 3], [5, 6, 6], [4, 8, 5], [2, 6, 2], [4, 5, 3], [3, 7, 6], [2, 6, 4], [5, 4, 4], [3, 4, 6], [6, 4, 5], [3, 4, 3], [5, 4, 4], [2, 5, 4], [5, 5, 5], [3, 5, 4], [4, 8, 4], [3, 4, 3], [4, 8, 4], [4, 7, 4], [2, 5, 3], [4, 8, 7], [3, 5, 5], [4, 5, 5], [5, 2, 5], [5, 5, 3], [4, 6, 4], [2, 6, 3], [4, 4, 4], [3, 5, 5], [4, 8, 4], [6, 7, 4], [5, 5, 6], [5, 5, 4], [3, 7, 5], [4, 3, 4], [3, 5, 3], [3, 6, 6], [3, 5, 5], [4, 7, 5], [2, 3, 6], [5, 6, 5], [3, 4, 3], [4, 7, 5], [5, 7, 6], [2, 5, 4], [3, 8, 3], [2, 7, 5], [5, 9, 5], [6, 7, 6], [3, 6, 4], [3, 7, 4], [5, 3, 4], [3, 3, 4], [5, 5, 4], [4, 5, 5], [5, 6, 5], [4, 7, 5], [3, 6, 4], [5, 7, 5], [5, 6, 4], [4, 6, 3], [2, 6, 4], [3, 5, 4], [5, 4, 5], [3, 6, 3], [5, 7, 4], [2, 5, 4], [3, 3, 4], [4, 8, 6], [7, 8, 4], [2, 9, 3], [3, 6, 3], [3, 7, 3], [5, 5, 5], [3, 5, 6], [3, 6, 1], [4, 6, 5], [6, 3, 3], [3, 5, 3], [3, 8, 4], [1, 8, 6], [4, 8, 5], [3, 5, 7], [4, 4, 2], [3, 8, 7], [4, 3, 3], [4, 5, 6], [3, 7, 3], [3, 7, 5], [1, 5, 4], [3, 5, 4], [3, 3, 4], [2, 1, 4], [2, 4, 4], [4, 4, 5], [4, 5, 3], [5, 4, 3], [4, 7, 4], [5, 6, 4], [2, 6, 5], [2, 5, 6], [3, 5, 4], [3, 5, 4], [3, 7, 4], [5, 6, 5], [4, 3, 4], [5, 5, 5], [2, 4, 2], [5, 5, 4], [3, 7, 7], [4, 6, 3], [3, 4, 2], [3, 5, 5], [5, 6, 4], [1, 4, 3], [3, 5, 5], [2, 5, 3], [3, 4, 4], [5, 4, 3], [3, 4, 4], [3, 2, 5], [6, 5, 4], [3, 5, 2], [4, 4, 3], [6, 3, 4], [3, 2, 2], [4, 5, 4], [4, 6, 2], [2, 4, 5], [4, 6, 4], [5, 7, 6], [3, 5, 3], [4, 5, 4], [4, 5, 4], [3, 6, 3], [6, 5, 5], [5, 5, 4], [3, 5, 5], [7, 6, 4], [6, 4, 5], [3, 5, 3], [4, 4, 6], [3, 5, 3], [3, 6, 6], [4, 5, 2], [5, 4, 3], [5, 6, 4], [5, 5, 3], [2, 6, 4], [6, 1, 3], [3, 4, 5], [2, 5, 7], [6, 7, 5], [7, 5, 6], [4, 8, 3], [4, 6, 4], [4, 2, 5], [5, 4, 2], [3, 5, 4], [5, 4, 5], [5, 6, 4], [3, 5, 6], [7, 6, 6], [2, 4, 3], [5, 2, 4], [8, 6, 3], [5, 5, 2], [2, 3, 4], [5, 5, 4], [5, 5, 3], [3, 4, 2], [2, 6, 3], [3, 3, 3], [5, 7, 5], [2, 7, 4], [3, 5, 5], [6, 4, 5], [4, 5, 5], [3, 6, 4], [3, 3, 3], [3, 5, 3], [4, 5, 3], [3, 5, 4], [2, 9, 5], [3, 7, 4], [2, 7, 2], [3, 3, 4], [8, 4, 4], [4, 5, 5], [5, 7, 6], [6, 4, 4], [5, 6, 3], [2, 6, 5], [4, 5, 6], [3, 6, 4], [3, 6, 5], [3, 4, 4], [3, 7, 4], [4, 3, 3], [3, 2, 5], [4, 6, 4], [4, 4, 3], [3, 5, 3], [4, 6, 4], [1, 6, 6], [4, 2, 5], [3, 7, 4], [4, 3, 4], [3, 6, 4], [5, 2, 4], [3, 5, 4], [3, 4, 5], [4, 7, 4], [3, 4, 4], [3, 7, 3], [3, 6, 4], [4, 6, 5], [2, 4, 3], [4, 4, 2], [4, 5, 3], [3, 6, 1], [3, 5, 1], [4, 4, 6], [3, 3, 3], [3, 3, 5], [4, 5, 3], [5, 6, 4], [4, 4, 4], [3, 6, 3], [8, 5, 3], [3, 8, 4], [2, 8, 5], [4, 6, 5], [3, 4, 3], [3, 4, 4], [4, 7, 6], [2, 4, 4], [3, 4, 6], [3, 4, 3], [2, 8, 6], [4, 4, 4], [5, 3, 4], [5, 5, 8], [4, 6, 6], [3, 6, 6], [3, 5, 4], [2, 3, 3], [2, 6, 1], [4, 3, 4], [3, 8, 5], [2, 4, 4], [3, 4, 5], [3, 6, 6], [4, 6, 5], [6, 4, 3], [5, 5, 3], [3, 3, 5], [4, 5, 2], [2, 5, 4], [3, 4, 2], [5, 3, 5], [2, 4, 4], [3, 6, 3], [5, 6, 7], [3, 6, 5], [4, 4, 2], [4, 6, 4], [2, 6, 4], [3, 6, 4], [4, 7, 2], [4, 8, 4], [4, 4, 5], [4, 6, 3], [5, 7, 6], [2, 4, 5], [3, 4, 7], [3, 6, 5], [2, 6, 4], [2, 7, 1], [6, 6, 4], [5, 4, 2], [4, 5, 4], [2, 5, 5], [3, 7, 5], [3, 3, 3], [4, 6, 4], [4, 6, 3], [4, 6, 5], [4, 4, 3], [3, 6, 3], [5, 5, 2], [3, 5, 5], [3, 4, 4], [4, 4, 3], [2, 4, 2], [3, 7, 2], [4, 6, 2], [4, 6, 4], [4, 3, 2], [5, 7, 5], [4, 4, 4], [4, 4, 3], [2, 5, 4], [4, 6, 4], [7, 6, 3], [2, 4, 3], [5, 7, 4], [2, 7, 3], [5, 4, 3], [3, 4, 3], [5, 6, 4], [6, 7, 6], [7, 7, 4], [4, 5, 4], [5, 6, 3], [3, 5, 4], [3, 3, 3], [4, 6, 3], [5, 2, 5], [3, 5, 4], [2, 4, 2], [4, 6, 4], [2, 5, 4], [2, 5, 3], [2, 4, 4], [4, 6, 7], [3, 6, 4], [4, 5, 5], [2, 6, 5], [3, 4, 4], [5, 5, 5], [2, 6, 4], [2, 3, 7], [4, 5, 5], [6, 5, 3], [4, 6, 4], [6, 3, 7], [3, 8, 6], [6, 6, 5], [4, 7, 5], [2, 4, 8], [4, 6, 5], [2, 5, 3], [3, 7, 4], [5, 6, 4], [3, 5, 4], [3, 3, 4], [4, 4, 4], [5, 5, 3], [4, 7, 4], [3, 3, 5], [2, 6, 6], [4, 6, 6], [4, 5, 4], [6, 2, 4], [5, 4, 5], [3, 7, 3], [3, 7, 4], [3, 7, 4], [6, 4, 3], [3, 5, 3], [4, 7, 4], [5, 5, 3], [4, 5, 4], [3, 5, 4], [2, 7, 3], [4, 4, 3], [4, 5, 3], [6, 6, 4], [5, 4, 4], [5, 6, 2], [4, 5, 2], [3, 4, 3], [5, 3, 6], [2, 4, 4], [2, 6, 4], [3, 5, 3], [5, 6, 4], [4, 4, 3], [3, 5, 3], [4, 6, 4], [4, 5, 4], [3, 3, 6], [5, 6, 6], [4, 7, 4], [4, 6, 6], [5, 6, 2], [4, 7, 4], [5, 4, 3], [3, 3, 3], [3, 4, 4], [4, 4, 5], [6, 3, 2], [3, 5, 4], [4, 8, 6], [3, 4, 2], [4, 5, 3], [3, 4, 5], [3, 4, 4], [4, 6, 4], [5, 5, 3], [3, 5, 4], [2, 4, 4], [6, 7, 6], [5, 5, 2], [5, 1, 5], [3, 5, 4], [2, 5, 4], [2, 5, 3], [2, 5, 4], [2, 5, 7], [5, 4, 2], [5, 5, 5], [2, 5, 3], [4, 5, 4], [3, 3, 4], [3, 6, 4], [5, 3, 7], [5, 4, 3], [6, 5, 3], [4, 3, 3], [3, 4, 5], [4, 4, 8], [2, 2, 5], [5, 6, 6], [2, 6, 2], [2, 5, 4], [2, 6, 4], [4, 4, 3], [3, 6, 3], [3, 4, 4], [2, 6, 4], [6, 5, 2], [3, 7, 4], [4, 5, 6], [4, 4, 4], [5, 6, 6], [5, 2, 7], [3, 5, 4], [3, 5, 3], [7, 6, 4], [2, 3, 3], [2, 4, 4], [4, 7, 6], [4, 3, 7], [5, 8, 4], [3, 5, 3], [2, 6, 4], [3, 6, 2], [4, 5, 2], [3, 6, 3], [2, 4, 3], [4, 6, 4], [3, 5, 5], [2, 4, 3], [2, 3, 2], [3, 2, 4], [4, 6, 5], [3, 4, 5], [5, 6, 4], [4, 3, 3], [3, 4, 4], [3, 4, 4], [2, 7, 1], [3, 3, 2], [4, 6, 5], [4, 8, 6], [4, 4, 5], [4, 5, 5], [5, 6, 6], [4, 7, 5], [2, 4, 5], [3, 5, 2], [3, 4, 5], [4, 4, 5], [2, 4, 4], [3, 5, 5], [2, 3, 2], [4, 7, 5], [2, 3, 5], [3, 5, 3], [5, 3, 4], [2, 4, 6], [3, 3, 5], [4, 2, 3], [4, 7, 4], [4, 5, 3], [4, 6, 3], [2, 6, 6], [5, 2, 5], [2, 5, 3], [5, 8, 3], [3, 3, 4], [3, 6, 4], [2, 7, 2], [4, 10, 6], [2, 6, 4], [4, 9, 5], [2, 6, 3], [3, 8, 2], [5, 4, 3], [5, 5, 4], [5, 6, 3], [4, 2, 4], [2, 5, 4], [4, 8, 5], [5, 8, 3], [2, 4, 4], [1, 5, 4], [5, 2, 6], [3, 4, 4], [3, 6, 4], [3, 6, 6], [4, 5, 3], [4, 6, 2], [2, 6, 2], [6, 3, 5], [2, 4, 2], [5, 5, 5], [3, 6, 4], [2, 3, 6], [3, 4, 4], [3, 4, 5], [3, 5, 6], [4, 3, 3], [6, 7, 5], [3, 2, 2], [5, 5, 3], [2, 5, 6], [4, 3, 2], [3, 5, 5], [8, 2, 3], [3, 8, 3], [4, 6, 3], [4, 4, 4], [3, 4, 5], [2, 5, 5], [4, 4, 4], [4, 4, 2], [4, 6, 3], [4, 5, 2], [4, 3, 3], [3, 3, 4], [2, 4, 6], [5, 5, 3], [4, 7, 4], [4, 5, 3], [5, 4, 5], [4, 6, 5], [4, 6, 4], [4, 6, 2], [5, 8, 4], [4, 5, 4], [4, 4, 6], [3, 4, 4], [5, 7, 4], [2, 4, 1], [3, 7, 6], [3, 5, 4], [2, 5, 4], [3, 2, 6], [3, 5, 5], [4, 5, 3], [5, 4, 5], [2, 4, 6], [4, 5, 4], [3, 7, 5], [2, 7, 3], [2, 3, 4], [4, 5, 3], [4, 2, 7], [4, 5, 4], [2, 6, 5], [3, 4, 4], [3, 5, 4], [3, 3, 2], [2, 3, 4], [3, 4, 5], [3, 4, 6], [3, 5, 5], [4, 6, 3], [3, 4, 4], [7, 6, 4], [3, 5, 3], [4, 5, 3], [2, 4, 7], [4, 4, 3], [4, 5, 3], [5, 2, 3], [3, 4, 3], [4, 8, 6], [5, 6, 7], [4, 5, 5], [3, 4, 4], [3, 4, 6], [3, 7, 4], [4, 7, 5], [3, 8, 4], [4, 5, 4], [4, 4, 5], [4, 5, 5], [3, 6, 6], [3, 6, 5], [3, 6, 4], [3, 6, 4], [6, 4, 3], [4, 3, 4], [3, 2, 5], [4, 7, 4], [4, 6, 7], [3, 6, 4], [3, 5, 3], [4, 5, 4], [7, 5, 4], [2, 5, 2], [3, 5, 4], [4, 5, 3], [3, 4, 4], [4, 4, 4], [4, 4, 7], [5, 5, 3], [4, 9, 5], [3, 5, 4], [2, 4, 5], [2, 4, 2], [5, 5, 5], [8, 4, 3], [2, 4, 7], [3, 7, 4], [5, 5, 6], [2, 5, 3], [2, 6, 4], [3, 5, 3], [3, 4, 5], [2, 4, 2], [2, 5, 5], [3, 3, 8], [4, 2, 5], [2, 6, 3], [2, 4, 4], [3, 7, 4], [2, 4, 3], [3, 6, 4], [4, 4, 5], [4, 9, 4], [3, 5, 3], [3, 5, 3], [4, 4, 4], [3, 4, 8], [4, 4, 6], [3, 5, 5], [5, 5, 3], [3, 5, 5], [3, 5, 3], [3, 3, 3], [5, 2, 5], [2, 8, 7], [4, 5, 3], [3, 5, 4], [2, 4, 4], [6, 4, 5], [2, 5, 6], [5, 6, 6], [3, 6, 4], [6, 4, 4], [2, 4, 6], [3, 4, 4], [4, 4, 5], [3, 6, 3], [4, 6, 3], [3, 4, 4], [3, 4, 3], [4, 4, 5], [3, 8, 3], [3, 4, 3], [4, 6, 2], [2, 2, 3], [3, 6, 4], [6, 5, 5], [3, 5, 2], [2, 4, 2], [2, 7, 3], [5, 4, 4], [4, 3, 4], [5, 5, 5], [6, 5, 4], [6, 4, 3], [5, 4, 4], [4, 4, 4], [4, 5, 2], [4, 4, 4], [3, 7, 3], [3, 3, 5], [4, 6, 6], [3, 6, 3], [4, 8, 4], [2, 5, 4], [2, 4, 6], [2, 2, 7], [3, 4, 2], [3, 5, 4], [4, 4, 4], [4, 6, 4], [3, 5, 4], [3, 7, 5], [3, 5, 2], [4, 6, 3], [3, 4, 3], [3, 5, 4], [4, 7, 3], [3, 5, 4], [3, 5, 3], [7, 4, 2], [4, 6, 4], [3, 5, 4], [2, 5, 2], [3, 4, 3], [4, 3, 4], [3, 8, 6], [4, 8, 5], [8, 6, 5], [5, 6, 2], [2, 5, 4], [3, 5, 4], [3, 5, 3], [4, 2, 4], [3, 5, 4], [4, 5, 4], [2, 6, 4], [5, 3, 5], [3, 4, 4], [4, 7, 5], [2, 7, 5], [4, 5, 3], [4, 4, 5], [5, 2, 7], [3, 4, 5], [4, 5, 4], [3, 8, 6], [2, 5, 5], [5, 5, 5], [3, 6, 4], [4, 6, 4], [3, 3, 2], [5, 3, 4], [3, 6, 4], [4, 5, 6], [4, 4, 3], [5, 7, 4], [3, 5, 4], [5, 5, 4], [4, 4, 5]]\n"
          ],
          "name": "stdout"
        }
      ]
    },
    {
      "cell_type": "markdown",
      "metadata": {
        "id": "MMd6KkMGmnB5",
        "colab_type": "text"
      },
      "source": [
        "Finally, we can generate a graph to see the syllable distribution for each line. Analyzing the graphs, we can determine the mode and mean values for the syllable count of each line."
      ]
    },
    {
      "cell_type": "code",
      "metadata": {
        "id": "vg1bON61rcqz",
        "colab_type": "code",
        "outputId": "df1f77fa-0396-4043-b2ce-ad02cc57419b",
        "colab": {
          "base_uri": "https://localhost:8080/",
          "height": 359
        }
      },
      "source": [
        "gpt2.make_syllable_graphs(gpt2.get_syllables_list_csv(corpus_path))"
      ],
      "execution_count": 11,
      "outputs": [
        {
          "output_type": "stream",
          "text": [
            "Mean syllables in line 1: 3.643223443223443\n",
            "Mean syllables in line 2: 5.122710622710622\n",
            "Mean syllables in line 3: 4.1471306471306475\n"
          ],
          "name": "stdout"
        },
        {
          "output_type": "display_data",
          "data": {
            "image/png": "[encoded data removed]",
            "text/plain": [
              "<Figure size 1080x288 with 3 Axes>"
            ]
          },
          "metadata": {
            "tags": [],
            "needs_background": "light"
          }
        }
      ]
    },
    {
      "cell_type": "markdown",
      "metadata": {
        "id": "Yw_wmWpB0Imz",
        "colab_type": "text"
      },
      "source": [
        "As we can see, the input data does not conform to the typically expected 5-7-5 structure. This is because this structure is applicable to the Japanese language, which counts sounds rather than syllables. In English, modern haiku writers have shed these constraints, and follow them only loosely.\n",
        "\n",
        "We can see that the mode of haiku occurrences per syllable for each line is actually '4-6-5', and the mean value for each line is '3.64-5.12-4.15'. Thankfully, this shouldn't complicate analyzing the output too much, because we can complete these same calculations on the output. Hopefully, the best output will have similar mode and mean values for the syllable count."
      ]
    },
    {
      "cell_type": "markdown",
      "metadata": {
        "id": "EgM7fVnWOS2G",
        "colab_type": "text"
      },
      "source": [
        "## Outputs - Greedy BFS\n",
        "First, we generate one poem for epochs 2-5. We skip epoch 1, because the output is typically incoherent or not usable. Then, we can count the number of syllables within a line, see how that changes with each epoch, and complete the operation for each line in a haiku."
      ]
    },
    {
      "cell_type": "code",
      "metadata": {
        "id": "Zzh9ON7l-o5-",
        "colab_type": "code",
        "colab": {}
      },
      "source": [
        "for i in range (1,5):\n",
        "  output = gpt2.generate(model, tokenizer, model_epoch=i, num_poems=2, file_type='csv', greedy=True)"
      ],
      "execution_count": 0,
      "outputs": []
    },
    {
      "cell_type": "code",
      "metadata": {
        "id": "mgAedJ1LPJQe",
        "colab_type": "code",
        "colab": {
          "base_uri": "https://localhost:8080/",
          "height": 363
        },
        "outputId": "03e874af-5002-4a96-bc77-ff6c795006dc"
      },
      "source": [
        "gpt2.analyze_greedy(num_poems=5)"
      ],
      "execution_count": 13,
      "outputs": [
        {
          "output_type": "stream",
          "text": [
            "[[2 3 3 3]\n",
            " [6 4 4 3]\n",
            " [3 4 4 4]]\n"
          ],
          "name": "stdout"
        },
        {
          "output_type": "display_data",
          "data": {
            "image/png": "[encoded data removed]",
            "text/plain": [
              "<Figure size 1080x288 with 3 Axes>"
            ]
          },
          "metadata": {
            "tags": [],
            "needs_background": "light"
          }
        }
      ]
    },
    {
      "cell_type": "markdown",
      "metadata": {
        "id": "rVkuGoAf0WDy",
        "colab_type": "text"
      },
      "source": [
        "Sadly, the model's perceived best output does not conform to the input data. However, we can examine other decoder methods and see if we get any better results."
      ]
    },
    {
      "cell_type": "markdown",
      "metadata": {
        "id": "-rjkRADdi0SO",
        "colab_type": "text"
      },
      "source": [
        "## Outputs - Beam Search\n",
        "We can also generate some outputs for epochs 2-5 for the beam search decoder method. Then, we can generate line graphs to see how the mean number of syllables per line stacks up against our input data."
      ]
    },
    {
      "cell_type": "code",
      "metadata": {
        "id": "m2c9SHmAlKVF",
        "colab_type": "code",
        "colab": {}
      },
      "source": [
        "for i in range (1,5):\n",
        "  gpt2.generate_wrapper(model, tokenizer, model_epoch=i, num_poems=10, file_type='csv',\n",
        "                      num_beams=10, \n",
        "                      no_repeat_ngram_size=2, \n",
        "                      max_length=50)"
      ],
      "execution_count": 0,
      "outputs": []
    },
    {
      "cell_type": "code",
      "metadata": {
        "id": "rsElCThXlKXO",
        "colab_type": "code",
        "colab": {
          "base_uri": "https://localhost:8080/",
          "height": 312
        },
        "outputId": "72fdd740-adaa-43f0-9d0e-4f7e96f6de91"
      },
      "source": [
        "gpt2.analyze_linegraph(poems_folder=\"wrapper_outputs\", line_title=\"Beam mean syllables\")"
      ],
      "execution_count": 15,
      "outputs": [
        {
          "output_type": "display_data",
          "data": {
            "image/png": "[encoded data removed]",
            "text/plain": [
              "<Figure size 1080x288 with 3 Axes>"
            ]
          },
          "metadata": {
            "tags": [],
            "needs_background": "light"
          }
        }
      ]
    },
    {
      "cell_type": "markdown",
      "metadata": {
        "id": "qdIsw5_Z0eq5",
        "colab_type": "text"
      },
      "source": [
        "Once again, the outputs do not tend to get better over time. Rather, it seems the syllable count in each line is somewhat random. Evidently, the model is not learning to produce better haikus."
      ]
    },
    {
      "cell_type": "markdown",
      "metadata": {
        "colab_type": "text",
        "id": "_FcqQEhelTae"
      },
      "source": [
        "## Outputs - Top P Search\n",
        "Let's do the same analysis on our top-p decoder function, for epochs 2-5."
      ]
    },
    {
      "cell_type": "code",
      "metadata": {
        "colab_type": "code",
        "id": "sM8dkP-dlTaf",
        "colab": {}
      },
      "source": [
        "for i in range (1,5):\n",
        "  gpt2.generate(model, tokenizer, model_epoch=i, num_poems=10, file_type='csv')"
      ],
      "execution_count": 0,
      "outputs": []
    },
    {
      "cell_type": "code",
      "metadata": {
        "colab_type": "code",
        "id": "zrBHW7QzlTai",
        "colab": {
          "base_uri": "https://localhost:8080/",
          "height": 312
        },
        "outputId": "f6eeb8b7-4433-4a85-ae8f-4220539a01fa"
      },
      "source": [
        "gpt2.analyze_linegraph(line_title=\"Top-p mean syllables\")"
      ],
      "execution_count": 17,
      "outputs": [
        {
          "output_type": "display_data",
          "data": {
            "image/png": "[encoded data removed]",
            "text/plain": [
              "<Figure size 1080x288 with 3 Axes>"
            ]
          },
          "metadata": {
            "tags": [],
            "needs_background": "light"
          }
        }
      ]
    },
    {
      "cell_type": "markdown",
      "metadata": {
        "id": "L5dMVSth0ng1",
        "colab_type": "text"
      },
      "source": [
        "For this last experiment, we are able to see much better, more readable outputs.The same trend is observed as with the other two decoder methods.\n",
        "\n",
        "However, the model does show promise in generating interesting poems. Perhaps with a larger dataset or further development efforts, the model could improve. For further information, please refer to the project report."
      ]
    }
  ]
}